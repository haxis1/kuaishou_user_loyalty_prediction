{
 "cells": [
  {
   "cell_type": "code",
   "execution_count": null,
   "metadata": {
    "collapsed": true
   },
   "outputs": [],
   "source": [
    "dataset_split"
   ]
  },
  {
   "cell_type": "code",
   "execution_count": null,
   "metadata": {
    "collapsed": true
   },
   "outputs": [],
   "source": [
    "最近写的几个ipynb都非常长，就容易卡。\n",
    "——这个ipynb【只负责】：\n",
    "将整体的数据集分成3个集合：train1，train2，test\n",
    "共5个csv：3个集合各1个，2个train的y各1个"
   ]
  },
  {
   "cell_type": "code",
   "execution_count": null,
   "metadata": {
    "collapsed": true
   },
   "outputs": [],
   "source": [
    "数据集B\n",
    "分割方式和数据集A一致"
   ]
  },
  {
   "cell_type": "code",
   "execution_count": null,
   "metadata": {
    "collapsed": true
   },
   "outputs": [],
   "source": [
    "分割标准：\n",
    "以1-16数据 预测17-23某用户是否活跃\n",
    "以8-23数据 预测24-30某用户是否活跃\n",
    "以15-30数据 预测31-37某用户是否活跃"
   ]
  },
  {
   "cell_type": "code",
   "execution_count": 1,
   "metadata": {
    "ExecuteTime": {
     "end_time": "2018-06-27T02:06:11.170366Z",
     "start_time": "2018-06-27T02:06:07.942920Z"
    },
    "collapsed": true
   },
   "outputs": [],
   "source": [
    "import numpy as np\n",
    "import pandas as pd"
   ]
  },
  {
   "cell_type": "code",
   "execution_count": 2,
   "metadata": {
    "ExecuteTime": {
     "end_time": "2018-06-27T02:14:02.490290Z",
     "start_time": "2018-06-27T02:13:52.286664Z"
    },
    "collapsed": true
   },
   "outputs": [],
   "source": [
    "user_activity_log = pd.read_csv('dataset_B_for_model_method/origin_dataset/user_activity_log.csv')\n",
    "table123 = pd.read_csv('dataset_B_for_model_method/origin_dataset/table_merge_first_3.csv')"
   ]
  },
  {
   "cell_type": "code",
   "execution_count": 3,
   "metadata": {
    "ExecuteTime": {
     "end_time": "2018-06-27T02:14:07.613454Z",
     "start_time": "2018-06-27T02:14:07.593400Z"
    }
   },
   "outputs": [
    {
     "data": {
      "text/html": [
       "<div>\n",
       "<style>\n",
       "    .dataframe thead tr:only-child th {\n",
       "        text-align: right;\n",
       "    }\n",
       "\n",
       "    .dataframe thead th {\n",
       "        text-align: left;\n",
       "    }\n",
       "\n",
       "    .dataframe tbody tr th {\n",
       "        vertical-align: top;\n",
       "    }\n",
       "</style>\n",
       "<table border=\"1\" class=\"dataframe\">\n",
       "  <thead>\n",
       "    <tr style=\"text-align: right;\">\n",
       "      <th></th>\n",
       "      <th>user_id</th>\n",
       "      <th>register_day</th>\n",
       "      <th>register_type</th>\n",
       "      <th>device_type</th>\n",
       "      <th>app_launch_day</th>\n",
       "      <th>video_create_day</th>\n",
       "      <th>video_create_day_count</th>\n",
       "    </tr>\n",
       "  </thead>\n",
       "  <tbody>\n",
       "    <tr>\n",
       "      <th>0</th>\n",
       "      <td>8</td>\n",
       "      <td>9.0</td>\n",
       "      <td>0.0</td>\n",
       "      <td>34.0</td>\n",
       "      <td>9.0</td>\n",
       "      <td>NaN</td>\n",
       "      <td>NaN</td>\n",
       "    </tr>\n",
       "    <tr>\n",
       "      <th>1</th>\n",
       "      <td>8</td>\n",
       "      <td>9.0</td>\n",
       "      <td>0.0</td>\n",
       "      <td>34.0</td>\n",
       "      <td>10.0</td>\n",
       "      <td>NaN</td>\n",
       "      <td>NaN</td>\n",
       "    </tr>\n",
       "    <tr>\n",
       "      <th>2</th>\n",
       "      <td>8</td>\n",
       "      <td>9.0</td>\n",
       "      <td>0.0</td>\n",
       "      <td>34.0</td>\n",
       "      <td>11.0</td>\n",
       "      <td>NaN</td>\n",
       "      <td>NaN</td>\n",
       "    </tr>\n",
       "    <tr>\n",
       "      <th>3</th>\n",
       "      <td>8</td>\n",
       "      <td>9.0</td>\n",
       "      <td>0.0</td>\n",
       "      <td>34.0</td>\n",
       "      <td>13.0</td>\n",
       "      <td>NaN</td>\n",
       "      <td>NaN</td>\n",
       "    </tr>\n",
       "    <tr>\n",
       "      <th>4</th>\n",
       "      <td>8</td>\n",
       "      <td>9.0</td>\n",
       "      <td>0.0</td>\n",
       "      <td>34.0</td>\n",
       "      <td>18.0</td>\n",
       "      <td>NaN</td>\n",
       "      <td>NaN</td>\n",
       "    </tr>\n",
       "  </tbody>\n",
       "</table>\n",
       "</div>"
      ],
      "text/plain": [
       "   user_id  register_day  register_type  device_type  app_launch_day  \\\n",
       "0        8           9.0            0.0         34.0             9.0   \n",
       "1        8           9.0            0.0         34.0            10.0   \n",
       "2        8           9.0            0.0         34.0            11.0   \n",
       "3        8           9.0            0.0         34.0            13.0   \n",
       "4        8           9.0            0.0         34.0            18.0   \n",
       "\n",
       "   video_create_day  video_create_day_count  \n",
       "0               NaN                     NaN  \n",
       "1               NaN                     NaN  \n",
       "2               NaN                     NaN  \n",
       "3               NaN                     NaN  \n",
       "4               NaN                     NaN  "
      ]
     },
     "execution_count": 3,
     "metadata": {},
     "output_type": "execute_result"
    }
   ],
   "source": [
    "table123.head()"
   ]
  },
  {
   "cell_type": "code",
   "execution_count": 4,
   "metadata": {
    "ExecuteTime": {
     "end_time": "2018-06-27T02:14:14.187480Z",
     "start_time": "2018-06-27T02:14:14.172941Z"
    }
   },
   "outputs": [
    {
     "data": {
      "text/html": [
       "<div>\n",
       "<style>\n",
       "    .dataframe thead tr:only-child th {\n",
       "        text-align: right;\n",
       "    }\n",
       "\n",
       "    .dataframe thead th {\n",
       "        text-align: left;\n",
       "    }\n",
       "\n",
       "    .dataframe tbody tr th {\n",
       "        vertical-align: top;\n",
       "    }\n",
       "</style>\n",
       "<table border=\"1\" class=\"dataframe\">\n",
       "  <thead>\n",
       "    <tr style=\"text-align: right;\">\n",
       "      <th></th>\n",
       "      <th>user_id</th>\n",
       "      <th>activity_day</th>\n",
       "      <th>activity_page</th>\n",
       "      <th>video_id</th>\n",
       "      <th>author_id</th>\n",
       "      <th>action_type</th>\n",
       "      <th>activity_count</th>\n",
       "    </tr>\n",
       "  </thead>\n",
       "  <tbody>\n",
       "    <tr>\n",
       "      <th>0</th>\n",
       "      <td>8</td>\n",
       "      <td>9</td>\n",
       "      <td>3</td>\n",
       "      <td>1955966</td>\n",
       "      <td>309219</td>\n",
       "      <td>0</td>\n",
       "      <td>2</td>\n",
       "    </tr>\n",
       "    <tr>\n",
       "      <th>1</th>\n",
       "      <td>8</td>\n",
       "      <td>9</td>\n",
       "      <td>0</td>\n",
       "      <td>1340816</td>\n",
       "      <td>12378</td>\n",
       "      <td>0</td>\n",
       "      <td>1</td>\n",
       "    </tr>\n",
       "    <tr>\n",
       "      <th>2</th>\n",
       "      <td>8</td>\n",
       "      <td>9</td>\n",
       "      <td>0</td>\n",
       "      <td>3488372</td>\n",
       "      <td>107008</td>\n",
       "      <td>0</td>\n",
       "      <td>1</td>\n",
       "    </tr>\n",
       "    <tr>\n",
       "      <th>3</th>\n",
       "      <td>8</td>\n",
       "      <td>9</td>\n",
       "      <td>0</td>\n",
       "      <td>1705402</td>\n",
       "      <td>37639</td>\n",
       "      <td>0</td>\n",
       "      <td>2</td>\n",
       "    </tr>\n",
       "    <tr>\n",
       "      <th>4</th>\n",
       "      <td>8</td>\n",
       "      <td>9</td>\n",
       "      <td>0</td>\n",
       "      <td>3710937</td>\n",
       "      <td>1312718</td>\n",
       "      <td>0</td>\n",
       "      <td>1</td>\n",
       "    </tr>\n",
       "  </tbody>\n",
       "</table>\n",
       "</div>"
      ],
      "text/plain": [
       "   user_id  activity_day  activity_page  video_id  author_id  action_type  \\\n",
       "0        8             9              3   1955966     309219            0   \n",
       "1        8             9              0   1340816      12378            0   \n",
       "2        8             9              0   3488372     107008            0   \n",
       "3        8             9              0   1705402      37639            0   \n",
       "4        8             9              0   3710937    1312718            0   \n",
       "\n",
       "   activity_count  \n",
       "0               2  \n",
       "1               1  \n",
       "2               1  \n",
       "3               2  \n",
       "4               1  "
      ]
     },
     "execution_count": 4,
     "metadata": {},
     "output_type": "execute_result"
    }
   ],
   "source": [
    "user_activity_log.head()"
   ]
  },
  {
   "cell_type": "code",
   "execution_count": null,
   "metadata": {
    "collapsed": true
   },
   "outputs": [],
   "source": [
    "说明：\n",
    "采集信息的区间如上所述。\n",
    "但是，在总和完所有的特征之后，还要把各自区间的注册user_id加进来——\n",
    "因为存在这种情况：\n",
    "在15到30号期间，这些user_id没有行为，登录，视频信息，\n",
    "这些user_id在15号之前注册，可能有过活动，但是在15到30号没有活动。\n",
    "这些user_id是要被加入当做一部分样本的——【这样才合理】"
   ]
  },
  {
   "cell_type": "code",
   "execution_count": null,
   "metadata": {
    "collapsed": true
   },
   "outputs": [],
   "source": [
    "开始提取x"
   ]
  },
  {
   "cell_type": "code",
   "execution_count": null,
   "metadata": {
    "collapsed": true
   },
   "outputs": [],
   "source": [
    "table123"
   ]
  },
  {
   "cell_type": "code",
   "execution_count": 5,
   "metadata": {
    "ExecuteTime": {
     "end_time": "2018-06-27T02:16:01.926722Z",
     "start_time": "2018-06-27T02:16:01.886087Z"
    },
    "collapsed": true
   },
   "outputs": [],
   "source": [
    "table123_1_16 = table123[table123['app_launch_day'] < 17]\n",
    "table123_8_23 = table123[table123['app_launch_day'] < 24]\n",
    "table123_8_23 = table123_8_23[table123_8_23['app_launch_day'] > 7]\n",
    "table123_15_30 = table123[table123['app_launch_day'] > 14]"
   ]
  },
  {
   "cell_type": "code",
   "execution_count": 6,
   "metadata": {
    "ExecuteTime": {
     "end_time": "2018-06-27T02:16:05.492577Z",
     "start_time": "2018-06-27T02:16:05.488064Z"
    }
   },
   "outputs": [
    {
     "data": {
      "text/plain": [
       "((79630, 7), (133965, 7), (188810, 7), (252516, 7))"
      ]
     },
     "execution_count": 6,
     "metadata": {},
     "output_type": "execute_result"
    }
   ],
   "source": [
    "table123_1_16.shape,table123_8_23.shape,table123_15_30.shape,table123.shape"
   ]
  },
  {
   "cell_type": "code",
   "execution_count": null,
   "metadata": {
    "collapsed": true
   },
   "outputs": [],
   "source": [
    "关于数据集shape的说明：\n",
    "很明显，最后一个table的条目数最多，180000,比70000多了很多了。\n",
    "原因也很简单，从1号到30号，是不停有新用户注册的，因此登录条目数，自然会变多。\n",
    "重要的是，时间区间3个dataset保持一致即可。"
   ]
  },
  {
   "cell_type": "code",
   "execution_count": null,
   "metadata": {
    "collapsed": true
   },
   "outputs": [],
   "source": [
    "table4"
   ]
  },
  {
   "cell_type": "code",
   "execution_count": 7,
   "metadata": {
    "ExecuteTime": {
     "end_time": "2018-06-27T02:16:10.921673Z",
     "start_time": "2018-06-27T02:16:08.798967Z"
    },
    "collapsed": true
   },
   "outputs": [],
   "source": [
    "act_1_16 = user_activity_log[user_activity_log['activity_day'] < 17]\n",
    "act_8_23 = user_activity_log[user_activity_log['activity_day'] < 24]\n",
    "act_8_23 = act_8_23[act_8_23['activity_day'] > 7]\n",
    "act_15_30 =  user_activity_log[user_activity_log['activity_day'] > 14]"
   ]
  },
  {
   "cell_type": "code",
   "execution_count": 8,
   "metadata": {
    "ExecuteTime": {
     "end_time": "2018-06-27T02:16:12.267466Z",
     "start_time": "2018-06-27T02:16:12.262953Z"
    }
   },
   "outputs": [
    {
     "data": {
      "text/plain": [
       "((5070537, 7), (9204266, 7), (13576708, 7), (17635062, 7))"
      ]
     },
     "execution_count": 8,
     "metadata": {},
     "output_type": "execute_result"
    }
   ],
   "source": [
    "act_1_16.shape,act_8_23.shape,act_15_30.shape,user_activity_log.shape"
   ]
  },
  {
   "cell_type": "code",
   "execution_count": null,
   "metadata": {
    "collapsed": true
   },
   "outputs": [],
   "source": [
    "分别存储x"
   ]
  },
  {
   "cell_type": "code",
   "execution_count": 9,
   "metadata": {
    "ExecuteTime": {
     "end_time": "2018-06-27T02:18:49.886904Z",
     "start_time": "2018-06-27T02:16:40.418216Z"
    },
    "collapsed": true
   },
   "outputs": [],
   "source": [
    "table123_1_16.to_csv('dataset_B_for_model_method/split_origin_dataset/table123_1_16.csv',index = False)\n",
    "act_1_16.to_csv('dataset_B_for_model_method/split_origin_dataset/act_1_16.csv',index = False)\n",
    "table123_8_23.to_csv('dataset_B_for_model_method/split_origin_dataset/table123_8_23.csv',index = False)\n",
    "act_8_23.to_csv('dataset_B_for_model_method/split_origin_dataset/act_8_23.csv',index = False)\n",
    "table123_15_30.to_csv('dataset_B_for_model_method/split_origin_dataset/table123_15_30.csv',index = False)\n",
    "act_15_30.to_csv('dataset_B_for_model_method/split_origin_dataset/act_15_30.csv',index = False)"
   ]
  },
  {
   "cell_type": "code",
   "execution_count": null,
   "metadata": {
    "collapsed": true
   },
   "outputs": [],
   "source": [
    "设计y\n",
    "——注意显然只有两个"
   ]
  },
  {
   "cell_type": "code",
   "execution_count": null,
   "metadata": {
    "collapsed": true
   },
   "outputs": [],
   "source": [
    "提取出在范围内的user名单（包括17-23号注册的用户）"
   ]
  },
  {
   "cell_type": "code",
   "execution_count": 10,
   "metadata": {
    "ExecuteTime": {
     "end_time": "2018-06-27T02:19:12.819803Z",
     "start_time": "2018-06-27T02:19:12.769148Z"
    },
    "collapsed": true
   },
   "outputs": [],
   "source": [
    "temp = table123[table123['app_launch_day'] > 16]\n",
    "temp = temp[temp['app_launch_day'] < 24]\n",
    "temp = temp['user_id']\n",
    "temp1 = set(list(temp))"
   ]
  },
  {
   "cell_type": "code",
   "execution_count": 11,
   "metadata": {
    "ExecuteTime": {
     "end_time": "2018-06-27T02:19:16.117282Z",
     "start_time": "2018-06-27T02:19:13.228336Z"
    },
    "collapsed": true
   },
   "outputs": [],
   "source": [
    "temp = user_activity_log[user_activity_log['activity_day'] > 16]\n",
    "temp = temp[temp['activity_day'] < 24]\n",
    "temp = temp['user_id']\n",
    "temp2 = set(list(temp))"
   ]
  },
  {
   "cell_type": "code",
   "execution_count": null,
   "metadata": {
    "collapsed": true
   },
   "outputs": [],
   "source": [
    "取两个数据集的交集 |"
   ]
  },
  {
   "cell_type": "code",
   "execution_count": 12,
   "metadata": {
    "ExecuteTime": {
     "end_time": "2018-06-27T02:19:19.694659Z",
     "start_time": "2018-06-27T02:19:19.685122Z"
    },
    "collapsed": true
   },
   "outputs": [],
   "source": [
    "origin_17_23 = temp1 | temp2"
   ]
  },
  {
   "cell_type": "code",
   "execution_count": 13,
   "metadata": {
    "ExecuteTime": {
     "end_time": "2018-06-27T02:19:20.963641Z",
     "start_time": "2018-06-27T02:19:20.958637Z"
    },
    "collapsed": true
   },
   "outputs": [],
   "source": [
    "origin_17_23 = list(origin_17_23)"
   ]
  },
  {
   "cell_type": "code",
   "execution_count": 14,
   "metadata": {
    "ExecuteTime": {
     "end_time": "2018-06-27T02:19:22.167773Z",
     "start_time": "2018-06-27T02:19:22.158247Z"
    }
   },
   "outputs": [
    {
     "data": {
      "text/plain": [
       "(25841, 22625, 25842)"
      ]
     },
     "execution_count": 14,
     "metadata": {},
     "output_type": "execute_result"
    }
   ],
   "source": [
    "len(list(temp1)),len(list(temp2)),len(origin_17_23)"
   ]
  },
  {
   "cell_type": "code",
   "execution_count": null,
   "metadata": {
    "collapsed": true
   },
   "outputs": [],
   "source": [
    "上边获得的是17-23的所有有记录的用户，现在要提取出注册日期在1-16号的"
   ]
  },
  {
   "cell_type": "code",
   "execution_count": 15,
   "metadata": {
    "ExecuteTime": {
     "end_time": "2018-06-27T02:19:35.790192Z",
     "start_time": "2018-06-27T02:19:35.773178Z"
    }
   },
   "outputs": [
    {
     "data": {
      "text/plain": [
       "23923"
      ]
     },
     "execution_count": 15,
     "metadata": {},
     "output_type": "execute_result"
    }
   ],
   "source": [
    "user_1_16 = list(set(list(table123_1_16['user_id'])))\n",
    "len(user_1_16)"
   ]
  },
  {
   "cell_type": "code",
   "execution_count": null,
   "metadata": {
    "collapsed": true
   },
   "outputs": [],
   "source": [
    "取两者的交集 &"
   ]
  },
  {
   "cell_type": "code",
   "execution_count": 16,
   "metadata": {
    "ExecuteTime": {
     "end_time": "2018-06-27T02:19:49.652326Z",
     "start_time": "2018-06-27T02:19:49.639795Z"
    },
    "collapsed": true
   },
   "outputs": [],
   "source": [
    "active_1_16 = set(user_1_16) & set(origin_17_23)"
   ]
  },
  {
   "cell_type": "code",
   "execution_count": 17,
   "metadata": {
    "ExecuteTime": {
     "end_time": "2018-06-27T02:19:51.912761Z",
     "start_time": "2018-06-27T02:19:51.908750Z"
    },
    "collapsed": true
   },
   "outputs": [],
   "source": [
    "active_1_16 = list(active_1_16)"
   ]
  },
  {
   "cell_type": "code",
   "execution_count": 18,
   "metadata": {
    "ExecuteTime": {
     "end_time": "2018-06-27T02:19:52.579876Z",
     "start_time": "2018-06-27T02:19:52.574863Z"
    }
   },
   "outputs": [
    {
     "data": {
      "text/plain": [
       "(12430, 23923, 25842)"
      ]
     },
     "execution_count": 18,
     "metadata": {},
     "output_type": "execute_result"
    }
   ],
   "source": [
    "len(active_1_16),len(user_1_16),len(origin_17_23)"
   ]
  },
  {
   "cell_type": "code",
   "execution_count": null,
   "metadata": {
    "collapsed": true
   },
   "outputs": [],
   "source": [
    "结论：12430/23923,近50%的活跃率\n",
    "——和数据集A类似的比例"
   ]
  },
  {
   "cell_type": "code",
   "execution_count": null,
   "metadata": {
    "collapsed": true
   },
   "outputs": [],
   "source": [
    "接着是24-30的"
   ]
  },
  {
   "cell_type": "code",
   "execution_count": 19,
   "metadata": {
    "ExecuteTime": {
     "end_time": "2018-06-27T02:20:46.855269Z",
     "start_time": "2018-06-27T02:20:46.827645Z"
    },
    "collapsed": true
   },
   "outputs": [],
   "source": [
    "temp = table123[table123['app_launch_day'] > 23]\n",
    "temp = temp['user_id']\n",
    "temp1 = set(list(temp))"
   ]
  },
  {
   "cell_type": "code",
   "execution_count": 20,
   "metadata": {
    "ExecuteTime": {
     "end_time": "2018-06-27T02:20:48.408194Z",
     "start_time": "2018-06-27T02:20:47.382396Z"
    },
    "collapsed": true
   },
   "outputs": [],
   "source": [
    "temp = user_activity_log[user_activity_log['activity_day'] > 23]\n",
    "temp = temp['user_id']\n",
    "temp2 = set(list(temp))"
   ]
  },
  {
   "cell_type": "code",
   "execution_count": 21,
   "metadata": {
    "ExecuteTime": {
     "end_time": "2018-06-27T02:20:50.290433Z",
     "start_time": "2018-06-27T02:20:50.272385Z"
    }
   },
   "outputs": [
    {
     "data": {
      "text/plain": [
       "(32376, 27415, 32383)"
      ]
     },
     "execution_count": 21,
     "metadata": {},
     "output_type": "execute_result"
    }
   ],
   "source": [
    "origin_24_30 = temp1 | temp2\n",
    "origin_24_30 = list(origin_24_30)\n",
    "len(list(temp1)),len(list(temp2)),len(origin_24_30)"
   ]
  },
  {
   "cell_type": "code",
   "execution_count": 22,
   "metadata": {
    "ExecuteTime": {
     "end_time": "2018-06-27T02:20:51.309299Z",
     "start_time": "2018-06-27T02:20:51.287257Z"
    }
   },
   "outputs": [
    {
     "data": {
      "text/plain": [
       "33936"
      ]
     },
     "execution_count": 22,
     "metadata": {},
     "output_type": "execute_result"
    }
   ],
   "source": [
    "user_8_23 = list(set(list(table123_8_23['user_id'])))\n",
    "len(user_8_23)"
   ]
  },
  {
   "cell_type": "code",
   "execution_count": 23,
   "metadata": {
    "ExecuteTime": {
     "end_time": "2018-06-27T02:20:53.306223Z",
     "start_time": "2018-06-27T02:20:53.287717Z"
    }
   },
   "outputs": [
    {
     "data": {
      "text/plain": [
       "(17996, 33936, 32383)"
      ]
     },
     "execution_count": 23,
     "metadata": {},
     "output_type": "execute_result"
    }
   ],
   "source": [
    "active_8_23 = set(user_8_23) & set(origin_24_30)\n",
    "active_8_23 = list(active_8_23)\n",
    "len(active_8_23),len(user_8_23),len(origin_24_30)"
   ]
  },
  {
   "cell_type": "code",
   "execution_count": null,
   "metadata": {
    "collapsed": true
   },
   "outputs": [],
   "source": [
    "17996/33936"
   ]
  },
  {
   "cell_type": "code",
   "execution_count": null,
   "metadata": {
    "collapsed": true
   },
   "outputs": [],
   "source": [
    "存档y（活跃名单）"
   ]
  },
  {
   "cell_type": "code",
   "execution_count": 24,
   "metadata": {
    "ExecuteTime": {
     "end_time": "2018-06-27T02:21:14.098947Z",
     "start_time": "2018-06-27T02:21:14.089422Z"
    },
    "collapsed": true
   },
   "outputs": [],
   "source": [
    "active_1_16 = pd.DataFrame(active_1_16)"
   ]
  },
  {
   "cell_type": "code",
   "execution_count": 25,
   "metadata": {
    "ExecuteTime": {
     "end_time": "2018-06-27T02:21:14.808808Z",
     "start_time": "2018-06-27T02:21:14.785737Z"
    },
    "collapsed": true
   },
   "outputs": [],
   "source": [
    "active_1_16.columns = ['user_id']"
   ]
  },
  {
   "cell_type": "code",
   "execution_count": 26,
   "metadata": {
    "ExecuteTime": {
     "end_time": "2018-06-27T02:21:15.619905Z",
     "start_time": "2018-06-27T02:21:15.611347Z"
    }
   },
   "outputs": [
    {
     "data": {
      "text/html": [
       "<div>\n",
       "<style>\n",
       "    .dataframe thead tr:only-child th {\n",
       "        text-align: right;\n",
       "    }\n",
       "\n",
       "    .dataframe thead th {\n",
       "        text-align: left;\n",
       "    }\n",
       "\n",
       "    .dataframe tbody tr th {\n",
       "        vertical-align: top;\n",
       "    }\n",
       "</style>\n",
       "<table border=\"1\" class=\"dataframe\">\n",
       "  <thead>\n",
       "    <tr style=\"text-align: right;\">\n",
       "      <th></th>\n",
       "      <th>user_id</th>\n",
       "    </tr>\n",
       "  </thead>\n",
       "  <tbody>\n",
       "    <tr>\n",
       "      <th>0</th>\n",
       "      <td>8</td>\n",
       "    </tr>\n",
       "    <tr>\n",
       "      <th>1</th>\n",
       "      <td>1212424</td>\n",
       "    </tr>\n",
       "    <tr>\n",
       "      <th>2</th>\n",
       "      <td>1310730</td>\n",
       "    </tr>\n",
       "    <tr>\n",
       "      <th>3</th>\n",
       "      <td>819211</td>\n",
       "    </tr>\n",
       "    <tr>\n",
       "      <th>4</th>\n",
       "      <td>1376267</td>\n",
       "    </tr>\n",
       "  </tbody>\n",
       "</table>\n",
       "</div>"
      ],
      "text/plain": [
       "   user_id\n",
       "0        8\n",
       "1  1212424\n",
       "2  1310730\n",
       "3   819211\n",
       "4  1376267"
      ]
     },
     "execution_count": 26,
     "metadata": {},
     "output_type": "execute_result"
    }
   ],
   "source": [
    "active_1_16.head()"
   ]
  },
  {
   "cell_type": "code",
   "execution_count": 27,
   "metadata": {
    "ExecuteTime": {
     "end_time": "2018-06-27T02:21:24.308686Z",
     "start_time": "2018-06-27T02:21:24.285652Z"
    },
    "collapsed": true
   },
   "outputs": [],
   "source": [
    "active_1_16.to_csv('dataset_B_for_model_method/split_origin_dataset/y_1_16.csv',index = False)"
   ]
  },
  {
   "cell_type": "code",
   "execution_count": 28,
   "metadata": {
    "ExecuteTime": {
     "end_time": "2018-06-27T02:21:42.964392Z",
     "start_time": "2018-06-27T02:21:42.941335Z"
    }
   },
   "outputs": [
    {
     "data": {
      "text/html": [
       "<div>\n",
       "<style>\n",
       "    .dataframe thead tr:only-child th {\n",
       "        text-align: right;\n",
       "    }\n",
       "\n",
       "    .dataframe thead th {\n",
       "        text-align: left;\n",
       "    }\n",
       "\n",
       "    .dataframe tbody tr th {\n",
       "        vertical-align: top;\n",
       "    }\n",
       "</style>\n",
       "<table border=\"1\" class=\"dataframe\">\n",
       "  <thead>\n",
       "    <tr style=\"text-align: right;\">\n",
       "      <th></th>\n",
       "      <th>user_id</th>\n",
       "    </tr>\n",
       "  </thead>\n",
       "  <tbody>\n",
       "    <tr>\n",
       "      <th>0</th>\n",
       "      <td>327687</td>\n",
       "    </tr>\n",
       "    <tr>\n",
       "      <th>1</th>\n",
       "      <td>8</td>\n",
       "    </tr>\n",
       "    <tr>\n",
       "      <th>2</th>\n",
       "      <td>1212424</td>\n",
       "    </tr>\n",
       "    <tr>\n",
       "      <th>3</th>\n",
       "      <td>1310730</td>\n",
       "    </tr>\n",
       "    <tr>\n",
       "      <th>4</th>\n",
       "      <td>819211</td>\n",
       "    </tr>\n",
       "  </tbody>\n",
       "</table>\n",
       "</div>"
      ],
      "text/plain": [
       "   user_id\n",
       "0   327687\n",
       "1        8\n",
       "2  1212424\n",
       "3  1310730\n",
       "4   819211"
      ]
     },
     "execution_count": 28,
     "metadata": {},
     "output_type": "execute_result"
    }
   ],
   "source": [
    "active_8_23 = pd.DataFrame(active_8_23)\n",
    "active_8_23.columns = ['user_id']\n",
    "active_8_23.head()"
   ]
  },
  {
   "cell_type": "code",
   "execution_count": 29,
   "metadata": {
    "ExecuteTime": {
     "end_time": "2018-06-27T02:21:51.069110Z",
     "start_time": "2018-06-27T02:21:51.024948Z"
    },
    "collapsed": true
   },
   "outputs": [],
   "source": [
    "active_8_23.to_csv('dataset_B_for_model_method/split_origin_dataset/y_8_23.csv',index = False)"
   ]
  },
  {
   "cell_type": "code",
   "execution_count": null,
   "metadata": {
    "collapsed": true
   },
   "outputs": [],
   "source": []
  },
  {
   "cell_type": "code",
   "execution_count": null,
   "metadata": {
    "collapsed": true
   },
   "outputs": [],
   "source": []
  }
 ],
 "metadata": {
  "kernelspec": {
   "display_name": "Python 3",
   "language": "python",
   "name": "python3"
  },
  "language_info": {
   "codemirror_mode": {
    "name": "ipython",
    "version": 3
   },
   "file_extension": ".py",
   "mimetype": "text/x-python",
   "name": "python",
   "nbconvert_exporter": "python",
   "pygments_lexer": "ipython3",
   "version": "3.6.2"
  },
  "varInspector": {
   "cols": {
    "lenName": 16,
    "lenType": 16,
    "lenVar": 40
   },
   "kernels_config": {
    "python": {
     "delete_cmd_postfix": "",
     "delete_cmd_prefix": "del ",
     "library": "var_list.py",
     "varRefreshCmd": "print(var_dic_list())"
    },
    "r": {
     "delete_cmd_postfix": ") ",
     "delete_cmd_prefix": "rm(",
     "library": "var_list.r",
     "varRefreshCmd": "cat(var_dic_list()) "
    }
   },
   "position": {
    "height": "144px",
    "left": "1160px",
    "right": "20px",
    "top": "120px",
    "width": "350px"
   },
   "types_to_exclude": [
    "module",
    "function",
    "builtin_function_or_method",
    "instance",
    "_Feature"
   ],
   "window_display": false
  }
 },
 "nbformat": 4,
 "nbformat_minor": 2
}
