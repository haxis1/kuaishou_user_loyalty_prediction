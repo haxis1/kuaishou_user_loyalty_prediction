{
 "cells": [
  {
   "cell_type": "code",
   "execution_count": null,
   "metadata": {
    "collapsed": true
   },
   "outputs": [],
   "source": [
    "final_dataset_process"
   ]
  },
  {
   "cell_type": "code",
   "execution_count": null,
   "metadata": {
    "collapsed": true
   },
   "outputs": [],
   "source": [
    "使用之前处理一下——补充第一个table的内容；存档一份简约版的dataset"
   ]
  },
  {
   "cell_type": "code",
   "execution_count": null,
   "metadata": {
    "collapsed": true
   },
   "outputs": [],
   "source": [
    "数据集B"
   ]
  },
  {
   "cell_type": "code",
   "execution_count": null,
   "metadata": {
    "collapsed": true
   },
   "outputs": [],
   "source": []
  },
  {
   "cell_type": "code",
   "execution_count": 1,
   "metadata": {
    "ExecuteTime": {
     "end_time": "2018-06-27T06:37:57.170989Z",
     "start_time": "2018-06-27T06:37:56.760899Z"
    },
    "collapsed": true
   },
   "outputs": [],
   "source": [
    "import numpy as np\n",
    "import pandas as pd"
   ]
  },
  {
   "cell_type": "code",
   "execution_count": 3,
   "metadata": {
    "ExecuteTime": {
     "end_time": "2018-06-27T06:38:38.527629Z",
     "start_time": "2018-06-27T06:38:33.854100Z"
    }
   },
   "outputs": [
    {
     "name": "stderr",
     "output_type": "stream",
     "text": [
      "E:\\anaconda\\lib\\site-packages\\IPython\\core\\interactiveshell.py:2698: DtypeWarning: Columns (1,2,16,17,18,44,45,46,47,94,95) have mixed types. Specify dtype option on import or set low_memory=False.\n",
      "  interactivity=interactivity, compiler=compiler, result=result)\n"
     ]
    }
   ],
   "source": [
    "table1_16 = pd.read_csv('dataset_B_for_model_method/final_dataset/complete_dataset_1_16.csv')\n",
    "table8_23 = pd.read_csv('dataset_B_for_model_method/final_dataset/complete_dataset_8_23.csv')\n",
    "table15_30 = pd.read_csv('dataset_B_for_model_method/final_dataset/complete_dataset_15_30.csv')"
   ]
  },
  {
   "cell_type": "code",
   "execution_count": null,
   "metadata": {
    "collapsed": true
   },
   "outputs": [],
   "source": [
    "发现个问题，第一个table的信息没有加进来，加入进来"
   ]
  },
  {
   "cell_type": "code",
   "execution_count": 4,
   "metadata": {
    "ExecuteTime": {
     "end_time": "2018-06-27T06:40:27.945132Z",
     "start_time": "2018-06-27T06:40:27.920097Z"
    },
    "collapsed": true
   },
   "outputs": [],
   "source": [
    "user_register_log = pd.read_csv('dataset_B/user_register_log.csv')"
   ]
  },
  {
   "cell_type": "code",
   "execution_count": null,
   "metadata": {
    "collapsed": true
   },
   "outputs": [],
   "source": [
    "注意，这三个table的用户的分布都是从1开始的，特征时段如名字"
   ]
  },
  {
   "cell_type": "code",
   "execution_count": 5,
   "metadata": {
    "ExecuteTime": {
     "end_time": "2018-06-27T06:40:35.165605Z",
     "start_time": "2018-06-27T06:40:35.158626Z"
    },
    "collapsed": true
   },
   "outputs": [],
   "source": [
    "reg1_16 = user_register_log[user_register_log['register_day'] < 17]\n",
    "reg8_23 = user_register_log[user_register_log['register_day'] < 24]\n",
    "reg15_30 = user_register_log"
   ]
  },
  {
   "cell_type": "code",
   "execution_count": 6,
   "metadata": {
    "ExecuteTime": {
     "end_time": "2018-06-27T06:40:37.429179Z",
     "start_time": "2018-06-27T06:40:37.026580Z"
    },
    "collapsed": true
   },
   "outputs": [],
   "source": [
    "table1_16 = pd.merge(table1_16,reg1_16,how = 'outer')\n",
    "table8_23 = pd.merge(table8_23,reg8_23,how = 'outer')\n",
    "table15_30 = pd.merge(table15_30,reg15_30,how = 'outer')"
   ]
  },
  {
   "cell_type": "code",
   "execution_count": 7,
   "metadata": {
    "ExecuteTime": {
     "end_time": "2018-06-27T06:40:40.686171Z",
     "start_time": "2018-06-27T06:40:40.673101Z"
    }
   },
   "outputs": [
    {
     "data": {
      "text/plain": [
       "Index(['user_id', 'app_launch_day', 'launch_gap_list', 'launch_day_near_pred',\n",
       "       'launch_day_sum', 'launch_day_sum_average', 'launch_day_gap_max',\n",
       "       'launch_day_gap_ain', 'launch_day_gap_average', 'launch_day_gap_std',\n",
       "       ...\n",
       "       'act_author_count_average', 'act_author_count_max',\n",
       "       'act_author_count_max_ratio', 'act_author_count_std',\n",
       "       'act_author_count_skew', 'act_author_count_kurtosis', 'y',\n",
       "       'register_day', 'register_type', 'device_type'],\n",
       "      dtype='object', length=107)"
      ]
     },
     "execution_count": 7,
     "metadata": {},
     "output_type": "execute_result"
    }
   ],
   "source": [
    "table1_16.columns"
   ]
  },
  {
   "cell_type": "code",
   "execution_count": 8,
   "metadata": {
    "ExecuteTime": {
     "end_time": "2018-06-27T06:40:49.951513Z",
     "start_time": "2018-06-27T06:40:49.924904Z"
    },
    "scrolled": true
   },
   "outputs": [
    {
     "data": {
      "text/html": [
       "<div>\n",
       "<style>\n",
       "    .dataframe thead tr:only-child th {\n",
       "        text-align: right;\n",
       "    }\n",
       "\n",
       "    .dataframe thead th {\n",
       "        text-align: left;\n",
       "    }\n",
       "\n",
       "    .dataframe tbody tr th {\n",
       "        vertical-align: top;\n",
       "    }\n",
       "</style>\n",
       "<table border=\"1\" class=\"dataframe\">\n",
       "  <thead>\n",
       "    <tr style=\"text-align: right;\">\n",
       "      <th></th>\n",
       "      <th>user_id</th>\n",
       "      <th>app_launch_day</th>\n",
       "      <th>launch_gap_list</th>\n",
       "      <th>launch_day_near_pred</th>\n",
       "      <th>launch_day_sum</th>\n",
       "      <th>launch_day_sum_average</th>\n",
       "      <th>launch_day_gap_max</th>\n",
       "      <th>launch_day_gap_ain</th>\n",
       "      <th>launch_day_gap_average</th>\n",
       "      <th>launch_day_gap_std</th>\n",
       "      <th>...</th>\n",
       "      <th>act_author_count_average</th>\n",
       "      <th>act_author_count_max</th>\n",
       "      <th>act_author_count_max_ratio</th>\n",
       "      <th>act_author_count_std</th>\n",
       "      <th>act_author_count_skew</th>\n",
       "      <th>act_author_count_kurtosis</th>\n",
       "      <th>y</th>\n",
       "      <th>register_day</th>\n",
       "      <th>register_type</th>\n",
       "      <th>device_type</th>\n",
       "    </tr>\n",
       "  </thead>\n",
       "  <tbody>\n",
       "    <tr>\n",
       "      <th>0</th>\n",
       "      <td>8</td>\n",
       "      <td>[9.0, 10.0, 11.0, 13.0]</td>\n",
       "      <td>[1.0, 1.0, 2.0]</td>\n",
       "      <td>3.0</td>\n",
       "      <td>4</td>\n",
       "      <td>0.80</td>\n",
       "      <td>2.0</td>\n",
       "      <td>1.0</td>\n",
       "      <td>1.333333</td>\n",
       "      <td>0.471405</td>\n",
       "      <td>...</td>\n",
       "      <td>1.600000</td>\n",
       "      <td>7.0</td>\n",
       "      <td>0.072917</td>\n",
       "      <td>1.280625</td>\n",
       "      <td>2.586390</td>\n",
       "      <td>6.403331</td>\n",
       "      <td>1.0</td>\n",
       "      <td>9</td>\n",
       "      <td>0</td>\n",
       "      <td>34</td>\n",
       "    </tr>\n",
       "    <tr>\n",
       "      <th>1</th>\n",
       "      <td>73</td>\n",
       "      <td>[2.0, 4.0, 5.0]</td>\n",
       "      <td>[2.0, 1.0]</td>\n",
       "      <td>11.0</td>\n",
       "      <td>3</td>\n",
       "      <td>0.75</td>\n",
       "      <td>2.0</td>\n",
       "      <td>1.0</td>\n",
       "      <td>1.500000</td>\n",
       "      <td>0.500000</td>\n",
       "      <td>...</td>\n",
       "      <td>2.266667</td>\n",
       "      <td>10.0</td>\n",
       "      <td>0.294118</td>\n",
       "      <td>2.619584</td>\n",
       "      <td>2.044814</td>\n",
       "      <td>2.826957</td>\n",
       "      <td>0.0</td>\n",
       "      <td>2</td>\n",
       "      <td>1</td>\n",
       "      <td>947</td>\n",
       "    </tr>\n",
       "    <tr>\n",
       "      <th>2</th>\n",
       "      <td>129</td>\n",
       "      <td>[12.0]</td>\n",
       "      <td>[-1]</td>\n",
       "      <td>4.0</td>\n",
       "      <td>1</td>\n",
       "      <td>1.00</td>\n",
       "      <td>-1.0</td>\n",
       "      <td>-1.0</td>\n",
       "      <td>-1.000000</td>\n",
       "      <td>-1.000000</td>\n",
       "      <td>...</td>\n",
       "      <td>1.000000</td>\n",
       "      <td>1.0</td>\n",
       "      <td>1.000000</td>\n",
       "      <td>0.000000</td>\n",
       "      <td>0.000000</td>\n",
       "      <td>-3.000000</td>\n",
       "      <td>1.0</td>\n",
       "      <td>12</td>\n",
       "      <td>1</td>\n",
       "      <td>43</td>\n",
       "    </tr>\n",
       "    <tr>\n",
       "      <th>3</th>\n",
       "      <td>228</td>\n",
       "      <td>[13.0]</td>\n",
       "      <td>[-1]</td>\n",
       "      <td>3.0</td>\n",
       "      <td>1</td>\n",
       "      <td>1.00</td>\n",
       "      <td>-1.0</td>\n",
       "      <td>-1.0</td>\n",
       "      <td>-1.000000</td>\n",
       "      <td>-1.000000</td>\n",
       "      <td>...</td>\n",
       "      <td>22.000000</td>\n",
       "      <td>22.0</td>\n",
       "      <td>1.000000</td>\n",
       "      <td>0.000000</td>\n",
       "      <td>0.000000</td>\n",
       "      <td>-3.000000</td>\n",
       "      <td>1.0</td>\n",
       "      <td>13</td>\n",
       "      <td>2</td>\n",
       "      <td>13</td>\n",
       "    </tr>\n",
       "    <tr>\n",
       "      <th>4</th>\n",
       "      <td>351</td>\n",
       "      <td>[3.0]</td>\n",
       "      <td>[-1]</td>\n",
       "      <td>13.0</td>\n",
       "      <td>1</td>\n",
       "      <td>1.00</td>\n",
       "      <td>-1.0</td>\n",
       "      <td>-1.0</td>\n",
       "      <td>-1.000000</td>\n",
       "      <td>-1.000000</td>\n",
       "      <td>...</td>\n",
       "      <td>3.744681</td>\n",
       "      <td>31.0</td>\n",
       "      <td>0.176136</td>\n",
       "      <td>5.777683</td>\n",
       "      <td>3.471943</td>\n",
       "      <td>12.324511</td>\n",
       "      <td>0.0</td>\n",
       "      <td>3</td>\n",
       "      <td>1</td>\n",
       "      <td>2042</td>\n",
       "    </tr>\n",
       "  </tbody>\n",
       "</table>\n",
       "<p>5 rows × 107 columns</p>\n",
       "</div>"
      ],
      "text/plain": [
       "   user_id           app_launch_day  launch_gap_list  launch_day_near_pred  \\\n",
       "0        8  [9.0, 10.0, 11.0, 13.0]  [1.0, 1.0, 2.0]                   3.0   \n",
       "1       73          [2.0, 4.0, 5.0]       [2.0, 1.0]                  11.0   \n",
       "2      129                   [12.0]             [-1]                   4.0   \n",
       "3      228                   [13.0]             [-1]                   3.0   \n",
       "4      351                    [3.0]             [-1]                  13.0   \n",
       "\n",
       "   launch_day_sum  launch_day_sum_average  launch_day_gap_max  \\\n",
       "0               4                    0.80                 2.0   \n",
       "1               3                    0.75                 2.0   \n",
       "2               1                    1.00                -1.0   \n",
       "3               1                    1.00                -1.0   \n",
       "4               1                    1.00                -1.0   \n",
       "\n",
       "   launch_day_gap_ain  launch_day_gap_average  launch_day_gap_std  \\\n",
       "0                 1.0                1.333333            0.471405   \n",
       "1                 1.0                1.500000            0.500000   \n",
       "2                -1.0               -1.000000           -1.000000   \n",
       "3                -1.0               -1.000000           -1.000000   \n",
       "4                -1.0               -1.000000           -1.000000   \n",
       "\n",
       "      ...       act_author_count_average  act_author_count_max  \\\n",
       "0     ...                       1.600000                   7.0   \n",
       "1     ...                       2.266667                  10.0   \n",
       "2     ...                       1.000000                   1.0   \n",
       "3     ...                      22.000000                  22.0   \n",
       "4     ...                       3.744681                  31.0   \n",
       "\n",
       "   act_author_count_max_ratio  act_author_count_std  act_author_count_skew  \\\n",
       "0                    0.072917              1.280625               2.586390   \n",
       "1                    0.294118              2.619584               2.044814   \n",
       "2                    1.000000              0.000000               0.000000   \n",
       "3                    1.000000              0.000000               0.000000   \n",
       "4                    0.176136              5.777683               3.471943   \n",
       "\n",
       "   act_author_count_kurtosis    y register_day register_type  device_type  \n",
       "0                   6.403331  1.0            9             0           34  \n",
       "1                   2.826957  0.0            2             1          947  \n",
       "2                  -3.000000  1.0           12             1           43  \n",
       "3                  -3.000000  1.0           13             2           13  \n",
       "4                  12.324511  0.0            3             1         2042  \n",
       "\n",
       "[5 rows x 107 columns]"
      ]
     },
     "execution_count": 8,
     "metadata": {},
     "output_type": "execute_result"
    }
   ],
   "source": [
    "table1_16.head()"
   ]
  },
  {
   "cell_type": "code",
   "execution_count": null,
   "metadata": {
    "collapsed": true
   },
   "outputs": [],
   "source": [
    "完整版本存档"
   ]
  },
  {
   "cell_type": "code",
   "execution_count": 9,
   "metadata": {
    "ExecuteTime": {
     "end_time": "2018-06-27T06:41:36.704929Z",
     "start_time": "2018-06-27T06:41:24.630801Z"
    },
    "collapsed": true
   },
   "outputs": [],
   "source": [
    "table1_16.to_csv('dataset_B_for_model_method/final_dataset/complete_dataset_1_16.csv',index = False)\n",
    "table8_23.to_csv('dataset_B_for_model_method/final_dataset/complete_dataset_8_23.csv',index = False)\n",
    "table15_30.to_csv('dataset_B_for_model_method/final_dataset/complete_dataset_15_30.csv',index = False)"
   ]
  },
  {
   "cell_type": "code",
   "execution_count": null,
   "metadata": {
    "collapsed": true
   },
   "outputs": [],
   "source": [
    "将list类的特征丢弃掉"
   ]
  },
  {
   "cell_type": "code",
   "execution_count": 10,
   "metadata": {
    "ExecuteTime": {
     "end_time": "2018-06-27T06:42:28.115526Z",
     "start_time": "2018-06-27T06:42:28.110004Z"
    },
    "collapsed": true
   },
   "outputs": [],
   "source": [
    "drop_list = [\n",
    "    'app_launch_day','launch_gap_list','video_create_day','video_day_gap_list','video_create_day_count',\n",
    "    'activity_day','act_day_gap_list','activity_count','act_count_gap_list',\n",
    "    'author_list','author_video_count_list'\n",
    "]"
   ]
  },
  {
   "cell_type": "code",
   "execution_count": 11,
   "metadata": {
    "ExecuteTime": {
     "end_time": "2018-06-27T06:42:30.956084Z",
     "start_time": "2018-06-27T06:42:30.735998Z"
    },
    "collapsed": true
   },
   "outputs": [],
   "source": [
    "table1_16.drop(drop_list,axis = 1,inplace = True)\n",
    "table8_23.drop(drop_list,axis = 1,inplace = True)\n",
    "table15_30.drop(drop_list,axis = 1,inplace = True)"
   ]
  },
  {
   "cell_type": "code",
   "execution_count": 12,
   "metadata": {
    "ExecuteTime": {
     "end_time": "2018-06-27T06:42:31.644166Z",
     "start_time": "2018-06-27T06:42:31.639144Z"
    }
   },
   "outputs": [
    {
     "data": {
      "text/plain": [
       "(23923, 96)"
      ]
     },
     "execution_count": 12,
     "metadata": {},
     "output_type": "execute_result"
    }
   ],
   "source": [
    "table1_16.shape"
   ]
  },
  {
   "cell_type": "code",
   "execution_count": 13,
   "metadata": {
    "ExecuteTime": {
     "end_time": "2018-06-27T06:42:34.599258Z",
     "start_time": "2018-06-27T06:42:34.571679Z"
    }
   },
   "outputs": [
    {
     "data": {
      "text/html": [
       "<div>\n",
       "<style>\n",
       "    .dataframe thead tr:only-child th {\n",
       "        text-align: right;\n",
       "    }\n",
       "\n",
       "    .dataframe thead th {\n",
       "        text-align: left;\n",
       "    }\n",
       "\n",
       "    .dataframe tbody tr th {\n",
       "        vertical-align: top;\n",
       "    }\n",
       "</style>\n",
       "<table border=\"1\" class=\"dataframe\">\n",
       "  <thead>\n",
       "    <tr style=\"text-align: right;\">\n",
       "      <th></th>\n",
       "      <th>user_id</th>\n",
       "      <th>launch_day_near_pred</th>\n",
       "      <th>launch_day_sum</th>\n",
       "      <th>launch_day_sum_average</th>\n",
       "      <th>launch_day_gap_max</th>\n",
       "      <th>launch_day_gap_ain</th>\n",
       "      <th>launch_day_gap_average</th>\n",
       "      <th>launch_day_gap_std</th>\n",
       "      <th>launch_day_gap_skew</th>\n",
       "      <th>launch_day_gap_kurtosis</th>\n",
       "      <th>...</th>\n",
       "      <th>act_author_count_average</th>\n",
       "      <th>act_author_count_max</th>\n",
       "      <th>act_author_count_max_ratio</th>\n",
       "      <th>act_author_count_std</th>\n",
       "      <th>act_author_count_skew</th>\n",
       "      <th>act_author_count_kurtosis</th>\n",
       "      <th>y</th>\n",
       "      <th>register_day</th>\n",
       "      <th>register_type</th>\n",
       "      <th>device_type</th>\n",
       "    </tr>\n",
       "  </thead>\n",
       "  <tbody>\n",
       "    <tr>\n",
       "      <th>0</th>\n",
       "      <td>8</td>\n",
       "      <td>3.0</td>\n",
       "      <td>4</td>\n",
       "      <td>0.80</td>\n",
       "      <td>2.0</td>\n",
       "      <td>1.0</td>\n",
       "      <td>1.333333</td>\n",
       "      <td>0.471405</td>\n",
       "      <td>0.707107</td>\n",
       "      <td>-1.5</td>\n",
       "      <td>...</td>\n",
       "      <td>1.600000</td>\n",
       "      <td>7.0</td>\n",
       "      <td>0.072917</td>\n",
       "      <td>1.280625</td>\n",
       "      <td>2.586390</td>\n",
       "      <td>6.403331</td>\n",
       "      <td>1.0</td>\n",
       "      <td>9</td>\n",
       "      <td>0</td>\n",
       "      <td>34</td>\n",
       "    </tr>\n",
       "    <tr>\n",
       "      <th>1</th>\n",
       "      <td>73</td>\n",
       "      <td>11.0</td>\n",
       "      <td>3</td>\n",
       "      <td>0.75</td>\n",
       "      <td>2.0</td>\n",
       "      <td>1.0</td>\n",
       "      <td>1.500000</td>\n",
       "      <td>0.500000</td>\n",
       "      <td>0.000000</td>\n",
       "      <td>-2.0</td>\n",
       "      <td>...</td>\n",
       "      <td>2.266667</td>\n",
       "      <td>10.0</td>\n",
       "      <td>0.294118</td>\n",
       "      <td>2.619584</td>\n",
       "      <td>2.044814</td>\n",
       "      <td>2.826957</td>\n",
       "      <td>0.0</td>\n",
       "      <td>2</td>\n",
       "      <td>1</td>\n",
       "      <td>947</td>\n",
       "    </tr>\n",
       "    <tr>\n",
       "      <th>2</th>\n",
       "      <td>129</td>\n",
       "      <td>4.0</td>\n",
       "      <td>1</td>\n",
       "      <td>1.00</td>\n",
       "      <td>-1.0</td>\n",
       "      <td>-1.0</td>\n",
       "      <td>-1.000000</td>\n",
       "      <td>-1.000000</td>\n",
       "      <td>-99.000000</td>\n",
       "      <td>-99.0</td>\n",
       "      <td>...</td>\n",
       "      <td>1.000000</td>\n",
       "      <td>1.0</td>\n",
       "      <td>1.000000</td>\n",
       "      <td>0.000000</td>\n",
       "      <td>0.000000</td>\n",
       "      <td>-3.000000</td>\n",
       "      <td>1.0</td>\n",
       "      <td>12</td>\n",
       "      <td>1</td>\n",
       "      <td>43</td>\n",
       "    </tr>\n",
       "    <tr>\n",
       "      <th>3</th>\n",
       "      <td>228</td>\n",
       "      <td>3.0</td>\n",
       "      <td>1</td>\n",
       "      <td>1.00</td>\n",
       "      <td>-1.0</td>\n",
       "      <td>-1.0</td>\n",
       "      <td>-1.000000</td>\n",
       "      <td>-1.000000</td>\n",
       "      <td>-99.000000</td>\n",
       "      <td>-99.0</td>\n",
       "      <td>...</td>\n",
       "      <td>22.000000</td>\n",
       "      <td>22.0</td>\n",
       "      <td>1.000000</td>\n",
       "      <td>0.000000</td>\n",
       "      <td>0.000000</td>\n",
       "      <td>-3.000000</td>\n",
       "      <td>1.0</td>\n",
       "      <td>13</td>\n",
       "      <td>2</td>\n",
       "      <td>13</td>\n",
       "    </tr>\n",
       "    <tr>\n",
       "      <th>4</th>\n",
       "      <td>351</td>\n",
       "      <td>13.0</td>\n",
       "      <td>1</td>\n",
       "      <td>1.00</td>\n",
       "      <td>-1.0</td>\n",
       "      <td>-1.0</td>\n",
       "      <td>-1.000000</td>\n",
       "      <td>-1.000000</td>\n",
       "      <td>-99.000000</td>\n",
       "      <td>-99.0</td>\n",
       "      <td>...</td>\n",
       "      <td>3.744681</td>\n",
       "      <td>31.0</td>\n",
       "      <td>0.176136</td>\n",
       "      <td>5.777683</td>\n",
       "      <td>3.471943</td>\n",
       "      <td>12.324511</td>\n",
       "      <td>0.0</td>\n",
       "      <td>3</td>\n",
       "      <td>1</td>\n",
       "      <td>2042</td>\n",
       "    </tr>\n",
       "  </tbody>\n",
       "</table>\n",
       "<p>5 rows × 96 columns</p>\n",
       "</div>"
      ],
      "text/plain": [
       "   user_id  launch_day_near_pred  launch_day_sum  launch_day_sum_average  \\\n",
       "0        8                   3.0               4                    0.80   \n",
       "1       73                  11.0               3                    0.75   \n",
       "2      129                   4.0               1                    1.00   \n",
       "3      228                   3.0               1                    1.00   \n",
       "4      351                  13.0               1                    1.00   \n",
       "\n",
       "   launch_day_gap_max  launch_day_gap_ain  launch_day_gap_average  \\\n",
       "0                 2.0                 1.0                1.333333   \n",
       "1                 2.0                 1.0                1.500000   \n",
       "2                -1.0                -1.0               -1.000000   \n",
       "3                -1.0                -1.0               -1.000000   \n",
       "4                -1.0                -1.0               -1.000000   \n",
       "\n",
       "   launch_day_gap_std  launch_day_gap_skew  launch_day_gap_kurtosis  \\\n",
       "0            0.471405             0.707107                     -1.5   \n",
       "1            0.500000             0.000000                     -2.0   \n",
       "2           -1.000000           -99.000000                    -99.0   \n",
       "3           -1.000000           -99.000000                    -99.0   \n",
       "4           -1.000000           -99.000000                    -99.0   \n",
       "\n",
       "      ...       act_author_count_average  act_author_count_max  \\\n",
       "0     ...                       1.600000                   7.0   \n",
       "1     ...                       2.266667                  10.0   \n",
       "2     ...                       1.000000                   1.0   \n",
       "3     ...                      22.000000                  22.0   \n",
       "4     ...                       3.744681                  31.0   \n",
       "\n",
       "   act_author_count_max_ratio  act_author_count_std  act_author_count_skew  \\\n",
       "0                    0.072917              1.280625               2.586390   \n",
       "1                    0.294118              2.619584               2.044814   \n",
       "2                    1.000000              0.000000               0.000000   \n",
       "3                    1.000000              0.000000               0.000000   \n",
       "4                    0.176136              5.777683               3.471943   \n",
       "\n",
       "   act_author_count_kurtosis    y  register_day  register_type  device_type  \n",
       "0                   6.403331  1.0             9              0           34  \n",
       "1                   2.826957  0.0             2              1          947  \n",
       "2                  -3.000000  1.0            12              1           43  \n",
       "3                  -3.000000  1.0            13              2           13  \n",
       "4                  12.324511  0.0             3              1         2042  \n",
       "\n",
       "[5 rows x 96 columns]"
      ]
     },
     "execution_count": 13,
     "metadata": {},
     "output_type": "execute_result"
    }
   ],
   "source": [
    "table1_16.head()"
   ]
  },
  {
   "cell_type": "code",
   "execution_count": null,
   "metadata": {
    "collapsed": true
   },
   "outputs": [],
   "source": [
    "简约版存档"
   ]
  },
  {
   "cell_type": "code",
   "execution_count": 14,
   "metadata": {
    "ExecuteTime": {
     "end_time": "2018-06-27T06:43:12.932182Z",
     "start_time": "2018-06-27T06:43:04.735308Z"
    },
    "collapsed": true
   },
   "outputs": [],
   "source": [
    "table1_16.to_csv('dataset_B_for_model_method/final_dataset/dataset_1_16.csv',index = False)\n",
    "table8_23.to_csv('dataset_B_for_model_method/final_dataset/dataset_8_23.csv',index = False)\n",
    "table15_30.to_csv('dataset_B_for_model_method/final_dataset/dataset_15_30.csv',index = False)"
   ]
  },
  {
   "cell_type": "code",
   "execution_count": null,
   "metadata": {
    "collapsed": true
   },
   "outputs": [],
   "source": []
  },
  {
   "cell_type": "code",
   "execution_count": null,
   "metadata": {
    "collapsed": true
   },
   "outputs": [],
   "source": []
  }
 ],
 "metadata": {
  "kernelspec": {
   "display_name": "Python 3",
   "language": "python",
   "name": "python3"
  },
  "language_info": {
   "codemirror_mode": {
    "name": "ipython",
    "version": 3
   },
   "file_extension": ".py",
   "mimetype": "text/x-python",
   "name": "python",
   "nbconvert_exporter": "python",
   "pygments_lexer": "ipython3",
   "version": "3.6.2"
  },
  "varInspector": {
   "cols": {
    "lenName": 16,
    "lenType": 16,
    "lenVar": 40
   },
   "kernels_config": {
    "python": {
     "delete_cmd_postfix": "",
     "delete_cmd_prefix": "del ",
     "library": "var_list.py",
     "varRefreshCmd": "print(var_dic_list())"
    },
    "r": {
     "delete_cmd_postfix": ") ",
     "delete_cmd_prefix": "rm(",
     "library": "var_list.r",
     "varRefreshCmd": "cat(var_dic_list()) "
    }
   },
   "types_to_exclude": [
    "module",
    "function",
    "builtin_function_or_method",
    "instance",
    "_Feature"
   ],
   "window_display": false
  }
 },
 "nbformat": 4,
 "nbformat_minor": 2
}
