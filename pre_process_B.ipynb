{
 "cells": [
  {
   "cell_type": "code",
   "execution_count": null,
   "metadata": {
    "collapsed": true
   },
   "outputs": [],
   "source": [
    "pre_process"
   ]
  },
  {
   "cell_type": "code",
   "execution_count": null,
   "metadata": {
    "collapsed": true
   },
   "outputs": [],
   "source": [
    "训练集B\n",
    "数据的shape和分布，都和训练集A高度一致。"
   ]
  },
  {
   "cell_type": "code",
   "execution_count": null,
   "metadata": {
    "collapsed": true
   },
   "outputs": [],
   "source": [
    "处理到分离数据集之前的全部前期工作\n",
    "数据集基本信息观察 + 融合table123"
   ]
  },
  {
   "cell_type": "code",
   "execution_count": null,
   "metadata": {
    "collapsed": true
   },
   "outputs": [],
   "source": []
  },
  {
   "cell_type": "code",
   "execution_count": 1,
   "metadata": {
    "ExecuteTime": {
     "end_time": "2018-06-29T00:00:28.252518Z",
     "start_time": "2018-06-29T00:00:25.004190Z"
    },
    "collapsed": true
   },
   "outputs": [],
   "source": [
    "import numpy as np\n",
    "import pandas as pd"
   ]
  },
  {
   "cell_type": "markdown",
   "metadata": {},
   "source": [
    "### 原始txt处理，并转成csv"
   ]
  },
  {
   "cell_type": "code",
   "execution_count": null,
   "metadata": {
    "collapsed": true
   },
   "outputs": [],
   "source": [
    "读取原始数据集(txt)形式，并转换得到count特征，存储为csv形式"
   ]
  },
  {
   "cell_type": "code",
   "execution_count": 2,
   "metadata": {
    "ExecuteTime": {
     "end_time": "2018-06-27T00:53:39.525656Z",
     "start_time": "2018-06-27T00:53:29.407580Z"
    },
    "collapsed": true
   },
   "outputs": [],
   "source": [
    "user_register_log = pd.read_csv('dataset_B/user_register_log.txt',header = None , sep = '\\t')\n",
    "app_launch_log = pd.read_csv('dataset_B/app_launch_log.txt',header = None,sep = '\\t')\n",
    "video_create_log = pd.read_csv('dataset_B/video_create_log.txt',header = None , sep = '\\t')\n",
    "user_activity_log = pd.read_csv('dataset_B/user_activity_log.txt',header = None , sep = '\\t')"
   ]
  },
  {
   "cell_type": "code",
   "execution_count": null,
   "metadata": {
    "collapsed": true
   },
   "outputs": [],
   "source": [
    "不需要转换得到count的table，只需要给出列名就行"
   ]
  },
  {
   "cell_type": "code",
   "execution_count": null,
   "metadata": {
    "collapsed": true
   },
   "outputs": [],
   "source": [
    "user_register_log的情况同数据集A时，没有什么问题。"
   ]
  },
  {
   "cell_type": "code",
   "execution_count": 4,
   "metadata": {
    "ExecuteTime": {
     "end_time": "2018-06-27T00:54:20.779833Z",
     "start_time": "2018-06-27T00:54:20.773822Z"
    },
    "collapsed": true
   },
   "outputs": [],
   "source": [
    "user_register_log.columns = ['user_id','register_day','register_type','device_type']"
   ]
  },
  {
   "cell_type": "code",
   "execution_count": 9,
   "metadata": {
    "ExecuteTime": {
     "end_time": "2018-06-27T00:56:36.968467Z",
     "start_time": "2018-06-27T00:56:36.957913Z"
    }
   },
   "outputs": [
    {
     "data": {
      "text/html": [
       "<div>\n",
       "<style>\n",
       "    .dataframe thead tr:only-child th {\n",
       "        text-align: right;\n",
       "    }\n",
       "\n",
       "    .dataframe thead th {\n",
       "        text-align: left;\n",
       "    }\n",
       "\n",
       "    .dataframe tbody tr th {\n",
       "        vertical-align: top;\n",
       "    }\n",
       "</style>\n",
       "<table border=\"1\" class=\"dataframe\">\n",
       "  <thead>\n",
       "    <tr style=\"text-align: right;\">\n",
       "      <th></th>\n",
       "      <th>user_id</th>\n",
       "      <th>register_day</th>\n",
       "      <th>register_type</th>\n",
       "      <th>device_type</th>\n",
       "    </tr>\n",
       "  </thead>\n",
       "  <tbody>\n",
       "    <tr>\n",
       "      <th>0</th>\n",
       "      <td>167777</td>\n",
       "      <td>1</td>\n",
       "      <td>4</td>\n",
       "      <td>270</td>\n",
       "    </tr>\n",
       "    <tr>\n",
       "      <th>1</th>\n",
       "      <td>886972</td>\n",
       "      <td>1</td>\n",
       "      <td>0</td>\n",
       "      <td>5</td>\n",
       "    </tr>\n",
       "    <tr>\n",
       "      <th>2</th>\n",
       "      <td>921231</td>\n",
       "      <td>1</td>\n",
       "      <td>0</td>\n",
       "      <td>0</td>\n",
       "    </tr>\n",
       "    <tr>\n",
       "      <th>3</th>\n",
       "      <td>904908</td>\n",
       "      <td>1</td>\n",
       "      <td>1</td>\n",
       "      <td>49</td>\n",
       "    </tr>\n",
       "    <tr>\n",
       "      <th>4</th>\n",
       "      <td>460291</td>\n",
       "      <td>2</td>\n",
       "      <td>0</td>\n",
       "      <td>72</td>\n",
       "    </tr>\n",
       "  </tbody>\n",
       "</table>\n",
       "</div>"
      ],
      "text/plain": [
       "   user_id  register_day  register_type  device_type\n",
       "0   167777             1              4          270\n",
       "1   886972             1              0            5\n",
       "2   921231             1              0            0\n",
       "3   904908             1              1           49\n",
       "4   460291             2              0           72"
      ]
     },
     "execution_count": 9,
     "metadata": {},
     "output_type": "execute_result"
    }
   ],
   "source": [
    "user_register_log.head()"
   ]
  },
  {
   "cell_type": "code",
   "execution_count": 6,
   "metadata": {
    "ExecuteTime": {
     "end_time": "2018-06-27T00:55:16.882190Z",
     "start_time": "2018-06-27T00:55:16.876648Z"
    }
   },
   "outputs": [
    {
     "data": {
      "text/plain": [
       "(51480, 4)"
      ]
     },
     "execution_count": 6,
     "metadata": {},
     "output_type": "execute_result"
    }
   ],
   "source": [
    "user_register_log.shape"
   ]
  },
  {
   "cell_type": "code",
   "execution_count": null,
   "metadata": {
    "collapsed": true
   },
   "outputs": [],
   "source": [
    "app_launch_log也如同数据集A"
   ]
  },
  {
   "cell_type": "code",
   "execution_count": 14,
   "metadata": {
    "ExecuteTime": {
     "end_time": "2018-06-27T00:58:24.088137Z",
     "start_time": "2018-06-27T00:58:24.084626Z"
    },
    "collapsed": true
   },
   "outputs": [],
   "source": [
    "app_launch_log.columns = ['user_id','app_launch_day']"
   ]
  },
  {
   "cell_type": "code",
   "execution_count": 15,
   "metadata": {
    "ExecuteTime": {
     "end_time": "2018-06-27T00:58:29.973681Z",
     "start_time": "2018-06-27T00:58:29.966160Z"
    }
   },
   "outputs": [
    {
     "data": {
      "text/html": [
       "<div>\n",
       "<style>\n",
       "    .dataframe thead tr:only-child th {\n",
       "        text-align: right;\n",
       "    }\n",
       "\n",
       "    .dataframe thead th {\n",
       "        text-align: left;\n",
       "    }\n",
       "\n",
       "    .dataframe tbody tr th {\n",
       "        vertical-align: top;\n",
       "    }\n",
       "</style>\n",
       "<table border=\"1\" class=\"dataframe\">\n",
       "  <thead>\n",
       "    <tr style=\"text-align: right;\">\n",
       "      <th></th>\n",
       "      <th>user_id</th>\n",
       "      <th>app_launch_day</th>\n",
       "    </tr>\n",
       "  </thead>\n",
       "  <tbody>\n",
       "    <tr>\n",
       "      <th>0</th>\n",
       "      <td>1287915</td>\n",
       "      <td>3</td>\n",
       "    </tr>\n",
       "    <tr>\n",
       "      <th>1</th>\n",
       "      <td>1287915</td>\n",
       "      <td>4</td>\n",
       "    </tr>\n",
       "    <tr>\n",
       "      <th>2</th>\n",
       "      <td>1287915</td>\n",
       "      <td>8</td>\n",
       "    </tr>\n",
       "    <tr>\n",
       "      <th>3</th>\n",
       "      <td>1287915</td>\n",
       "      <td>14</td>\n",
       "    </tr>\n",
       "    <tr>\n",
       "      <th>4</th>\n",
       "      <td>1287915</td>\n",
       "      <td>15</td>\n",
       "    </tr>\n",
       "  </tbody>\n",
       "</table>\n",
       "</div>"
      ],
      "text/plain": [
       "   user_id  app_launch_day\n",
       "0  1287915               3\n",
       "1  1287915               4\n",
       "2  1287915               8\n",
       "3  1287915              14\n",
       "4  1287915              15"
      ]
     },
     "execution_count": 15,
     "metadata": {},
     "output_type": "execute_result"
    }
   ],
   "source": [
    "app_launch_log.head()"
   ]
  },
  {
   "cell_type": "code",
   "execution_count": 16,
   "metadata": {
    "ExecuteTime": {
     "end_time": "2018-06-27T00:58:48.993615Z",
     "start_time": "2018-06-27T00:58:48.988101Z"
    }
   },
   "outputs": [
    {
     "data": {
      "text/plain": [
       "(252496, 2)"
      ]
     },
     "execution_count": 16,
     "metadata": {},
     "output_type": "execute_result"
    }
   ],
   "source": [
    "app_launch_log.shape"
   ]
  },
  {
   "cell_type": "code",
   "execution_count": null,
   "metadata": {
    "collapsed": true
   },
   "outputs": [],
   "source": [
    "需要转换count的table的处理"
   ]
  },
  {
   "cell_type": "code",
   "execution_count": null,
   "metadata": {
    "collapsed": true
   },
   "outputs": [],
   "source": [
    "video_create_log没有问题"
   ]
  },
  {
   "cell_type": "code",
   "execution_count": null,
   "metadata": {
    "collapsed": true
   },
   "outputs": [],
   "source": [
    "先排好序"
   ]
  },
  {
   "cell_type": "code",
   "execution_count": 19,
   "metadata": {
    "ExecuteTime": {
     "end_time": "2018-06-27T00:59:52.832389Z",
     "start_time": "2018-06-27T00:59:52.826913Z"
    },
    "collapsed": true
   },
   "outputs": [],
   "source": [
    "video_create_log.columns = ['user_id','video_create_day']"
   ]
  },
  {
   "cell_type": "code",
   "execution_count": 21,
   "metadata": {
    "ExecuteTime": {
     "end_time": "2018-06-27T01:00:08.831804Z",
     "start_time": "2018-06-27T01:00:08.815753Z"
    },
    "collapsed": true
   },
   "outputs": [],
   "source": [
    "video_create_log.sort_values(['user_id','video_create_day'],inplace = True)"
   ]
  },
  {
   "cell_type": "code",
   "execution_count": 23,
   "metadata": {
    "ExecuteTime": {
     "end_time": "2018-06-27T01:00:25.378937Z",
     "start_time": "2018-06-27T01:00:25.374926Z"
    },
    "collapsed": true
   },
   "outputs": [],
   "source": [
    "video_create_log = video_create_log.reset_index()"
   ]
  },
  {
   "cell_type": "code",
   "execution_count": 25,
   "metadata": {
    "ExecuteTime": {
     "end_time": "2018-06-27T01:00:35.944354Z",
     "start_time": "2018-06-27T01:00:35.940845Z"
    },
    "collapsed": true
   },
   "outputs": [],
   "source": [
    "del video_create_log['index']"
   ]
  },
  {
   "cell_type": "code",
   "execution_count": 27,
   "metadata": {
    "ExecuteTime": {
     "end_time": "2018-06-27T01:00:45.613232Z",
     "start_time": "2018-06-27T01:00:45.608193Z"
    },
    "collapsed": true
   },
   "outputs": [],
   "source": [
    "video_create_log['count'] = 1"
   ]
  },
  {
   "cell_type": "code",
   "execution_count": 33,
   "metadata": {
    "ExecuteTime": {
     "end_time": "2018-06-27T01:01:38.974853Z",
     "start_time": "2018-06-27T01:01:38.965329Z"
    }
   },
   "outputs": [
    {
     "data": {
      "text/html": [
       "<div>\n",
       "<style>\n",
       "    .dataframe thead tr:only-child th {\n",
       "        text-align: right;\n",
       "    }\n",
       "\n",
       "    .dataframe thead th {\n",
       "        text-align: left;\n",
       "    }\n",
       "\n",
       "    .dataframe tbody tr th {\n",
       "        vertical-align: top;\n",
       "    }\n",
       "</style>\n",
       "<table border=\"1\" class=\"dataframe\">\n",
       "  <thead>\n",
       "    <tr style=\"text-align: right;\">\n",
       "      <th></th>\n",
       "      <th>user_id</th>\n",
       "      <th>video_create_day</th>\n",
       "      <th>video_create_day_count</th>\n",
       "    </tr>\n",
       "  </thead>\n",
       "  <tbody>\n",
       "    <tr>\n",
       "      <th>0</th>\n",
       "      <td>885</td>\n",
       "      <td>23</td>\n",
       "      <td>1</td>\n",
       "    </tr>\n",
       "    <tr>\n",
       "      <th>1</th>\n",
       "      <td>979</td>\n",
       "      <td>20</td>\n",
       "      <td>1</td>\n",
       "    </tr>\n",
       "    <tr>\n",
       "      <th>2</th>\n",
       "      <td>1119</td>\n",
       "      <td>27</td>\n",
       "      <td>5</td>\n",
       "    </tr>\n",
       "    <tr>\n",
       "      <th>3</th>\n",
       "      <td>1370</td>\n",
       "      <td>26</td>\n",
       "      <td>4</td>\n",
       "    </tr>\n",
       "    <tr>\n",
       "      <th>4</th>\n",
       "      <td>1607</td>\n",
       "      <td>10</td>\n",
       "      <td>1</td>\n",
       "    </tr>\n",
       "  </tbody>\n",
       "</table>\n",
       "</div>"
      ],
      "text/plain": [
       "   user_id  video_create_day  video_create_day_count\n",
       "0      885                23                       1\n",
       "1      979                20                       1\n",
       "2     1119                27                       5\n",
       "3     1370                26                       4\n",
       "4     1607                10                       1"
      ]
     },
     "execution_count": 33,
     "metadata": {},
     "output_type": "execute_result"
    }
   ],
   "source": [
    "video_create_log.head()"
   ]
  },
  {
   "cell_type": "code",
   "execution_count": null,
   "metadata": {
    "collapsed": true
   },
   "outputs": [],
   "source": [
    "计数count\n",
    "——突然发现或许可以用groupby的方式：user_id和video_create_day都当做group的index，然后count就行了"
   ]
  },
  {
   "cell_type": "code",
   "execution_count": 29,
   "metadata": {
    "ExecuteTime": {
     "end_time": "2018-06-27T01:01:22.640843Z",
     "start_time": "2018-06-27T01:01:20.831534Z"
    },
    "collapsed": true
   },
   "outputs": [],
   "source": [
    "temp_list = video_create_log.duplicated() # 用于指导计数\n",
    "temp_list2 = video_create_log['count']\n",
    "count_temp = 1\n",
    "for i in range(video_create_log.shape[0]):\n",
    "# for i in range(len(temp_list2)):\n",
    "    temp = temp_list[i]\n",
    "    if temp == False:\n",
    "        count_temp = 1\n",
    "    else:\n",
    "        count_temp = count_temp + 1\n",
    "        # print(count_temp)\n",
    "        temp_list2[i] = count_temp \n",
    "        # print(temp_list2[i])"
   ]
  },
  {
   "cell_type": "code",
   "execution_count": 30,
   "metadata": {
    "ExecuteTime": {
     "end_time": "2018-06-27T01:01:26.409404Z",
     "start_time": "2018-06-27T01:01:26.401844Z"
    },
    "collapsed": true
   },
   "outputs": [],
   "source": [
    "video_create_log.drop_duplicates(subset = ['user_id','video_create_day'],keep = 'last',inplace = True)\n",
    "video_create_log.columns = ['user_id','video_create_day','video_create_day_count']"
   ]
  },
  {
   "cell_type": "code",
   "execution_count": 32,
   "metadata": {
    "ExecuteTime": {
     "end_time": "2018-06-27T01:01:36.037135Z",
     "start_time": "2018-06-27T01:01:36.029114Z"
    },
    "collapsed": true
   },
   "outputs": [],
   "source": [
    "video_create_log = video_create_log.reset_index()\n",
    "del video_create_log['index']"
   ]
  },
  {
   "cell_type": "code",
   "execution_count": 34,
   "metadata": {
    "ExecuteTime": {
     "end_time": "2018-06-27T01:02:05.417107Z",
     "start_time": "2018-06-27T01:02:05.411058Z"
    }
   },
   "outputs": [
    {
     "data": {
      "text/plain": [
       "(17271, 3)"
      ]
     },
     "execution_count": 34,
     "metadata": {},
     "output_type": "execute_result"
    }
   ],
   "source": [
    "video_create_log.shape"
   ]
  },
  {
   "cell_type": "code",
   "execution_count": null,
   "metadata": {
    "collapsed": true
   },
   "outputs": [],
   "source": [
    "另一个table如法炮制"
   ]
  },
  {
   "cell_type": "code",
   "execution_count": 36,
   "metadata": {
    "ExecuteTime": {
     "end_time": "2018-06-27T01:03:15.706984Z",
     "start_time": "2018-06-27T01:03:15.702474Z"
    },
    "collapsed": true
   },
   "outputs": [],
   "source": [
    "user_activity_log.columns = ['user_id','activity_day','activity_page','video_id','author_id','action_type']"
   ]
  },
  {
   "cell_type": "code",
   "execution_count": 39,
   "metadata": {
    "ExecuteTime": {
     "end_time": "2018-06-27T01:03:59.859183Z",
     "start_time": "2018-06-27T01:03:59.854175Z"
    }
   },
   "outputs": [
    {
     "data": {
      "text/plain": [
       "(21072403, 6)"
      ]
     },
     "execution_count": 39,
     "metadata": {},
     "output_type": "execute_result"
    }
   ],
   "source": [
    "user_activity_log.shape"
   ]
  },
  {
   "cell_type": "code",
   "execution_count": 40,
   "metadata": {
    "ExecuteTime": {
     "end_time": "2018-06-27T01:04:20.912712Z",
     "start_time": "2018-06-27T01:04:14.090570Z"
    },
    "collapsed": true
   },
   "outputs": [],
   "source": [
    "user_activity_log.sort_values(['user_id','activity_day'],inplace = True)\n",
    "user_activity_log = user_activity_log.reset_index()\n",
    "del user_activity_log['index']"
   ]
  },
  {
   "cell_type": "code",
   "execution_count": null,
   "metadata": {
    "collapsed": true
   },
   "outputs": [],
   "source": [
    "处理方式和上边有些不同（因为这个table比较大），而且其实这种方法更合理。\n",
    "——必须另外new一个list，而不是像上边那种，通过赋值将list复制过去！赋值过去的其实两个list是同一块内存地址，并不合适！"
   ]
  },
  {
   "cell_type": "code",
   "execution_count": 41,
   "metadata": {
    "ExecuteTime": {
     "end_time": "2018-06-27T01:04:36.808451Z",
     "start_time": "2018-06-27T01:04:25.791781Z"
    },
    "collapsed": true
   },
   "outputs": [],
   "source": [
    "temp_list = user_activity_log.duplicated() # 用于指导计数\n",
    "count_temp = 1\n",
    "list_temp = np.ones(shape = user_activity_log.shape[0],dtype = np.uint8 )"
   ]
  },
  {
   "cell_type": "code",
   "execution_count": 42,
   "metadata": {
    "ExecuteTime": {
     "end_time": "2018-06-27T01:10:57.127589Z",
     "start_time": "2018-06-27T01:04:46.653472Z"
    },
    "collapsed": true
   },
   "outputs": [],
   "source": [
    "for i in range(user_activity_log.shape[0]):\n",
    "# for i in range(len(temp_list2)):\n",
    "    temp = temp_list[i]\n",
    "    if temp == False:\n",
    "        count_temp = 1\n",
    "    else:\n",
    "        count_temp = count_temp + 1\n",
    "        # print(count_temp)\n",
    "        list_temp[i] = count_temp \n",
    "        # print(temp_list2[i])"
   ]
  },
  {
   "cell_type": "code",
   "execution_count": 43,
   "metadata": {
    "ExecuteTime": {
     "end_time": "2018-06-27T01:13:24.265064Z",
     "start_time": "2018-06-27T01:13:24.247968Z"
    },
    "collapsed": true
   },
   "outputs": [],
   "source": [
    "user_activity_log['activity_count'] = list_temp"
   ]
  },
  {
   "cell_type": "code",
   "execution_count": 44,
   "metadata": {
    "ExecuteTime": {
     "end_time": "2018-06-27T01:13:38.776736Z",
     "start_time": "2018-06-27T01:13:25.426668Z"
    },
    "collapsed": true
   },
   "outputs": [],
   "source": [
    "user_activity_log.drop_duplicates(subset = ['user_id','activity_day','activity_page',\n",
    "                                          'video_id','author_id','action_type'],keep = 'last',inplace = True)\n",
    "user_activity_log = user_activity_log.reset_index()\n",
    "del user_activity_log['index']"
   ]
  },
  {
   "cell_type": "code",
   "execution_count": 45,
   "metadata": {
    "ExecuteTime": {
     "end_time": "2018-06-27T01:13:47.495961Z",
     "start_time": "2018-06-27T01:13:47.490472Z"
    }
   },
   "outputs": [
    {
     "data": {
      "text/plain": [
       "(17635062, 7)"
      ]
     },
     "execution_count": 45,
     "metadata": {},
     "output_type": "execute_result"
    }
   ],
   "source": [
    "user_activity_log.shape"
   ]
  },
  {
   "cell_type": "code",
   "execution_count": 46,
   "metadata": {
    "ExecuteTime": {
     "end_time": "2018-06-27T01:14:12.043465Z",
     "start_time": "2018-06-27T01:14:12.028965Z"
    }
   },
   "outputs": [
    {
     "data": {
      "text/html": [
       "<div>\n",
       "<style>\n",
       "    .dataframe thead tr:only-child th {\n",
       "        text-align: right;\n",
       "    }\n",
       "\n",
       "    .dataframe thead th {\n",
       "        text-align: left;\n",
       "    }\n",
       "\n",
       "    .dataframe tbody tr th {\n",
       "        vertical-align: top;\n",
       "    }\n",
       "</style>\n",
       "<table border=\"1\" class=\"dataframe\">\n",
       "  <thead>\n",
       "    <tr style=\"text-align: right;\">\n",
       "      <th></th>\n",
       "      <th>user_id</th>\n",
       "      <th>activity_day</th>\n",
       "      <th>activity_page</th>\n",
       "      <th>video_id</th>\n",
       "      <th>author_id</th>\n",
       "      <th>action_type</th>\n",
       "      <th>activity_count</th>\n",
       "    </tr>\n",
       "  </thead>\n",
       "  <tbody>\n",
       "    <tr>\n",
       "      <th>0</th>\n",
       "      <td>8</td>\n",
       "      <td>9</td>\n",
       "      <td>3</td>\n",
       "      <td>1955966</td>\n",
       "      <td>309219</td>\n",
       "      <td>0</td>\n",
       "      <td>2</td>\n",
       "    </tr>\n",
       "    <tr>\n",
       "      <th>1</th>\n",
       "      <td>8</td>\n",
       "      <td>9</td>\n",
       "      <td>0</td>\n",
       "      <td>1340816</td>\n",
       "      <td>12378</td>\n",
       "      <td>0</td>\n",
       "      <td>1</td>\n",
       "    </tr>\n",
       "    <tr>\n",
       "      <th>2</th>\n",
       "      <td>8</td>\n",
       "      <td>9</td>\n",
       "      <td>0</td>\n",
       "      <td>3488372</td>\n",
       "      <td>107008</td>\n",
       "      <td>0</td>\n",
       "      <td>1</td>\n",
       "    </tr>\n",
       "    <tr>\n",
       "      <th>3</th>\n",
       "      <td>8</td>\n",
       "      <td>9</td>\n",
       "      <td>0</td>\n",
       "      <td>1705402</td>\n",
       "      <td>37639</td>\n",
       "      <td>0</td>\n",
       "      <td>2</td>\n",
       "    </tr>\n",
       "    <tr>\n",
       "      <th>4</th>\n",
       "      <td>8</td>\n",
       "      <td>9</td>\n",
       "      <td>0</td>\n",
       "      <td>3710937</td>\n",
       "      <td>1312718</td>\n",
       "      <td>0</td>\n",
       "      <td>1</td>\n",
       "    </tr>\n",
       "  </tbody>\n",
       "</table>\n",
       "</div>"
      ],
      "text/plain": [
       "   user_id  activity_day  activity_page  video_id  author_id  action_type  \\\n",
       "0        8             9              3   1955966     309219            0   \n",
       "1        8             9              0   1340816      12378            0   \n",
       "2        8             9              0   3488372     107008            0   \n",
       "3        8             9              0   1705402      37639            0   \n",
       "4        8             9              0   3710937    1312718            0   \n",
       "\n",
       "   activity_count  \n",
       "0               2  \n",
       "1               1  \n",
       "2               1  \n",
       "3               2  \n",
       "4               1  "
      ]
     },
     "execution_count": 46,
     "metadata": {},
     "output_type": "execute_result"
    }
   ],
   "source": [
    "user_activity_log.head()"
   ]
  },
  {
   "cell_type": "code",
   "execution_count": null,
   "metadata": {
    "collapsed": true
   },
   "outputs": [],
   "source": [
    "存储结果"
   ]
  },
  {
   "cell_type": "code",
   "execution_count": 47,
   "metadata": {
    "ExecuteTime": {
     "end_time": "2018-06-27T01:16:02.101070Z",
     "start_time": "2018-06-27T01:14:44.378240Z"
    },
    "collapsed": true
   },
   "outputs": [],
   "source": [
    "user_register_log.to_csv('dataset_B/user_register_log.csv',index = False)\n",
    "app_launch_log.to_csv('dataset_B/app_launch_log.csv',index = False)\n",
    "video_create_log.to_csv('dataset_B/video_create_log.csv',index = False)\n",
    "user_activity_log.to_csv('dataset_B/user_activity_log.csv',index = False)"
   ]
  },
  {
   "cell_type": "markdown",
   "metadata": {},
   "source": [
    "### 将前3个table合并"
   ]
  },
  {
   "cell_type": "code",
   "execution_count": null,
   "metadata": {
    "collapsed": true
   },
   "outputs": [],
   "source": [
    "读取处理好的结果，作为后续的原始结果"
   ]
  },
  {
   "cell_type": "code",
   "execution_count": 2,
   "metadata": {
    "ExecuteTime": {
     "end_time": "2018-06-29T00:00:42.308604Z",
     "start_time": "2018-06-29T00:00:31.876887Z"
    },
    "collapsed": true
   },
   "outputs": [],
   "source": [
    "user_register_log = pd.read_csv('dataset_B/user_register_log.csv')\n",
    "app_launch_log = pd.read_csv('dataset_B/app_launch_log.csv')\n",
    "video_create_log = pd.read_csv('dataset_B/video_create_log.csv')\n",
    "user_activity_log = pd.read_csv('dataset_B/user_activity_log.csv')"
   ]
  },
  {
   "cell_type": "code",
   "execution_count": 3,
   "metadata": {
    "ExecuteTime": {
     "end_time": "2018-06-29T00:01:21.020746Z",
     "start_time": "2018-06-29T00:01:21.004706Z"
    }
   },
   "outputs": [
    {
     "data": {
      "text/html": [
       "<div>\n",
       "<style>\n",
       "    .dataframe thead tr:only-child th {\n",
       "        text-align: right;\n",
       "    }\n",
       "\n",
       "    .dataframe thead th {\n",
       "        text-align: left;\n",
       "    }\n",
       "\n",
       "    .dataframe tbody tr th {\n",
       "        vertical-align: top;\n",
       "    }\n",
       "</style>\n",
       "<table border=\"1\" class=\"dataframe\">\n",
       "  <thead>\n",
       "    <tr style=\"text-align: right;\">\n",
       "      <th></th>\n",
       "      <th>user_id</th>\n",
       "      <th>activity_day</th>\n",
       "      <th>activity_page</th>\n",
       "      <th>video_id</th>\n",
       "      <th>author_id</th>\n",
       "      <th>action_type</th>\n",
       "      <th>activity_count</th>\n",
       "    </tr>\n",
       "  </thead>\n",
       "  <tbody>\n",
       "    <tr>\n",
       "      <th>0</th>\n",
       "      <td>8</td>\n",
       "      <td>9</td>\n",
       "      <td>3</td>\n",
       "      <td>1955966</td>\n",
       "      <td>309219</td>\n",
       "      <td>0</td>\n",
       "      <td>2</td>\n",
       "    </tr>\n",
       "    <tr>\n",
       "      <th>1</th>\n",
       "      <td>8</td>\n",
       "      <td>9</td>\n",
       "      <td>0</td>\n",
       "      <td>1340816</td>\n",
       "      <td>12378</td>\n",
       "      <td>0</td>\n",
       "      <td>1</td>\n",
       "    </tr>\n",
       "    <tr>\n",
       "      <th>2</th>\n",
       "      <td>8</td>\n",
       "      <td>9</td>\n",
       "      <td>0</td>\n",
       "      <td>3488372</td>\n",
       "      <td>107008</td>\n",
       "      <td>0</td>\n",
       "      <td>1</td>\n",
       "    </tr>\n",
       "    <tr>\n",
       "      <th>3</th>\n",
       "      <td>8</td>\n",
       "      <td>9</td>\n",
       "      <td>0</td>\n",
       "      <td>1705402</td>\n",
       "      <td>37639</td>\n",
       "      <td>0</td>\n",
       "      <td>2</td>\n",
       "    </tr>\n",
       "    <tr>\n",
       "      <th>4</th>\n",
       "      <td>8</td>\n",
       "      <td>9</td>\n",
       "      <td>0</td>\n",
       "      <td>3710937</td>\n",
       "      <td>1312718</td>\n",
       "      <td>0</td>\n",
       "      <td>1</td>\n",
       "    </tr>\n",
       "  </tbody>\n",
       "</table>\n",
       "</div>"
      ],
      "text/plain": [
       "   user_id  activity_day  activity_page  video_id  author_id  action_type  \\\n",
       "0        8             9              3   1955966     309219            0   \n",
       "1        8             9              0   1340816      12378            0   \n",
       "2        8             9              0   3488372     107008            0   \n",
       "3        8             9              0   1705402      37639            0   \n",
       "4        8             9              0   3710937    1312718            0   \n",
       "\n",
       "   activity_count  \n",
       "0               2  \n",
       "1               1  \n",
       "2               1  \n",
       "3               2  \n",
       "4               1  "
      ]
     },
     "execution_count": 3,
     "metadata": {},
     "output_type": "execute_result"
    }
   ],
   "source": [
    "user_activity_log.head()"
   ]
  },
  {
   "cell_type": "code",
   "execution_count": 8,
   "metadata": {
    "ExecuteTime": {
     "end_time": "2018-06-29T00:40:43.439504Z",
     "start_time": "2018-06-29T00:40:41.244570Z"
    },
    "collapsed": true
   },
   "outputs": [
    {
     "data": {
      "text/plain": [
       "activity_day  action_type\n",
       "1             0                65714\n",
       "              1                 2656\n",
       "              2                 1122\n",
       "              3                  353\n",
       "              5                    3\n",
       "2             0               122748\n",
       "              1                 3894\n",
       "              2                 1938\n",
       "              3                  503\n",
       "              5                    4\n",
       "3             0               156394\n",
       "              1                 5062\n",
       "              2                 2036\n",
       "              3                  511\n",
       "              4                    1\n",
       "              5                   31\n",
       "4             0               190002\n",
       "              1                 5585\n",
       "              2                 2156\n",
       "              3                  639\n",
       "              4                    1\n",
       "              5                    7\n",
       "5             0               234055\n",
       "              1                 6698\n",
       "              2                 3120\n",
       "              3                  950\n",
       "              5                   12\n",
       "6             0               338180\n",
       "              1                13220\n",
       "              2                 5178\n",
       "                              ...   \n",
       "26            0              1068962\n",
       "              1                29298\n",
       "              2                 9727\n",
       "              3                 2233\n",
       "              4                   47\n",
       "              5                   37\n",
       "27            0              1341642\n",
       "              1                42708\n",
       "              2                13896\n",
       "              3                 2877\n",
       "              4                   12\n",
       "              5                   65\n",
       "28            0              1399460\n",
       "              1                41200\n",
       "              2                12932\n",
       "              3                 3564\n",
       "              4                   12\n",
       "              5                  129\n",
       "29            0              1210729\n",
       "              1                31872\n",
       "              2                10634\n",
       "              3                 3019\n",
       "              4                    6\n",
       "              5                   37\n",
       "30            0              1249253\n",
       "              1                32264\n",
       "              2                10415\n",
       "              3                 2674\n",
       "              4                    3\n",
       "              5                  361\n",
       "Name: activity_count, Length: 176, dtype: int64"
      ]
     },
     "execution_count": 8,
     "metadata": {},
     "output_type": "execute_result"
    }
   ],
   "source": [
    "user_activity_log.groupby(['activity_day','action_type'])['activity_count'].sum()"
   ]
  },
  {
   "cell_type": "code",
   "execution_count": 4,
   "metadata": {
    "ExecuteTime": {
     "end_time": "2018-06-29T00:01:43.418924Z",
     "start_time": "2018-06-29T00:01:42.782605Z"
    }
   },
   "outputs": [
    {
     "data": {
      "text/plain": [
       "0    8300322\n",
       "3    6809315\n",
       "1    1381398\n",
       "2    1064344\n",
       "4      79683\n",
       "Name: activity_page, dtype: int64"
      ]
     },
     "execution_count": 4,
     "metadata": {},
     "output_type": "execute_result"
    }
   ],
   "source": [
    "user_activity_log['activity_page'].value_counts()"
   ]
  },
  {
   "cell_type": "code",
   "execution_count": 6,
   "metadata": {
    "ExecuteTime": {
     "end_time": "2018-06-29T00:02:45.192207Z",
     "start_time": "2018-06-29T00:02:44.897867Z"
    }
   },
   "outputs": [
    {
     "data": {
      "text/plain": [
       "0    16869873\n",
       "1      537607\n",
       "2      185055\n",
       "3       40809\n",
       "5        1594\n",
       "4         124\n",
       "Name: action_type, dtype: int64"
      ]
     },
     "execution_count": 6,
     "metadata": {},
     "output_type": "execute_result"
    }
   ],
   "source": [
    "user_activity_log['action_type'].value_counts()"
   ]
  },
  {
   "cell_type": "code",
   "execution_count": null,
   "metadata": {
    "collapsed": true
   },
   "outputs": [],
   "source": []
  },
  {
   "cell_type": "code",
   "execution_count": 49,
   "metadata": {
    "ExecuteTime": {
     "end_time": "2018-06-27T01:19:28.354219Z",
     "start_time": "2018-06-27T01:19:28.062202Z"
    },
    "collapsed": true
   },
   "outputs": [],
   "source": [
    "temp1 = pd.merge(user_register_log,app_launch_log,how = 'outer')\n",
    "temp1 = temp1.sort_values(ascending = True,by = ['user_id','register_day','app_launch_day'])"
   ]
  },
  {
   "cell_type": "code",
   "execution_count": 50,
   "metadata": {
    "ExecuteTime": {
     "end_time": "2018-06-27T01:19:45.616230Z",
     "start_time": "2018-06-27T01:19:45.611179Z"
    }
   },
   "outputs": [
    {
     "data": {
      "text/plain": [
       "((51480, 4), (252496, 2), (252496, 5))"
      ]
     },
     "execution_count": 50,
     "metadata": {},
     "output_type": "execute_result"
    }
   ],
   "source": [
    "user_register_log.shape,app_launch_log.shape,temp1.shape"
   ]
  },
  {
   "cell_type": "code",
   "execution_count": 53,
   "metadata": {
    "ExecuteTime": {
     "end_time": "2018-06-27T01:26:18.063788Z",
     "start_time": "2018-06-27T01:26:18.034710Z"
    }
   },
   "outputs": [
    {
     "data": {
      "text/plain": [
       "user_id           0\n",
       "register_day      0\n",
       "register_type     0\n",
       "device_type       0\n",
       "app_launch_day    0\n",
       "dtype: int64"
      ]
     },
     "execution_count": 53,
     "metadata": {},
     "output_type": "execute_result"
    }
   ],
   "source": [
    "temp1.isnull().sum()"
   ]
  },
  {
   "cell_type": "code",
   "execution_count": null,
   "metadata": {
    "collapsed": true
   },
   "outputs": [],
   "source": [
    "注意这个merge，必须要让两个day保持是同一天，因此和user_id一样，要作为两个table的连接列。"
   ]
  },
  {
   "cell_type": "code",
   "execution_count": 51,
   "metadata": {
    "ExecuteTime": {
     "end_time": "2018-06-27T01:19:52.270906Z",
     "start_time": "2018-06-27T01:19:51.903545Z"
    },
    "collapsed": true
   },
   "outputs": [],
   "source": [
    "temp2 = pd.merge(temp1,video_create_log,how = 'outer',left_on = ['user_id','app_launch_day'],\n",
    "         right_on = ['user_id','video_create_day'])\n",
    "temp2 = temp2.sort_values(ascending = True,by = ['user_id','register_day','app_launch_day','video_create_day'])"
   ]
  },
  {
   "cell_type": "code",
   "execution_count": 52,
   "metadata": {
    "ExecuteTime": {
     "end_time": "2018-06-27T01:19:58.670706Z",
     "start_time": "2018-06-27T01:19:58.665693Z"
    }
   },
   "outputs": [
    {
     "data": {
      "text/plain": [
       "(252516, 7)"
      ]
     },
     "execution_count": 52,
     "metadata": {},
     "output_type": "execute_result"
    }
   ],
   "source": [
    "temp2.shape"
   ]
  },
  {
   "cell_type": "code",
   "execution_count": null,
   "metadata": {
    "collapsed": true
   },
   "outputs": [],
   "source": [
    "确定缺失值情况，如果注册table有缺失，则必须填补"
   ]
  },
  {
   "cell_type": "code",
   "execution_count": 56,
   "metadata": {
    "ExecuteTime": {
     "end_time": "2018-06-27T01:27:27.932195Z",
     "start_time": "2018-06-27T01:27:27.898106Z"
    }
   },
   "outputs": [
    {
     "data": {
      "text/plain": [
       "user_id                        0\n",
       "register_day                  20\n",
       "register_type                 20\n",
       "device_type                   20\n",
       "app_launch_day                20\n",
       "video_create_day          235245\n",
       "video_create_day_count    235245\n",
       "dtype: int64"
      ]
     },
     "execution_count": 56,
     "metadata": {},
     "output_type": "execute_result"
    }
   ],
   "source": [
    "temp2.isnull().sum()"
   ]
  },
  {
   "cell_type": "code",
   "execution_count": null,
   "metadata": {
    "collapsed": true
   },
   "outputs": [],
   "source": [
    "先观察缺失数据的情况\n",
    "——看了下边的分析就知道了。登录日期是24号，创建视频的时间是25号。\n",
    "因此登录与否和创建视频与否没有同步。造成了这个问题。\n",
    "本身认为创建视频一定会登陆这个也是没问题的（基于这个逻辑merge的），是数据自己本身的问题。"
   ]
  },
  {
   "cell_type": "code",
   "execution_count": 62,
   "metadata": {
    "ExecuteTime": {
     "end_time": "2018-06-27T01:31:26.959566Z",
     "start_time": "2018-06-27T01:31:26.950541Z"
    }
   },
   "outputs": [
    {
     "data": {
      "text/html": [
       "<div>\n",
       "<style>\n",
       "    .dataframe thead tr:only-child th {\n",
       "        text-align: right;\n",
       "    }\n",
       "\n",
       "    .dataframe thead th {\n",
       "        text-align: left;\n",
       "    }\n",
       "\n",
       "    .dataframe tbody tr th {\n",
       "        vertical-align: top;\n",
       "    }\n",
       "</style>\n",
       "<table border=\"1\" class=\"dataframe\">\n",
       "  <thead>\n",
       "    <tr style=\"text-align: right;\">\n",
       "      <th></th>\n",
       "      <th>user_id</th>\n",
       "      <th>app_launch_day</th>\n",
       "    </tr>\n",
       "  </thead>\n",
       "  <tbody>\n",
       "    <tr>\n",
       "      <th>74892</th>\n",
       "      <td>44938</td>\n",
       "      <td>24</td>\n",
       "    </tr>\n",
       "  </tbody>\n",
       "</table>\n",
       "</div>"
      ],
      "text/plain": [
       "       user_id  app_launch_day\n",
       "74892    44938              24"
      ]
     },
     "execution_count": 62,
     "metadata": {},
     "output_type": "execute_result"
    }
   ],
   "source": [
    "user_id = app_launch_log['user_id']\n",
    "app_launch_log[user_id == 44938]"
   ]
  },
  {
   "cell_type": "code",
   "execution_count": 63,
   "metadata": {
    "ExecuteTime": {
     "end_time": "2018-06-27T01:31:29.361483Z",
     "start_time": "2018-06-27T01:31:29.349951Z"
    }
   },
   "outputs": [
    {
     "data": {
      "text/html": [
       "<div>\n",
       "<style>\n",
       "    .dataframe thead tr:only-child th {\n",
       "        text-align: right;\n",
       "    }\n",
       "\n",
       "    .dataframe thead th {\n",
       "        text-align: left;\n",
       "    }\n",
       "\n",
       "    .dataframe tbody tr th {\n",
       "        vertical-align: top;\n",
       "    }\n",
       "</style>\n",
       "<table border=\"1\" class=\"dataframe\">\n",
       "  <thead>\n",
       "    <tr style=\"text-align: right;\">\n",
       "      <th></th>\n",
       "      <th>user_id</th>\n",
       "      <th>register_day</th>\n",
       "      <th>register_type</th>\n",
       "      <th>device_type</th>\n",
       "    </tr>\n",
       "  </thead>\n",
       "  <tbody>\n",
       "    <tr>\n",
       "      <th>46342</th>\n",
       "      <td>44938</td>\n",
       "      <td>24</td>\n",
       "      <td>2</td>\n",
       "      <td>2759</td>\n",
       "    </tr>\n",
       "  </tbody>\n",
       "</table>\n",
       "</div>"
      ],
      "text/plain": [
       "       user_id  register_day  register_type  device_type\n",
       "46342    44938            24              2         2759"
      ]
     },
     "execution_count": 63,
     "metadata": {},
     "output_type": "execute_result"
    }
   ],
   "source": [
    "user_id = user_register_log['user_id']\n",
    "user_register_log[user_id == 44938]"
   ]
  },
  {
   "cell_type": "code",
   "execution_count": 64,
   "metadata": {
    "ExecuteTime": {
     "end_time": "2018-06-27T01:31:54.648163Z",
     "start_time": "2018-06-27T01:31:54.638639Z"
    }
   },
   "outputs": [
    {
     "data": {
      "text/html": [
       "<div>\n",
       "<style>\n",
       "    .dataframe thead tr:only-child th {\n",
       "        text-align: right;\n",
       "    }\n",
       "\n",
       "    .dataframe thead th {\n",
       "        text-align: left;\n",
       "    }\n",
       "\n",
       "    .dataframe tbody tr th {\n",
       "        vertical-align: top;\n",
       "    }\n",
       "</style>\n",
       "<table border=\"1\" class=\"dataframe\">\n",
       "  <thead>\n",
       "    <tr style=\"text-align: right;\">\n",
       "      <th></th>\n",
       "      <th>user_id</th>\n",
       "      <th>video_create_day</th>\n",
       "      <th>video_create_day_count</th>\n",
       "    </tr>\n",
       "  </thead>\n",
       "  <tbody>\n",
       "    <tr>\n",
       "      <th>532</th>\n",
       "      <td>44938</td>\n",
       "      <td>25</td>\n",
       "      <td>2</td>\n",
       "    </tr>\n",
       "  </tbody>\n",
       "</table>\n",
       "</div>"
      ],
      "text/plain": [
       "     user_id  video_create_day  video_create_day_count\n",
       "532    44938                25                       2"
      ]
     },
     "execution_count": 64,
     "metadata": {},
     "output_type": "execute_result"
    }
   ],
   "source": [
    "user_id = video_create_log['user_id']\n",
    "video_create_log[user_id == 44938]"
   ]
  },
  {
   "cell_type": "code",
   "execution_count": 57,
   "metadata": {
    "ExecuteTime": {
     "end_time": "2018-06-27T01:27:39.270016Z",
     "start_time": "2018-06-27T01:27:39.255496Z"
    }
   },
   "outputs": [
    {
     "data": {
      "text/html": [
       "<div>\n",
       "<style>\n",
       "    .dataframe thead tr:only-child th {\n",
       "        text-align: right;\n",
       "    }\n",
       "\n",
       "    .dataframe thead th {\n",
       "        text-align: left;\n",
       "    }\n",
       "\n",
       "    .dataframe tbody tr th {\n",
       "        vertical-align: top;\n",
       "    }\n",
       "</style>\n",
       "<table border=\"1\" class=\"dataframe\">\n",
       "  <thead>\n",
       "    <tr style=\"text-align: right;\">\n",
       "      <th></th>\n",
       "      <th>user_id</th>\n",
       "      <th>register_day</th>\n",
       "      <th>register_type</th>\n",
       "      <th>device_type</th>\n",
       "      <th>app_launch_day</th>\n",
       "      <th>video_create_day</th>\n",
       "      <th>video_create_day_count</th>\n",
       "    </tr>\n",
       "  </thead>\n",
       "  <tbody>\n",
       "    <tr>\n",
       "      <th>252496</th>\n",
       "      <td>44938</td>\n",
       "      <td>NaN</td>\n",
       "      <td>NaN</td>\n",
       "      <td>NaN</td>\n",
       "      <td>NaN</td>\n",
       "      <td>25.0</td>\n",
       "      <td>2.0</td>\n",
       "    </tr>\n",
       "    <tr>\n",
       "      <th>252497</th>\n",
       "      <td>150848</td>\n",
       "      <td>NaN</td>\n",
       "      <td>NaN</td>\n",
       "      <td>NaN</td>\n",
       "      <td>NaN</td>\n",
       "      <td>19.0</td>\n",
       "      <td>1.0</td>\n",
       "    </tr>\n",
       "    <tr>\n",
       "      <th>252498</th>\n",
       "      <td>180863</td>\n",
       "      <td>NaN</td>\n",
       "      <td>NaN</td>\n",
       "      <td>NaN</td>\n",
       "      <td>NaN</td>\n",
       "      <td>15.0</td>\n",
       "      <td>1.0</td>\n",
       "    </tr>\n",
       "    <tr>\n",
       "      <th>252499</th>\n",
       "      <td>184543</td>\n",
       "      <td>NaN</td>\n",
       "      <td>NaN</td>\n",
       "      <td>NaN</td>\n",
       "      <td>NaN</td>\n",
       "      <td>24.0</td>\n",
       "      <td>3.0</td>\n",
       "    </tr>\n",
       "    <tr>\n",
       "      <th>252500</th>\n",
       "      <td>212676</td>\n",
       "      <td>NaN</td>\n",
       "      <td>NaN</td>\n",
       "      <td>NaN</td>\n",
       "      <td>NaN</td>\n",
       "      <td>23.0</td>\n",
       "      <td>3.0</td>\n",
       "    </tr>\n",
       "    <tr>\n",
       "      <th>252501</th>\n",
       "      <td>255924</td>\n",
       "      <td>NaN</td>\n",
       "      <td>NaN</td>\n",
       "      <td>NaN</td>\n",
       "      <td>NaN</td>\n",
       "      <td>30.0</td>\n",
       "      <td>1.0</td>\n",
       "    </tr>\n",
       "    <tr>\n",
       "      <th>252502</th>\n",
       "      <td>431351</td>\n",
       "      <td>NaN</td>\n",
       "      <td>NaN</td>\n",
       "      <td>NaN</td>\n",
       "      <td>NaN</td>\n",
       "      <td>26.0</td>\n",
       "      <td>1.0</td>\n",
       "    </tr>\n",
       "    <tr>\n",
       "      <th>252503</th>\n",
       "      <td>454157</td>\n",
       "      <td>NaN</td>\n",
       "      <td>NaN</td>\n",
       "      <td>NaN</td>\n",
       "      <td>NaN</td>\n",
       "      <td>15.0</td>\n",
       "      <td>1.0</td>\n",
       "    </tr>\n",
       "    <tr>\n",
       "      <th>252504</th>\n",
       "      <td>514730</td>\n",
       "      <td>NaN</td>\n",
       "      <td>NaN</td>\n",
       "      <td>NaN</td>\n",
       "      <td>NaN</td>\n",
       "      <td>13.0</td>\n",
       "      <td>1.0</td>\n",
       "    </tr>\n",
       "    <tr>\n",
       "      <th>252505</th>\n",
       "      <td>566846</td>\n",
       "      <td>NaN</td>\n",
       "      <td>NaN</td>\n",
       "      <td>NaN</td>\n",
       "      <td>NaN</td>\n",
       "      <td>22.0</td>\n",
       "      <td>2.0</td>\n",
       "    </tr>\n",
       "    <tr>\n",
       "      <th>252506</th>\n",
       "      <td>640763</td>\n",
       "      <td>NaN</td>\n",
       "      <td>NaN</td>\n",
       "      <td>NaN</td>\n",
       "      <td>NaN</td>\n",
       "      <td>12.0</td>\n",
       "      <td>1.0</td>\n",
       "    </tr>\n",
       "    <tr>\n",
       "      <th>252507</th>\n",
       "      <td>656787</td>\n",
       "      <td>NaN</td>\n",
       "      <td>NaN</td>\n",
       "      <td>NaN</td>\n",
       "      <td>NaN</td>\n",
       "      <td>22.0</td>\n",
       "      <td>2.0</td>\n",
       "    </tr>\n",
       "    <tr>\n",
       "      <th>252508</th>\n",
       "      <td>699548</td>\n",
       "      <td>NaN</td>\n",
       "      <td>NaN</td>\n",
       "      <td>NaN</td>\n",
       "      <td>NaN</td>\n",
       "      <td>22.0</td>\n",
       "      <td>2.0</td>\n",
       "    </tr>\n",
       "    <tr>\n",
       "      <th>252509</th>\n",
       "      <td>916561</td>\n",
       "      <td>NaN</td>\n",
       "      <td>NaN</td>\n",
       "      <td>NaN</td>\n",
       "      <td>NaN</td>\n",
       "      <td>22.0</td>\n",
       "      <td>1.0</td>\n",
       "    </tr>\n",
       "    <tr>\n",
       "      <th>252510</th>\n",
       "      <td>1001116</td>\n",
       "      <td>NaN</td>\n",
       "      <td>NaN</td>\n",
       "      <td>NaN</td>\n",
       "      <td>NaN</td>\n",
       "      <td>25.0</td>\n",
       "      <td>3.0</td>\n",
       "    </tr>\n",
       "    <tr>\n",
       "      <th>252511</th>\n",
       "      <td>1128099</td>\n",
       "      <td>NaN</td>\n",
       "      <td>NaN</td>\n",
       "      <td>NaN</td>\n",
       "      <td>NaN</td>\n",
       "      <td>28.0</td>\n",
       "      <td>1.0</td>\n",
       "    </tr>\n",
       "    <tr>\n",
       "      <th>252512</th>\n",
       "      <td>1300736</td>\n",
       "      <td>NaN</td>\n",
       "      <td>NaN</td>\n",
       "      <td>NaN</td>\n",
       "      <td>NaN</td>\n",
       "      <td>10.0</td>\n",
       "      <td>2.0</td>\n",
       "    </tr>\n",
       "    <tr>\n",
       "      <th>252513</th>\n",
       "      <td>1329634</td>\n",
       "      <td>NaN</td>\n",
       "      <td>NaN</td>\n",
       "      <td>NaN</td>\n",
       "      <td>NaN</td>\n",
       "      <td>10.0</td>\n",
       "      <td>2.0</td>\n",
       "    </tr>\n",
       "    <tr>\n",
       "      <th>252514</th>\n",
       "      <td>1334150</td>\n",
       "      <td>NaN</td>\n",
       "      <td>NaN</td>\n",
       "      <td>NaN</td>\n",
       "      <td>NaN</td>\n",
       "      <td>11.0</td>\n",
       "      <td>2.0</td>\n",
       "    </tr>\n",
       "    <tr>\n",
       "      <th>252515</th>\n",
       "      <td>1352662</td>\n",
       "      <td>NaN</td>\n",
       "      <td>NaN</td>\n",
       "      <td>NaN</td>\n",
       "      <td>NaN</td>\n",
       "      <td>21.0</td>\n",
       "      <td>2.0</td>\n",
       "    </tr>\n",
       "  </tbody>\n",
       "</table>\n",
       "</div>"
      ],
      "text/plain": [
       "        user_id  register_day  register_type  device_type  app_launch_day  \\\n",
       "252496    44938           NaN            NaN          NaN             NaN   \n",
       "252497   150848           NaN            NaN          NaN             NaN   \n",
       "252498   180863           NaN            NaN          NaN             NaN   \n",
       "252499   184543           NaN            NaN          NaN             NaN   \n",
       "252500   212676           NaN            NaN          NaN             NaN   \n",
       "252501   255924           NaN            NaN          NaN             NaN   \n",
       "252502   431351           NaN            NaN          NaN             NaN   \n",
       "252503   454157           NaN            NaN          NaN             NaN   \n",
       "252504   514730           NaN            NaN          NaN             NaN   \n",
       "252505   566846           NaN            NaN          NaN             NaN   \n",
       "252506   640763           NaN            NaN          NaN             NaN   \n",
       "252507   656787           NaN            NaN          NaN             NaN   \n",
       "252508   699548           NaN            NaN          NaN             NaN   \n",
       "252509   916561           NaN            NaN          NaN             NaN   \n",
       "252510  1001116           NaN            NaN          NaN             NaN   \n",
       "252511  1128099           NaN            NaN          NaN             NaN   \n",
       "252512  1300736           NaN            NaN          NaN             NaN   \n",
       "252513  1329634           NaN            NaN          NaN             NaN   \n",
       "252514  1334150           NaN            NaN          NaN             NaN   \n",
       "252515  1352662           NaN            NaN          NaN             NaN   \n",
       "\n",
       "        video_create_day  video_create_day_count  \n",
       "252496              25.0                     2.0  \n",
       "252497              19.0                     1.0  \n",
       "252498              15.0                     1.0  \n",
       "252499              24.0                     3.0  \n",
       "252500              23.0                     3.0  \n",
       "252501              30.0                     1.0  \n",
       "252502              26.0                     1.0  \n",
       "252503              15.0                     1.0  \n",
       "252504              13.0                     1.0  \n",
       "252505              22.0                     2.0  \n",
       "252506              12.0                     1.0  \n",
       "252507              22.0                     2.0  \n",
       "252508              22.0                     2.0  \n",
       "252509              22.0                     1.0  \n",
       "252510              25.0                     3.0  \n",
       "252511              28.0                     1.0  \n",
       "252512              10.0                     2.0  \n",
       "252513              10.0                     2.0  \n",
       "252514              11.0                     2.0  \n",
       "252515              21.0                     2.0  "
      ]
     },
     "execution_count": 57,
     "metadata": {},
     "output_type": "execute_result"
    }
   ],
   "source": [
    "temp2_reg_null = temp2[temp2['register_day'].isnull()]\n",
    "temp2_reg_null"
   ]
  },
  {
   "cell_type": "code",
   "execution_count": null,
   "metadata": {
    "collapsed": true
   },
   "outputs": [],
   "source": [
    "用复制的方法填补这些不该出现的nan\n",
    "——利用其它table移动过来这些值"
   ]
  },
  {
   "cell_type": "code",
   "execution_count": 65,
   "metadata": {
    "ExecuteTime": {
     "end_time": "2018-06-27T01:33:15.260443Z",
     "start_time": "2018-06-27T01:33:14.877151Z"
    }
   },
   "outputs": [
    {
     "name": "stderr",
     "output_type": "stream",
     "text": [
      "E:\\anaconda\\lib\\site-packages\\ipykernel_launcher.py:1: SettingWithCopyWarning: \n",
      "A value is trying to be set on a copy of a slice from a DataFrame.\n",
      "Try using .loc[row_indexer,col_indexer] = value instead\n",
      "\n",
      "See the caveats in the documentation: http://pandas.pydata.org/pandas-docs/stable/indexing.html#indexing-view-versus-copy\n",
      "  \"\"\"Entry point for launching an IPython kernel.\n"
     ]
    }
   ],
   "source": [
    "temp2_reg_null['app_launch_day'] = temp2_reg_null['video_create_day']"
   ]
  },
  {
   "cell_type": "code",
   "execution_count": null,
   "metadata": {
    "collapsed": true
   },
   "outputs": [],
   "source": [
    "将这个子table的结果覆盖回原表格temp2中（特定区域覆盖）"
   ]
  },
  {
   "cell_type": "code",
   "execution_count": 66,
   "metadata": {
    "ExecuteTime": {
     "end_time": "2018-06-27T01:33:18.491646Z",
     "start_time": "2018-06-27T01:33:18.447495Z"
    },
    "collapsed": true
   },
   "outputs": [],
   "source": [
    "temp2[temp2['register_day'].isnull()] = temp2_reg_null"
   ]
  },
  {
   "cell_type": "code",
   "execution_count": 70,
   "metadata": {
    "ExecuteTime": {
     "end_time": "2018-06-27T01:38:47.261390Z",
     "start_time": "2018-06-27T01:38:47.228264Z"
    }
   },
   "outputs": [
    {
     "data": {
      "text/plain": [
       "user_id                        0\n",
       "register_day                  20\n",
       "register_type                 20\n",
       "device_type                   20\n",
       "app_launch_day                 0\n",
       "video_create_day          235245\n",
       "video_create_day_count    235245\n",
       "dtype: int64"
      ]
     },
     "execution_count": 70,
     "metadata": {},
     "output_type": "execute_result"
    }
   ],
   "source": [
    "temp2.isnull().sum()"
   ]
  },
  {
   "cell_type": "code",
   "execution_count": null,
   "metadata": {
    "collapsed": true
   },
   "outputs": [],
   "source": [
    "继续其他列"
   ]
  },
  {
   "cell_type": "code",
   "execution_count": null,
   "metadata": {
    "collapsed": true
   },
   "outputs": [],
   "source": [
    "由于这些id在temp2和注册table中的index已经不同，因此没办法直接从注册table中提取到信息\n",
    "因此需要先提取出这些user在注册table中的index"
   ]
  },
  {
   "cell_type": "code",
   "execution_count": 71,
   "metadata": {
    "ExecuteTime": {
     "end_time": "2018-06-27T01:38:52.476366Z",
     "start_time": "2018-06-27T01:38:52.473359Z"
    },
    "collapsed": true
   },
   "outputs": [],
   "source": [
    "user_id = temp2_reg_null['user_id']\n",
    "user_id2 = user_register_log['user_id']"
   ]
  },
  {
   "cell_type": "code",
   "execution_count": 72,
   "metadata": {
    "ExecuteTime": {
     "end_time": "2018-06-27T01:38:53.248714Z",
     "start_time": "2018-06-27T01:38:53.132178Z"
    },
    "collapsed": true
   },
   "outputs": [],
   "source": [
    "temp = []\n",
    "for item in user_id:\n",
    "    temp.append(user_id2[user_id2 == item].index.values[0])"
   ]
  },
  {
   "cell_type": "code",
   "execution_count": null,
   "metadata": {
    "collapsed": true
   },
   "outputs": [],
   "source": [
    "根据index获得对应的注册信息"
   ]
  },
  {
   "cell_type": "code",
   "execution_count": 73,
   "metadata": {
    "ExecuteTime": {
     "end_time": "2018-06-27T01:38:56.066390Z",
     "start_time": "2018-06-27T01:38:55.960707Z"
    },
    "collapsed": true
   },
   "outputs": [],
   "source": [
    "table_temp = user_register_log.loc[temp,:]\n",
    "table_temp = table_temp.reset_index()\n",
    "del table_temp['index']"
   ]
  },
  {
   "cell_type": "code",
   "execution_count": null,
   "metadata": {
    "collapsed": true
   },
   "outputs": [],
   "source": [
    "此时index仍然是注册table的，要变成temp2这个table的index！之后才能覆盖"
   ]
  },
  {
   "cell_type": "code",
   "execution_count": 74,
   "metadata": {
    "ExecuteTime": {
     "end_time": "2018-06-27T01:38:58.097433Z",
     "start_time": "2018-06-27T01:38:58.093924Z"
    },
    "collapsed": true
   },
   "outputs": [],
   "source": [
    "table_temp.index = temp2_reg_null.index"
   ]
  },
  {
   "cell_type": "code",
   "execution_count": null,
   "metadata": {
    "collapsed": true
   },
   "outputs": [],
   "source": [
    "内容覆盖"
   ]
  },
  {
   "cell_type": "code",
   "execution_count": 75,
   "metadata": {
    "ExecuteTime": {
     "end_time": "2018-06-27T01:39:00.806015Z",
     "start_time": "2018-06-27T01:39:00.721290Z"
    }
   },
   "outputs": [
    {
     "name": "stderr",
     "output_type": "stream",
     "text": [
      "E:\\anaconda\\lib\\site-packages\\ipykernel_launcher.py:1: SettingWithCopyWarning: \n",
      "A value is trying to be set on a copy of a slice from a DataFrame.\n",
      "Try using .loc[row_indexer,col_indexer] = value instead\n",
      "\n",
      "See the caveats in the documentation: http://pandas.pydata.org/pandas-docs/stable/indexing.html#indexing-view-versus-copy\n",
      "  \"\"\"Entry point for launching an IPython kernel.\n",
      "E:\\anaconda\\lib\\site-packages\\ipykernel_launcher.py:2: SettingWithCopyWarning: \n",
      "A value is trying to be set on a copy of a slice from a DataFrame.\n",
      "Try using .loc[row_indexer,col_indexer] = value instead\n",
      "\n",
      "See the caveats in the documentation: http://pandas.pydata.org/pandas-docs/stable/indexing.html#indexing-view-versus-copy\n",
      "  \n",
      "E:\\anaconda\\lib\\site-packages\\ipykernel_launcher.py:3: SettingWithCopyWarning: \n",
      "A value is trying to be set on a copy of a slice from a DataFrame.\n",
      "Try using .loc[row_indexer,col_indexer] = value instead\n",
      "\n",
      "See the caveats in the documentation: http://pandas.pydata.org/pandas-docs/stable/indexing.html#indexing-view-versus-copy\n",
      "  This is separate from the ipykernel package so we can avoid doing imports until\n"
     ]
    }
   ],
   "source": [
    "temp2_reg_null['register_day'] = table_temp['register_day']\n",
    "temp2_reg_null['register_type'] = table_temp['register_type']\n",
    "temp2_reg_null['device_type'] = table_temp['device_type']"
   ]
  },
  {
   "cell_type": "code",
   "execution_count": 76,
   "metadata": {
    "ExecuteTime": {
     "end_time": "2018-06-27T01:39:03.433353Z",
     "start_time": "2018-06-27T01:39:03.405725Z"
    },
    "collapsed": true
   },
   "outputs": [],
   "source": [
    "temp2[temp2['register_day'].isnull()] = temp2_reg_null"
   ]
  },
  {
   "cell_type": "code",
   "execution_count": 77,
   "metadata": {
    "ExecuteTime": {
     "end_time": "2018-06-27T01:39:04.062093Z",
     "start_time": "2018-06-27T01:39:04.027001Z"
    }
   },
   "outputs": [
    {
     "data": {
      "text/plain": [
       "user_id                        0\n",
       "register_day                   0\n",
       "register_type                  0\n",
       "device_type                    0\n",
       "app_launch_day                 0\n",
       "video_create_day          235245\n",
       "video_create_day_count    235245\n",
       "dtype: int64"
      ]
     },
     "execution_count": 77,
     "metadata": {},
     "output_type": "execute_result"
    }
   ],
   "source": [
    "temp2.isnull().sum()"
   ]
  },
  {
   "cell_type": "code",
   "execution_count": 78,
   "metadata": {
    "ExecuteTime": {
     "end_time": "2018-06-27T01:39:17.749980Z",
     "start_time": "2018-06-27T01:39:17.736418Z"
    }
   },
   "outputs": [
    {
     "data": {
      "text/html": [
       "<div>\n",
       "<style>\n",
       "    .dataframe thead tr:only-child th {\n",
       "        text-align: right;\n",
       "    }\n",
       "\n",
       "    .dataframe thead th {\n",
       "        text-align: left;\n",
       "    }\n",
       "\n",
       "    .dataframe tbody tr th {\n",
       "        vertical-align: top;\n",
       "    }\n",
       "</style>\n",
       "<table border=\"1\" class=\"dataframe\">\n",
       "  <thead>\n",
       "    <tr style=\"text-align: right;\">\n",
       "      <th></th>\n",
       "      <th>user_id</th>\n",
       "      <th>register_day</th>\n",
       "      <th>register_type</th>\n",
       "      <th>device_type</th>\n",
       "      <th>app_launch_day</th>\n",
       "      <th>video_create_day</th>\n",
       "      <th>video_create_day_count</th>\n",
       "    </tr>\n",
       "  </thead>\n",
       "  <tbody>\n",
       "    <tr>\n",
       "      <th>252496</th>\n",
       "      <td>44938</td>\n",
       "      <td>24</td>\n",
       "      <td>2</td>\n",
       "      <td>2759</td>\n",
       "      <td>25.0</td>\n",
       "      <td>25.0</td>\n",
       "      <td>2.0</td>\n",
       "    </tr>\n",
       "    <tr>\n",
       "      <th>252497</th>\n",
       "      <td>150848</td>\n",
       "      <td>18</td>\n",
       "      <td>2</td>\n",
       "      <td>3473</td>\n",
       "      <td>19.0</td>\n",
       "      <td>19.0</td>\n",
       "      <td>1.0</td>\n",
       "    </tr>\n",
       "    <tr>\n",
       "      <th>252498</th>\n",
       "      <td>180863</td>\n",
       "      <td>6</td>\n",
       "      <td>2</td>\n",
       "      <td>41203</td>\n",
       "      <td>15.0</td>\n",
       "      <td>15.0</td>\n",
       "      <td>1.0</td>\n",
       "    </tr>\n",
       "    <tr>\n",
       "      <th>252499</th>\n",
       "      <td>184543</td>\n",
       "      <td>23</td>\n",
       "      <td>2</td>\n",
       "      <td>2923</td>\n",
       "      <td>24.0</td>\n",
       "      <td>24.0</td>\n",
       "      <td>3.0</td>\n",
       "    </tr>\n",
       "    <tr>\n",
       "      <th>252500</th>\n",
       "      <td>212676</td>\n",
       "      <td>22</td>\n",
       "      <td>2</td>\n",
       "      <td>3108</td>\n",
       "      <td>23.0</td>\n",
       "      <td>23.0</td>\n",
       "      <td>3.0</td>\n",
       "    </tr>\n",
       "    <tr>\n",
       "      <th>252501</th>\n",
       "      <td>255924</td>\n",
       "      <td>29</td>\n",
       "      <td>2</td>\n",
       "      <td>3239</td>\n",
       "      <td>30.0</td>\n",
       "      <td>30.0</td>\n",
       "      <td>1.0</td>\n",
       "    </tr>\n",
       "    <tr>\n",
       "      <th>252502</th>\n",
       "      <td>431351</td>\n",
       "      <td>25</td>\n",
       "      <td>2</td>\n",
       "      <td>3016</td>\n",
       "      <td>26.0</td>\n",
       "      <td>26.0</td>\n",
       "      <td>1.0</td>\n",
       "    </tr>\n",
       "    <tr>\n",
       "      <th>252503</th>\n",
       "      <td>454157</td>\n",
       "      <td>14</td>\n",
       "      <td>2</td>\n",
       "      <td>3140</td>\n",
       "      <td>15.0</td>\n",
       "      <td>15.0</td>\n",
       "      <td>1.0</td>\n",
       "    </tr>\n",
       "    <tr>\n",
       "      <th>252504</th>\n",
       "      <td>514730</td>\n",
       "      <td>12</td>\n",
       "      <td>2</td>\n",
       "      <td>3468</td>\n",
       "      <td>13.0</td>\n",
       "      <td>13.0</td>\n",
       "      <td>1.0</td>\n",
       "    </tr>\n",
       "    <tr>\n",
       "      <th>252505</th>\n",
       "      <td>566846</td>\n",
       "      <td>21</td>\n",
       "      <td>2</td>\n",
       "      <td>128</td>\n",
       "      <td>22.0</td>\n",
       "      <td>22.0</td>\n",
       "      <td>2.0</td>\n",
       "    </tr>\n",
       "    <tr>\n",
       "      <th>252506</th>\n",
       "      <td>640763</td>\n",
       "      <td>11</td>\n",
       "      <td>2</td>\n",
       "      <td>47928</td>\n",
       "      <td>12.0</td>\n",
       "      <td>12.0</td>\n",
       "      <td>1.0</td>\n",
       "    </tr>\n",
       "    <tr>\n",
       "      <th>252507</th>\n",
       "      <td>656787</td>\n",
       "      <td>20</td>\n",
       "      <td>2</td>\n",
       "      <td>128</td>\n",
       "      <td>22.0</td>\n",
       "      <td>22.0</td>\n",
       "      <td>2.0</td>\n",
       "    </tr>\n",
       "    <tr>\n",
       "      <th>252508</th>\n",
       "      <td>699548</td>\n",
       "      <td>21</td>\n",
       "      <td>2</td>\n",
       "      <td>128</td>\n",
       "      <td>22.0</td>\n",
       "      <td>22.0</td>\n",
       "      <td>2.0</td>\n",
       "    </tr>\n",
       "    <tr>\n",
       "      <th>252509</th>\n",
       "      <td>916561</td>\n",
       "      <td>21</td>\n",
       "      <td>2</td>\n",
       "      <td>3632</td>\n",
       "      <td>22.0</td>\n",
       "      <td>22.0</td>\n",
       "      <td>1.0</td>\n",
       "    </tr>\n",
       "    <tr>\n",
       "      <th>252510</th>\n",
       "      <td>1001116</td>\n",
       "      <td>24</td>\n",
       "      <td>2</td>\n",
       "      <td>3227</td>\n",
       "      <td>25.0</td>\n",
       "      <td>25.0</td>\n",
       "      <td>3.0</td>\n",
       "    </tr>\n",
       "    <tr>\n",
       "      <th>252511</th>\n",
       "      <td>1128099</td>\n",
       "      <td>19</td>\n",
       "      <td>2</td>\n",
       "      <td>3128</td>\n",
       "      <td>28.0</td>\n",
       "      <td>28.0</td>\n",
       "      <td>1.0</td>\n",
       "    </tr>\n",
       "    <tr>\n",
       "      <th>252512</th>\n",
       "      <td>1300736</td>\n",
       "      <td>9</td>\n",
       "      <td>2</td>\n",
       "      <td>16692</td>\n",
       "      <td>10.0</td>\n",
       "      <td>10.0</td>\n",
       "      <td>2.0</td>\n",
       "    </tr>\n",
       "    <tr>\n",
       "      <th>252513</th>\n",
       "      <td>1329634</td>\n",
       "      <td>9</td>\n",
       "      <td>2</td>\n",
       "      <td>79569</td>\n",
       "      <td>10.0</td>\n",
       "      <td>10.0</td>\n",
       "      <td>2.0</td>\n",
       "    </tr>\n",
       "    <tr>\n",
       "      <th>252514</th>\n",
       "      <td>1334150</td>\n",
       "      <td>10</td>\n",
       "      <td>2</td>\n",
       "      <td>26281</td>\n",
       "      <td>11.0</td>\n",
       "      <td>11.0</td>\n",
       "      <td>2.0</td>\n",
       "    </tr>\n",
       "    <tr>\n",
       "      <th>252515</th>\n",
       "      <td>1352662</td>\n",
       "      <td>19</td>\n",
       "      <td>2</td>\n",
       "      <td>3352</td>\n",
       "      <td>21.0</td>\n",
       "      <td>21.0</td>\n",
       "      <td>2.0</td>\n",
       "    </tr>\n",
       "  </tbody>\n",
       "</table>\n",
       "</div>"
      ],
      "text/plain": [
       "        user_id  register_day  register_type  device_type  app_launch_day  \\\n",
       "252496    44938            24              2         2759            25.0   \n",
       "252497   150848            18              2         3473            19.0   \n",
       "252498   180863             6              2        41203            15.0   \n",
       "252499   184543            23              2         2923            24.0   \n",
       "252500   212676            22              2         3108            23.0   \n",
       "252501   255924            29              2         3239            30.0   \n",
       "252502   431351            25              2         3016            26.0   \n",
       "252503   454157            14              2         3140            15.0   \n",
       "252504   514730            12              2         3468            13.0   \n",
       "252505   566846            21              2          128            22.0   \n",
       "252506   640763            11              2        47928            12.0   \n",
       "252507   656787            20              2          128            22.0   \n",
       "252508   699548            21              2          128            22.0   \n",
       "252509   916561            21              2         3632            22.0   \n",
       "252510  1001116            24              2         3227            25.0   \n",
       "252511  1128099            19              2         3128            28.0   \n",
       "252512  1300736             9              2        16692            10.0   \n",
       "252513  1329634             9              2        79569            10.0   \n",
       "252514  1334150            10              2        26281            11.0   \n",
       "252515  1352662            19              2         3352            21.0   \n",
       "\n",
       "        video_create_day  video_create_day_count  \n",
       "252496              25.0                     2.0  \n",
       "252497              19.0                     1.0  \n",
       "252498              15.0                     1.0  \n",
       "252499              24.0                     3.0  \n",
       "252500              23.0                     3.0  \n",
       "252501              30.0                     1.0  \n",
       "252502              26.0                     1.0  \n",
       "252503              15.0                     1.0  \n",
       "252504              13.0                     1.0  \n",
       "252505              22.0                     2.0  \n",
       "252506              12.0                     1.0  \n",
       "252507              22.0                     2.0  \n",
       "252508              22.0                     2.0  \n",
       "252509              22.0                     1.0  \n",
       "252510              25.0                     3.0  \n",
       "252511              28.0                     1.0  \n",
       "252512              10.0                     2.0  \n",
       "252513              10.0                     2.0  \n",
       "252514              11.0                     2.0  \n",
       "252515              21.0                     2.0  "
      ]
     },
     "execution_count": 78,
     "metadata": {},
     "output_type": "execute_result"
    }
   ],
   "source": [
    "temp2_reg_null"
   ]
  },
  {
   "cell_type": "code",
   "execution_count": null,
   "metadata": {
    "collapsed": true
   },
   "outputs": [],
   "source": [
    "完成，存档"
   ]
  },
  {
   "cell_type": "code",
   "execution_count": 79,
   "metadata": {
    "ExecuteTime": {
     "end_time": "2018-06-27T01:40:07.143480Z",
     "start_time": "2018-06-27T01:40:05.885996Z"
    },
    "collapsed": true
   },
   "outputs": [],
   "source": [
    "temp2.to_csv('dataset_B_for_model_method/origin_dataset/table_merge_first_3.csv',index = False)"
   ]
  },
  {
   "cell_type": "markdown",
   "metadata": {},
   "source": [
    "### 分析table随时间的趋势，观察如何划分数据集"
   ]
  },
  {
   "cell_type": "code",
   "execution_count": null,
   "metadata": {
    "collapsed": true
   },
   "outputs": [],
   "source": [
    "先抛出重要结论：\n",
    "数据集A该怎么划分，数据集B就怎么划分得了"
   ]
  },
  {
   "cell_type": "code",
   "execution_count": 87,
   "metadata": {
    "ExecuteTime": {
     "end_time": "2018-06-27T01:51:34.940343Z",
     "start_time": "2018-06-27T01:51:25.386679Z"
    },
    "collapsed": true
   },
   "outputs": [],
   "source": [
    "user_register_log = pd.read_csv('dataset_B/user_register_log.csv')\n",
    "app_launch_log = pd.read_csv('dataset_B/app_launch_log.csv')\n",
    "video_create_log = pd.read_csv('dataset_B/video_create_log.csv')\n",
    "user_activity_log = pd.read_csv('dataset_B/user_activity_log.csv')"
   ]
  },
  {
   "cell_type": "code",
   "execution_count": 88,
   "metadata": {
    "ExecuteTime": {
     "end_time": "2018-06-27T01:51:40.564025Z",
     "start_time": "2018-06-27T01:51:40.558510Z"
    }
   },
   "outputs": [
    {
     "data": {
      "text/plain": [
       "(51480, 4)"
      ]
     },
     "execution_count": 88,
     "metadata": {},
     "output_type": "execute_result"
    }
   ],
   "source": [
    "user_register_log.shape"
   ]
  },
  {
   "cell_type": "code",
   "execution_count": 89,
   "metadata": {
    "ExecuteTime": {
     "end_time": "2018-06-27T01:51:50.462225Z",
     "start_time": "2018-06-27T01:51:50.457687Z"
    },
    "collapsed": true
   },
   "outputs": [],
   "source": [
    "register_count = user_register_log['register_day'].value_counts()"
   ]
  },
  {
   "cell_type": "code",
   "execution_count": 90,
   "metadata": {
    "ExecuteTime": {
     "end_time": "2018-06-27T01:51:50.984561Z",
     "start_time": "2018-06-27T01:51:50.981050Z"
    },
    "collapsed": true
   },
   "outputs": [],
   "source": [
    "register_count = register_count.sort_index(ascending = True)"
   ]
  },
  {
   "cell_type": "code",
   "execution_count": 91,
   "metadata": {
    "ExecuteTime": {
     "end_time": "2018-06-27T01:51:51.579914Z",
     "start_time": "2018-06-27T01:51:51.573406Z"
    }
   },
   "outputs": [
    {
     "data": {
      "text/plain": [
       "array([1229, 1142, 1209, 1134, 1368, 1844, 1723, 1218, 1104, 1389, 1377,\n",
       "       1748, 2214, 2102, 1581, 1541, 1483, 1506, 1543, 1780, 2450, 2384,\n",
       "       2266, 2979, 1582, 1711, 2195, 2107, 1812, 1759], dtype=int64)"
      ]
     },
     "execution_count": 91,
     "metadata": {},
     "output_type": "execute_result"
    }
   ],
   "source": [
    "register_count.values"
   ]
  },
  {
   "cell_type": "code",
   "execution_count": null,
   "metadata": {
    "collapsed": true
   },
   "outputs": [],
   "source": [
    "反正看着趋势真的和数据集A没区别啊"
   ]
  },
  {
   "cell_type": "code",
   "execution_count": 85,
   "metadata": {
    "ExecuteTime": {
     "end_time": "2018-06-27T01:50:42.884412Z",
     "start_time": "2018-06-27T01:50:42.762594Z"
    }
   },
   "outputs": [
    {
     "data": {
      "image/png": "[encoded data removed]",
      "text/plain": [
       "<matplotlib.figure.Figure at 0x26437bbec88>"
      ]
     },
     "metadata": {},
     "output_type": "display_data"
    }
   ],
   "source": [
    "import matplotlib.pyplot as plt\n",
    "x = list(register_count.index)\n",
    "y = register_count.values\n",
    "plt.plot(x,y)\n",
    "plt.grid()\n",
    "plt.show()"
   ]
  },
  {
   "cell_type": "code",
   "execution_count": null,
   "metadata": {
    "collapsed": true
   },
   "outputs": [],
   "source": [
    "观察突发注册时间段：\n",
    "高发注册区间\n",
    "6,7——13,14——21,22，23，24——27,28\n",
    "如果6,7是周末，那么：20,21是周末，只是因为某些缘故让后边几天注册人数变多了（比如活动）\n",
    "——得出结论：31-37是周三到下周三。\n",
    "因此数据集的分割根据这个信息——\n",
    "1-16 17-23：17是周三——14+3\n",
    "8-23 24-30：21+3 = 24也是周三\n",
    "15-30 31-37"
   ]
  },
  {
   "cell_type": "code",
   "execution_count": 93,
   "metadata": {
    "ExecuteTime": {
     "end_time": "2018-06-27T01:53:00.653017Z",
     "start_time": "2018-06-27T01:53:00.641988Z"
    },
    "collapsed": true
   },
   "outputs": [],
   "source": [
    "launch_count = app_launch_log['app_launch_day'].value_counts()\n",
    "launch_count.sort_index(ascending = True,inplace = True)"
   ]
  },
  {
   "cell_type": "code",
   "execution_count": null,
   "metadata": {
    "collapsed": true
   },
   "outputs": [],
   "source": [
    "数据集B的趋势"
   ]
  },
  {
   "cell_type": "code",
   "execution_count": 94,
   "metadata": {
    "ExecuteTime": {
     "end_time": "2018-06-27T01:53:06.932304Z",
     "start_time": "2018-06-27T01:53:06.667611Z"
    }
   },
   "outputs": [
    {
     "data": {
      "image/png": "[encoded data removed]",
      "text/plain": [
       "<matplotlib.figure.Figure at 0x26438063b38>"
      ]
     },
     "metadata": {},
     "output_type": "display_data"
    }
   ],
   "source": [
    "import matplotlib.pyplot as plt\n",
    "x = list(launch_count.index)\n",
    "y = launch_count.values\n",
    "plt.plot(x,y)\n",
    "plt.grid()\n",
    "plt.show()"
   ]
  },
  {
   "cell_type": "code",
   "execution_count": null,
   "metadata": {
    "collapsed": true
   },
   "outputs": [],
   "source": [
    "数据集A的趋势"
   ]
  },
  {
   "cell_type": "code",
   "execution_count": 17,
   "metadata": {
    "ExecuteTime": {
     "end_time": "2018-06-26T07:53:20.472195Z",
     "start_time": "2018-06-26T07:53:20.340370Z"
    }
   },
   "outputs": [
    {
     "data": {
      "image/png": "[encoded data removed]",
      "text/plain": [
       "<matplotlib.figure.Figure at 0x23580b26588>"
      ]
     },
     "metadata": {},
     "output_type": "display_data"
    }
   ],
   "source": [
    "import matplotlib.pyplot as plt\n",
    "x = list(launch_count.index)\n",
    "y = launch_count.values\n",
    "plt.plot(x,y)\n",
    "plt.grid()\n",
    "plt.show()"
   ]
  },
  {
   "cell_type": "code",
   "execution_count": null,
   "metadata": {
    "collapsed": true
   },
   "outputs": [],
   "source": [
    "登录count也在每个周末也一个小幅度的爬升↑\n",
    "6,7——13,14——27,28"
   ]
  },
  {
   "cell_type": "code",
   "execution_count": 95,
   "metadata": {
    "ExecuteTime": {
     "end_time": "2018-06-27T01:54:12.477115Z",
     "start_time": "2018-06-27T01:54:12.467590Z"
    }
   },
   "outputs": [
    {
     "data": {
      "text/html": [
       "<div>\n",
       "<style>\n",
       "    .dataframe thead tr:only-child th {\n",
       "        text-align: right;\n",
       "    }\n",
       "\n",
       "    .dataframe thead th {\n",
       "        text-align: left;\n",
       "    }\n",
       "\n",
       "    .dataframe tbody tr th {\n",
       "        vertical-align: top;\n",
       "    }\n",
       "</style>\n",
       "<table border=\"1\" class=\"dataframe\">\n",
       "  <thead>\n",
       "    <tr style=\"text-align: right;\">\n",
       "      <th></th>\n",
       "      <th>user_id</th>\n",
       "      <th>video_create_day</th>\n",
       "      <th>video_create_day_count</th>\n",
       "    </tr>\n",
       "  </thead>\n",
       "  <tbody>\n",
       "    <tr>\n",
       "      <th>0</th>\n",
       "      <td>885</td>\n",
       "      <td>23</td>\n",
       "      <td>1</td>\n",
       "    </tr>\n",
       "    <tr>\n",
       "      <th>1</th>\n",
       "      <td>979</td>\n",
       "      <td>20</td>\n",
       "      <td>1</td>\n",
       "    </tr>\n",
       "    <tr>\n",
       "      <th>2</th>\n",
       "      <td>1119</td>\n",
       "      <td>27</td>\n",
       "      <td>5</td>\n",
       "    </tr>\n",
       "    <tr>\n",
       "      <th>3</th>\n",
       "      <td>1370</td>\n",
       "      <td>26</td>\n",
       "      <td>4</td>\n",
       "    </tr>\n",
       "    <tr>\n",
       "      <th>4</th>\n",
       "      <td>1607</td>\n",
       "      <td>10</td>\n",
       "      <td>1</td>\n",
       "    </tr>\n",
       "  </tbody>\n",
       "</table>\n",
       "</div>"
      ],
      "text/plain": [
       "   user_id  video_create_day  video_create_day_count\n",
       "0      885                23                       1\n",
       "1      979                20                       1\n",
       "2     1119                27                       5\n",
       "3     1370                26                       4\n",
       "4     1607                10                       1"
      ]
     },
     "execution_count": 95,
     "metadata": {},
     "output_type": "execute_result"
    }
   ],
   "source": [
    "video_create_log.head()"
   ]
  },
  {
   "cell_type": "code",
   "execution_count": 96,
   "metadata": {
    "ExecuteTime": {
     "end_time": "2018-06-27T01:54:19.643471Z",
     "start_time": "2018-06-27T01:54:19.637482Z"
    },
    "collapsed": true
   },
   "outputs": [],
   "source": [
    "video_count = video_create_log['video_create_day'].value_counts()\n",
    "video_count.sort_index(ascending = True,inplace = True)"
   ]
  },
  {
   "cell_type": "code",
   "execution_count": null,
   "metadata": {
    "collapsed": true
   },
   "outputs": [],
   "source": [
    "数据集B的趋势，因为video这个相对少，所以趋势会有一点变化，但是整体没问题，和数据集A完全一致"
   ]
  },
  {
   "cell_type": "code",
   "execution_count": 97,
   "metadata": {
    "ExecuteTime": {
     "end_time": "2018-06-27T01:54:27.930102Z",
     "start_time": "2018-06-27T01:54:27.822353Z"
    }
   },
   "outputs": [
    {
     "data": {
      "image/png": "[encoded data removed]",
      "text/plain": [
       "<matplotlib.figure.Figure at 0x26438019e10>"
      ]
     },
     "metadata": {},
     "output_type": "display_data"
    }
   ],
   "source": [
    "import matplotlib.pyplot as plt\n",
    "x = list(video_count.index)\n",
    "y = video_count.values\n",
    "plt.plot(x,y)\n",
    "plt.grid()\n",
    "plt.show()"
   ]
  },
  {
   "cell_type": "code",
   "execution_count": null,
   "metadata": {
    "collapsed": true
   },
   "outputs": [],
   "source": [
    "数据集A"
   ]
  },
  {
   "cell_type": "code",
   "execution_count": 20,
   "metadata": {
    "ExecuteTime": {
     "end_time": "2018-06-26T07:56:58.303544Z",
     "start_time": "2018-06-26T07:56:58.130079Z"
    }
   },
   "outputs": [
    {
     "data": {
      "image/png": "[encoded data removed]",
      "text/plain": [
       "<matplotlib.figure.Figure at 0x23582053b00>"
      ]
     },
     "metadata": {},
     "output_type": "display_data"
    }
   ],
   "source": [
    "import matplotlib.pyplot as plt\n",
    "x = list(video_count.index)\n",
    "y = video_count.values\n",
    "plt.plot(x,y)\n",
    "plt.grid()\n",
    "plt.show()"
   ]
  },
  {
   "cell_type": "code",
   "execution_count": 98,
   "metadata": {
    "ExecuteTime": {
     "end_time": "2018-06-27T01:55:43.305862Z",
     "start_time": "2018-06-27T01:55:43.295335Z"
    }
   },
   "outputs": [
    {
     "data": {
      "text/html": [
       "<div>\n",
       "<style>\n",
       "    .dataframe thead tr:only-child th {\n",
       "        text-align: right;\n",
       "    }\n",
       "\n",
       "    .dataframe thead th {\n",
       "        text-align: left;\n",
       "    }\n",
       "\n",
       "    .dataframe tbody tr th {\n",
       "        vertical-align: top;\n",
       "    }\n",
       "</style>\n",
       "<table border=\"1\" class=\"dataframe\">\n",
       "  <thead>\n",
       "    <tr style=\"text-align: right;\">\n",
       "      <th></th>\n",
       "      <th>user_id</th>\n",
       "      <th>activity_day</th>\n",
       "      <th>activity_page</th>\n",
       "      <th>video_id</th>\n",
       "      <th>author_id</th>\n",
       "      <th>action_type</th>\n",
       "      <th>activity_count</th>\n",
       "    </tr>\n",
       "  </thead>\n",
       "  <tbody>\n",
       "    <tr>\n",
       "      <th>0</th>\n",
       "      <td>8</td>\n",
       "      <td>9</td>\n",
       "      <td>3</td>\n",
       "      <td>1955966</td>\n",
       "      <td>309219</td>\n",
       "      <td>0</td>\n",
       "      <td>2</td>\n",
       "    </tr>\n",
       "    <tr>\n",
       "      <th>1</th>\n",
       "      <td>8</td>\n",
       "      <td>9</td>\n",
       "      <td>0</td>\n",
       "      <td>1340816</td>\n",
       "      <td>12378</td>\n",
       "      <td>0</td>\n",
       "      <td>1</td>\n",
       "    </tr>\n",
       "    <tr>\n",
       "      <th>2</th>\n",
       "      <td>8</td>\n",
       "      <td>9</td>\n",
       "      <td>0</td>\n",
       "      <td>3488372</td>\n",
       "      <td>107008</td>\n",
       "      <td>0</td>\n",
       "      <td>1</td>\n",
       "    </tr>\n",
       "    <tr>\n",
       "      <th>3</th>\n",
       "      <td>8</td>\n",
       "      <td>9</td>\n",
       "      <td>0</td>\n",
       "      <td>1705402</td>\n",
       "      <td>37639</td>\n",
       "      <td>0</td>\n",
       "      <td>2</td>\n",
       "    </tr>\n",
       "    <tr>\n",
       "      <th>4</th>\n",
       "      <td>8</td>\n",
       "      <td>9</td>\n",
       "      <td>0</td>\n",
       "      <td>3710937</td>\n",
       "      <td>1312718</td>\n",
       "      <td>0</td>\n",
       "      <td>1</td>\n",
       "    </tr>\n",
       "  </tbody>\n",
       "</table>\n",
       "</div>"
      ],
      "text/plain": [
       "   user_id  activity_day  activity_page  video_id  author_id  action_type  \\\n",
       "0        8             9              3   1955966     309219            0   \n",
       "1        8             9              0   1340816      12378            0   \n",
       "2        8             9              0   3488372     107008            0   \n",
       "3        8             9              0   1705402      37639            0   \n",
       "4        8             9              0   3710937    1312718            0   \n",
       "\n",
       "   activity_count  \n",
       "0               2  \n",
       "1               1  \n",
       "2               1  \n",
       "3               2  \n",
       "4               1  "
      ]
     },
     "execution_count": 98,
     "metadata": {},
     "output_type": "execute_result"
    }
   ],
   "source": [
    "user_activity_log.head()"
   ]
  },
  {
   "cell_type": "code",
   "execution_count": 99,
   "metadata": {
    "ExecuteTime": {
     "end_time": "2018-06-27T01:55:48.009678Z",
     "start_time": "2018-06-27T01:55:47.748986Z"
    },
    "collapsed": true
   },
   "outputs": [],
   "source": [
    "act_count = user_activity_log['activity_day'].value_counts()\n",
    "act_count.sort_index(ascending = True,inplace = True)"
   ]
  },
  {
   "cell_type": "code",
   "execution_count": null,
   "metadata": {
    "collapsed": true
   },
   "outputs": [],
   "source": [
    "数据集B"
   ]
  },
  {
   "cell_type": "code",
   "execution_count": 100,
   "metadata": {
    "ExecuteTime": {
     "end_time": "2018-06-27T01:55:59.960575Z",
     "start_time": "2018-06-27T01:55:59.843263Z"
    }
   },
   "outputs": [
    {
     "data": {
      "image/png": "[encoded data removed]",
      "text/plain": [
       "<matplotlib.figure.Figure at 0x26437b6e5c0>"
      ]
     },
     "metadata": {},
     "output_type": "display_data"
    }
   ],
   "source": [
    "import matplotlib.pyplot as plt\n",
    "x = list(act_count.index)\n",
    "y = act_count.values\n",
    "plt.plot(x,y)\n",
    "plt.grid()\n",
    "plt.show()"
   ]
  },
  {
   "cell_type": "code",
   "execution_count": null,
   "metadata": {
    "collapsed": true
   },
   "outputs": [],
   "source": [
    "数据集A"
   ]
  },
  {
   "cell_type": "code",
   "execution_count": 23,
   "metadata": {
    "ExecuteTime": {
     "end_time": "2018-06-26T08:08:36.203485Z",
     "start_time": "2018-06-26T08:08:36.077498Z"
    }
   },
   "outputs": [
    {
     "data": {
      "image/png": "[encoded data removed]",
      "text/plain": [
       "<matplotlib.figure.Figure at 0x23580b6e080>"
      ]
     },
     "metadata": {},
     "output_type": "display_data"
    }
   ],
   "source": [
    "import matplotlib.pyplot as plt\n",
    "x = list(act_count.index)\n",
    "y = act_count.values\n",
    "plt.plot(x,y)\n",
    "plt.grid()\n",
    "plt.show()"
   ]
  },
  {
   "cell_type": "markdown",
   "metadata": {},
   "source": [
    "### 提交所有注册用户，用于计算真实活跃用户的个数"
   ]
  },
  {
   "cell_type": "code",
   "execution_count": null,
   "metadata": {
    "collapsed": true
   },
   "outputs": [],
   "source": [
    "目的：是为了之后使用xgb时，确定0-1分割的阈值时使用。大概多少比较靠近这个【真实活跃用户个数】。\n",
    "testA数值是23700+，0.4的阈值时24400-24500，就差不多。"
   ]
  },
  {
   "cell_type": "code",
   "execution_count": null,
   "metadata": {
    "collapsed": true
   },
   "outputs": [],
   "source": [
    "testB的数值计算结果：\n",
    "0.630887\n",
    "51480 × (0.630887 / 2 - 0.630887) = 23722（和23726相比基本上没有区别！）"
   ]
  },
  {
   "cell_type": "code",
   "execution_count": null,
   "metadata": {
    "collapsed": true
   },
   "outputs": [],
   "source": [
    "计算方式说明：\n",
    "https://www.kesci.com/apps/home/competition/forum/5b1a32fbfe8bc06aa3aab6bb\n",
    "    和文档《通过F1值确定活跃用户的个数+获得算法准确和召回的具体情况》"
   ]
  },
  {
   "cell_type": "code",
   "execution_count": 24,
   "metadata": {
    "ExecuteTime": {
     "end_time": "2018-06-26T08:24:57.757083Z",
     "start_time": "2018-06-26T08:24:57.711461Z"
    },
    "collapsed": true
   },
   "outputs": [],
   "source": [
    "user_register_log = pd.read_csv('dataset/user_register_log.csv')"
   ]
  },
  {
   "cell_type": "code",
   "execution_count": 10,
   "metadata": {
    "ExecuteTime": {
     "end_time": "2018-06-27T00:56:58.022516Z",
     "start_time": "2018-06-27T00:56:58.017000Z"
    },
    "collapsed": true
   },
   "outputs": [],
   "source": [
    "user = user_register_log[['user_id']]"
   ]
  },
  {
   "cell_type": "code",
   "execution_count": 11,
   "metadata": {
    "ExecuteTime": {
     "end_time": "2018-06-27T00:56:58.633994Z",
     "start_time": "2018-06-27T00:56:58.628990Z"
    }
   },
   "outputs": [
    {
     "data": {
      "text/plain": [
       "(51480, 1)"
      ]
     },
     "execution_count": 11,
     "metadata": {},
     "output_type": "execute_result"
    }
   ],
   "source": [
    "user.shape"
   ]
  },
  {
   "cell_type": "code",
   "execution_count": 12,
   "metadata": {
    "ExecuteTime": {
     "end_time": "2018-06-27T00:56:59.466584Z",
     "start_time": "2018-06-27T00:56:59.459527Z"
    }
   },
   "outputs": [
    {
     "data": {
      "text/html": [
       "<div>\n",
       "<style>\n",
       "    .dataframe thead tr:only-child th {\n",
       "        text-align: right;\n",
       "    }\n",
       "\n",
       "    .dataframe thead th {\n",
       "        text-align: left;\n",
       "    }\n",
       "\n",
       "    .dataframe tbody tr th {\n",
       "        vertical-align: top;\n",
       "    }\n",
       "</style>\n",
       "<table border=\"1\" class=\"dataframe\">\n",
       "  <thead>\n",
       "    <tr style=\"text-align: right;\">\n",
       "      <th></th>\n",
       "      <th>user_id</th>\n",
       "    </tr>\n",
       "  </thead>\n",
       "  <tbody>\n",
       "    <tr>\n",
       "      <th>0</th>\n",
       "      <td>167777</td>\n",
       "    </tr>\n",
       "    <tr>\n",
       "      <th>1</th>\n",
       "      <td>886972</td>\n",
       "    </tr>\n",
       "    <tr>\n",
       "      <th>2</th>\n",
       "      <td>921231</td>\n",
       "    </tr>\n",
       "    <tr>\n",
       "      <th>3</th>\n",
       "      <td>904908</td>\n",
       "    </tr>\n",
       "    <tr>\n",
       "      <th>4</th>\n",
       "      <td>460291</td>\n",
       "    </tr>\n",
       "  </tbody>\n",
       "</table>\n",
       "</div>"
      ],
      "text/plain": [
       "   user_id\n",
       "0   167777\n",
       "1   886972\n",
       "2   921231\n",
       "3   904908\n",
       "4   460291"
      ]
     },
     "execution_count": 12,
     "metadata": {},
     "output_type": "execute_result"
    }
   ],
   "source": [
    "user.head()"
   ]
  },
  {
   "cell_type": "code",
   "execution_count": null,
   "metadata": {
    "collapsed": true
   },
   "outputs": [],
   "source": [
    "提交结果"
   ]
  },
  {
   "cell_type": "code",
   "execution_count": 13,
   "metadata": {
    "ExecuteTime": {
     "end_time": "2018-06-27T00:57:06.273154Z",
     "start_time": "2018-06-27T00:57:06.193407Z"
    },
    "collapsed": true
   },
   "outputs": [],
   "source": [
    "user.to_csv('all_user_testB.csv',index = False, header = False) # 基本调参后的结果"
   ]
  },
  {
   "cell_type": "code",
   "execution_count": null,
   "metadata": {
    "collapsed": true
   },
   "outputs": [],
   "source": []
  }
 ],
 "metadata": {
  "kernelspec": {
   "display_name": "Python 3",
   "language": "python",
   "name": "python3"
  },
  "language_info": {
   "codemirror_mode": {
    "name": "ipython",
    "version": 3
   },
   "file_extension": ".py",
   "mimetype": "text/x-python",
   "name": "python",
   "nbconvert_exporter": "python",
   "pygments_lexer": "ipython3",
   "version": "3.6.2"
  },
  "varInspector": {
   "cols": {
    "lenName": 16,
    "lenType": 16,
    "lenVar": 40
   },
   "kernels_config": {
    "python": {
     "delete_cmd_postfix": "",
     "delete_cmd_prefix": "del ",
     "library": "var_list.py",
     "varRefreshCmd": "print(var_dic_list())"
    },
    "r": {
     "delete_cmd_postfix": ") ",
     "delete_cmd_prefix": "rm(",
     "library": "var_list.r",
     "varRefreshCmd": "cat(var_dic_list()) "
    }
   },
   "types_to_exclude": [
    "module",
    "function",
    "builtin_function_or_method",
    "instance",
    "_Feature"
   ],
   "window_display": false
  }
 },
 "nbformat": 4,
 "nbformat_minor": 2
}
