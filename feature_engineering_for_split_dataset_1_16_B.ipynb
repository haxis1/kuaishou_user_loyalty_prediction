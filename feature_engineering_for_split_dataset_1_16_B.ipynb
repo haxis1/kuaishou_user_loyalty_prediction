{
 "cells": [
  {
   "cell_type": "code",
   "execution_count": null,
   "metadata": {
    "collapsed": true
   },
   "outputs": [],
   "source": [
    "feature_engineering_for_split_dataset"
   ]
  },
  {
   "cell_type": "code",
   "execution_count": null,
   "metadata": {
    "collapsed": true
   },
   "outputs": [],
   "source": [
    "数据集天数位置：1-16"
   ]
  },
  {
   "cell_type": "code",
   "execution_count": null,
   "metadata": {
    "collapsed": true
   },
   "outputs": [],
   "source": [
    "数据集B的处理ipynb"
   ]
  },
  {
   "cell_type": "code",
   "execution_count": null,
   "metadata": {
    "collapsed": true
   },
   "outputs": [],
   "source": [
    "分离数据集提取特征\n",
    "可预见这个ipynb又会很长"
   ]
  },
  {
   "cell_type": "code",
   "execution_count": null,
   "metadata": {
    "collapsed": true
   },
   "outputs": [],
   "source": [
    "数据集分别读入，不一次性读入"
   ]
  },
  {
   "cell_type": "code",
   "execution_count": null,
   "metadata": {
    "collapsed": true
   },
   "outputs": [],
   "source": [
    "常见的特征就是统计量：最大，最小，均值，☆中位数（下次可以添加，这次没考虑到），\n",
    "和，峰度，偏度；计数特征，比率特征，二次融合特征等等"
   ]
  },
  {
   "cell_type": "code",
   "execution_count": null,
   "metadata": {
    "collapsed": true
   },
   "outputs": [],
   "source": [
    "思路：\n",
    "1 先考虑之前的特征有没有问题——\n",
    "比如：看过热度视频的个数——感觉比例比较好吧？因为看过多少也当做特征，有统计。\n",
    "2 仔细考虑序列性特征的，最后的变化。不然只有均值统计，很容易特征根本无法区分最后弃坑的那种。"
   ]
  },
  {
   "cell_type": "code",
   "execution_count": null,
   "metadata": {
    "collapsed": true
   },
   "outputs": [],
   "source": []
  },
  {
   "cell_type": "markdown",
   "metadata": {},
   "source": [
    "### train1-16"
   ]
  },
  {
   "cell_type": "code",
   "execution_count": 1,
   "metadata": {
    "ExecuteTime": {
     "end_time": "2018-06-27T02:26:47.419137Z",
     "start_time": "2018-06-27T02:26:42.550671Z"
    },
    "collapsed": true
   },
   "outputs": [],
   "source": [
    "import numpy as np\n",
    "import pandas as pd\n",
    "from scipy import stats"
   ]
  },
  {
   "cell_type": "code",
   "execution_count": 2,
   "metadata": {
    "ExecuteTime": {
     "end_time": "2018-06-27T02:26:53.380143Z",
     "start_time": "2018-06-27T02:26:53.000723Z"
    },
    "collapsed": true
   },
   "outputs": [],
   "source": [
    "table123 = pd.read_csv('dataset_B_for_model_method/split_origin_dataset/table123_1_16.csv')"
   ]
  },
  {
   "cell_type": "code",
   "execution_count": 3,
   "metadata": {
    "ExecuteTime": {
     "end_time": "2018-06-27T02:26:54.181213Z",
     "start_time": "2018-06-27T02:26:54.164708Z"
    }
   },
   "outputs": [
    {
     "data": {
      "text/html": [
       "<div>\n",
       "<style>\n",
       "    .dataframe thead tr:only-child th {\n",
       "        text-align: right;\n",
       "    }\n",
       "\n",
       "    .dataframe thead th {\n",
       "        text-align: left;\n",
       "    }\n",
       "\n",
       "    .dataframe tbody tr th {\n",
       "        vertical-align: top;\n",
       "    }\n",
       "</style>\n",
       "<table border=\"1\" class=\"dataframe\">\n",
       "  <thead>\n",
       "    <tr style=\"text-align: right;\">\n",
       "      <th></th>\n",
       "      <th>user_id</th>\n",
       "      <th>register_day</th>\n",
       "      <th>register_type</th>\n",
       "      <th>device_type</th>\n",
       "      <th>app_launch_day</th>\n",
       "      <th>video_create_day</th>\n",
       "      <th>video_create_day_count</th>\n",
       "    </tr>\n",
       "  </thead>\n",
       "  <tbody>\n",
       "    <tr>\n",
       "      <th>0</th>\n",
       "      <td>8</td>\n",
       "      <td>9.0</td>\n",
       "      <td>0.0</td>\n",
       "      <td>34.0</td>\n",
       "      <td>9.0</td>\n",
       "      <td>NaN</td>\n",
       "      <td>NaN</td>\n",
       "    </tr>\n",
       "    <tr>\n",
       "      <th>1</th>\n",
       "      <td>8</td>\n",
       "      <td>9.0</td>\n",
       "      <td>0.0</td>\n",
       "      <td>34.0</td>\n",
       "      <td>10.0</td>\n",
       "      <td>NaN</td>\n",
       "      <td>NaN</td>\n",
       "    </tr>\n",
       "    <tr>\n",
       "      <th>2</th>\n",
       "      <td>8</td>\n",
       "      <td>9.0</td>\n",
       "      <td>0.0</td>\n",
       "      <td>34.0</td>\n",
       "      <td>11.0</td>\n",
       "      <td>NaN</td>\n",
       "      <td>NaN</td>\n",
       "    </tr>\n",
       "    <tr>\n",
       "      <th>3</th>\n",
       "      <td>8</td>\n",
       "      <td>9.0</td>\n",
       "      <td>0.0</td>\n",
       "      <td>34.0</td>\n",
       "      <td>13.0</td>\n",
       "      <td>NaN</td>\n",
       "      <td>NaN</td>\n",
       "    </tr>\n",
       "    <tr>\n",
       "      <th>4</th>\n",
       "      <td>73</td>\n",
       "      <td>2.0</td>\n",
       "      <td>1.0</td>\n",
       "      <td>947.0</td>\n",
       "      <td>2.0</td>\n",
       "      <td>NaN</td>\n",
       "      <td>NaN</td>\n",
       "    </tr>\n",
       "  </tbody>\n",
       "</table>\n",
       "</div>"
      ],
      "text/plain": [
       "   user_id  register_day  register_type  device_type  app_launch_day  \\\n",
       "0        8           9.0            0.0         34.0             9.0   \n",
       "1        8           9.0            0.0         34.0            10.0   \n",
       "2        8           9.0            0.0         34.0            11.0   \n",
       "3        8           9.0            0.0         34.0            13.0   \n",
       "4       73           2.0            1.0        947.0             2.0   \n",
       "\n",
       "   video_create_day  video_create_day_count  \n",
       "0               NaN                     NaN  \n",
       "1               NaN                     NaN  \n",
       "2               NaN                     NaN  \n",
       "3               NaN                     NaN  \n",
       "4               NaN                     NaN  "
      ]
     },
     "execution_count": 3,
     "metadata": {},
     "output_type": "execute_result"
    }
   ],
   "source": [
    "table123.head()"
   ]
  },
  {
   "cell_type": "code",
   "execution_count": 4,
   "metadata": {
    "ExecuteTime": {
     "end_time": "2018-06-27T02:27:07.824339Z",
     "start_time": "2018-06-27T02:27:03.245364Z"
    },
    "collapsed": true
   },
   "outputs": [],
   "source": [
    "act = pd.read_csv('dataset_B_for_model_method/split_origin_dataset/act_1_16.csv')"
   ]
  },
  {
   "cell_type": "code",
   "execution_count": 5,
   "metadata": {
    "ExecuteTime": {
     "end_time": "2018-06-27T02:27:14.556136Z",
     "start_time": "2018-06-27T02:27:14.545105Z"
    }
   },
   "outputs": [
    {
     "data": {
      "text/html": [
       "<div>\n",
       "<style>\n",
       "    .dataframe thead tr:only-child th {\n",
       "        text-align: right;\n",
       "    }\n",
       "\n",
       "    .dataframe thead th {\n",
       "        text-align: left;\n",
       "    }\n",
       "\n",
       "    .dataframe tbody tr th {\n",
       "        vertical-align: top;\n",
       "    }\n",
       "</style>\n",
       "<table border=\"1\" class=\"dataframe\">\n",
       "  <thead>\n",
       "    <tr style=\"text-align: right;\">\n",
       "      <th></th>\n",
       "      <th>user_id</th>\n",
       "      <th>activity_day</th>\n",
       "      <th>activity_page</th>\n",
       "      <th>video_id</th>\n",
       "      <th>author_id</th>\n",
       "      <th>action_type</th>\n",
       "      <th>activity_count</th>\n",
       "    </tr>\n",
       "  </thead>\n",
       "  <tbody>\n",
       "    <tr>\n",
       "      <th>0</th>\n",
       "      <td>8</td>\n",
       "      <td>9</td>\n",
       "      <td>3</td>\n",
       "      <td>1955966</td>\n",
       "      <td>309219</td>\n",
       "      <td>0</td>\n",
       "      <td>2</td>\n",
       "    </tr>\n",
       "    <tr>\n",
       "      <th>1</th>\n",
       "      <td>8</td>\n",
       "      <td>9</td>\n",
       "      <td>0</td>\n",
       "      <td>1340816</td>\n",
       "      <td>12378</td>\n",
       "      <td>0</td>\n",
       "      <td>1</td>\n",
       "    </tr>\n",
       "    <tr>\n",
       "      <th>2</th>\n",
       "      <td>8</td>\n",
       "      <td>9</td>\n",
       "      <td>0</td>\n",
       "      <td>3488372</td>\n",
       "      <td>107008</td>\n",
       "      <td>0</td>\n",
       "      <td>1</td>\n",
       "    </tr>\n",
       "    <tr>\n",
       "      <th>3</th>\n",
       "      <td>8</td>\n",
       "      <td>9</td>\n",
       "      <td>0</td>\n",
       "      <td>1705402</td>\n",
       "      <td>37639</td>\n",
       "      <td>0</td>\n",
       "      <td>2</td>\n",
       "    </tr>\n",
       "    <tr>\n",
       "      <th>4</th>\n",
       "      <td>8</td>\n",
       "      <td>9</td>\n",
       "      <td>0</td>\n",
       "      <td>3710937</td>\n",
       "      <td>1312718</td>\n",
       "      <td>0</td>\n",
       "      <td>1</td>\n",
       "    </tr>\n",
       "  </tbody>\n",
       "</table>\n",
       "</div>"
      ],
      "text/plain": [
       "   user_id  activity_day  activity_page  video_id  author_id  action_type  \\\n",
       "0        8             9              3   1955966     309219            0   \n",
       "1        8             9              0   1340816      12378            0   \n",
       "2        8             9              0   3488372     107008            0   \n",
       "3        8             9              0   1705402      37639            0   \n",
       "4        8             9              0   3710937    1312718            0   \n",
       "\n",
       "   activity_count  \n",
       "0               2  \n",
       "1               1  \n",
       "2               1  \n",
       "3               2  \n",
       "4               1  "
      ]
     },
     "execution_count": 5,
     "metadata": {},
     "output_type": "execute_result"
    }
   ],
   "source": [
    "act.head()"
   ]
  },
  {
   "cell_type": "code",
   "execution_count": 6,
   "metadata": {
    "ExecuteTime": {
     "end_time": "2018-06-27T02:27:23.310948Z",
     "start_time": "2018-06-27T02:27:23.303397Z"
    },
    "collapsed": true
   },
   "outputs": [],
   "source": [
    "y = pd.read_csv('dataset_B_for_model_method/split_origin_dataset/y_1_16.csv')"
   ]
  },
  {
   "cell_type": "code",
   "execution_count": 7,
   "metadata": {
    "ExecuteTime": {
     "end_time": "2018-06-27T02:27:25.089539Z",
     "start_time": "2018-06-27T02:27:25.082023Z"
    }
   },
   "outputs": [
    {
     "data": {
      "text/html": [
       "<div>\n",
       "<style>\n",
       "    .dataframe thead tr:only-child th {\n",
       "        text-align: right;\n",
       "    }\n",
       "\n",
       "    .dataframe thead th {\n",
       "        text-align: left;\n",
       "    }\n",
       "\n",
       "    .dataframe tbody tr th {\n",
       "        vertical-align: top;\n",
       "    }\n",
       "</style>\n",
       "<table border=\"1\" class=\"dataframe\">\n",
       "  <thead>\n",
       "    <tr style=\"text-align: right;\">\n",
       "      <th></th>\n",
       "      <th>user_id</th>\n",
       "    </tr>\n",
       "  </thead>\n",
       "  <tbody>\n",
       "    <tr>\n",
       "      <th>0</th>\n",
       "      <td>8</td>\n",
       "    </tr>\n",
       "    <tr>\n",
       "      <th>1</th>\n",
       "      <td>1212424</td>\n",
       "    </tr>\n",
       "    <tr>\n",
       "      <th>2</th>\n",
       "      <td>1310730</td>\n",
       "    </tr>\n",
       "    <tr>\n",
       "      <th>3</th>\n",
       "      <td>819211</td>\n",
       "    </tr>\n",
       "    <tr>\n",
       "      <th>4</th>\n",
       "      <td>1376267</td>\n",
       "    </tr>\n",
       "  </tbody>\n",
       "</table>\n",
       "</div>"
      ],
      "text/plain": [
       "   user_id\n",
       "0        8\n",
       "1  1212424\n",
       "2  1310730\n",
       "3   819211\n",
       "4  1376267"
      ]
     },
     "execution_count": 7,
     "metadata": {},
     "output_type": "execute_result"
    }
   ],
   "source": [
    "y.head()"
   ]
  },
  {
   "cell_type": "code",
   "execution_count": null,
   "metadata": {
    "collapsed": true
   },
   "outputs": [],
   "source": [
    "【注】在这里尽力将之前写的代码变成def或者集成为大片的"
   ]
  },
  {
   "cell_type": "markdown",
   "metadata": {},
   "source": [
    "#### 登录特征"
   ]
  },
  {
   "cell_type": "code",
   "execution_count": null,
   "metadata": {
    "collapsed": true
   },
   "outputs": [],
   "source": [
    "聚集list"
   ]
  },
  {
   "cell_type": "code",
   "execution_count": 8,
   "metadata": {
    "ExecuteTime": {
     "end_time": "2018-06-27T02:27:29.797542Z",
     "start_time": "2018-06-27T02:27:29.780523Z"
    },
    "collapsed": true
   },
   "outputs": [],
   "source": [
    "def agg_list(table,column):\n",
    "    launch_day_list = table.groupby('user_id')[column].agg(lambda x: list(x)).reset_index()\n",
    "    launch_day_list.columns = ['user_id',column]\n",
    "    \n",
    "    # 增加一列间隔list\n",
    "    launch_day_list['launch_gap_list'] = -1\n",
    "    \n",
    "    list_gap = []\n",
    "    for item in launch_day_list['app_launch_day']:\n",
    "        list_a = []\n",
    "        if len(item) != 1:\n",
    "            for i in range(1,len(item)):\n",
    "                list_a.append(item[i] - item[i-1])\n",
    "            list_gap.append(list_a)\n",
    "        else:\n",
    "            list_gap.append([-1])\n",
    "    launch_day_list['launch_gap_list'] = list_gap\n",
    "                          \n",
    "    return launch_day_list"
   ]
  },
  {
   "cell_type": "code",
   "execution_count": null,
   "metadata": {
    "collapsed": true
   },
   "outputs": [],
   "source": [
    "提取天的特征"
   ]
  },
  {
   "cell_type": "code",
   "execution_count": 9,
   "metadata": {
    "ExecuteTime": {
     "end_time": "2018-06-27T02:27:32.966467Z",
     "start_time": "2018-06-27T02:27:32.962933Z"
    },
    "collapsed": true
   },
   "outputs": [],
   "source": [
    "from scipy import stats"
   ]
  },
  {
   "cell_type": "code",
   "execution_count": 10,
   "metadata": {
    "ExecuteTime": {
     "end_time": "2018-06-27T02:27:36.627859Z",
     "start_time": "2018-06-27T02:27:36.170153Z"
    },
    "collapsed": true
   },
   "outputs": [],
   "source": [
    "def day_feature_launch(table,time_gap_right):\n",
    "    \n",
    "    # 天数的特征\n",
    "    list_max = [] # 最大的天数（最靠近预测日期的天数）\n",
    "    list_count = [] # 登录天数总计\n",
    "    list_average = [] # 平均登录天数\n",
    "    for item in table['app_launch_day']:\n",
    "        list_max.append(time_gap_right - item[-1]) # 取差而不是直接取最近的天数\n",
    "        list_count.append(len(item))\n",
    "        list_average.append ( len(item) / (item[-1] - item[0] + 1) )\n",
    "        # print(item)    \n",
    "    \n",
    "    print('各种特征的shape')\n",
    "    print(len(list_max),len(list_count),len(list_average))\n",
    "    \n",
    "    table['launch_day_near_pred'] = list_max\n",
    "    table['launch_day_sum'] = list_count\n",
    "    table['launch_day_sum_average'] = list_average\n",
    "    \n",
    "    # 间隔的特征\n",
    "    gap_max = [] # 最大间隔\n",
    "    gap_min = [] # 最小间隔\n",
    "    gap_average = [] # 平均间隔\n",
    "    gap_std = [] # 间隔方差\n",
    "    gap_skew = [] # 间隔的偏度：衡量分布是左偏还是右偏，小于0左偏，说明过了最高值，下降的比上升快（更有可能弃坑）\n",
    "    gap_kurtosis = [] # 间隔的峰度：大于0说明尖峰是陡升的，小于0则说明爬升较缓和\n",
    "    for item in table['launch_gap_list']:\n",
    "        if -1 not in item:            \n",
    "            gap_max.append(np.max(item))\n",
    "            gap_min.append(np.min(item))\n",
    "            gap_average.append(np.mean(item))\n",
    "            gap_std.append(np.std(item))\n",
    "            gap_skew.append(stats.skew(item))\n",
    "            gap_kurtosis.append(stats.kurtosis(item))\n",
    "        else:\n",
    "            gap_max.append(-1)\n",
    "            gap_min.append(-1)\n",
    "            gap_average.append(-1)\n",
    "            gap_std.append(-1)\n",
    "            # 考虑到取值范围，调整\n",
    "            gap_skew.append(-99)\n",
    "            gap_kurtosis.append(-99)\n",
    "    \n",
    "    table['launch_day_gap_max'] = gap_max\n",
    "    table['launch_day_gap_ain'] = gap_min\n",
    "    table['launch_day_gap_average'] = gap_average\n",
    "    table['launch_day_gap_std'] = gap_std\n",
    "    table['launch_day_gap_skew'] = gap_skew\n",
    "    table['launch_day_gap_kurtosis'] = gap_kurtosis\n",
    "    \n",
    "    # 连续间隔特征\n",
    "    gap_max_continue = [] # 全区间的最大连续间隔：注意1代表连续2天都有记录（注意1和2是差1的！），0代表没有连续的\n",
    "    for item in table['launch_gap_list']:\n",
    "        gap = -1 # =0代表没有1出现，即没有连续x天的记录。-1代表没有间隔\n",
    "        if -1 not in item:\n",
    "            gap = 0\n",
    "            # 只有有1才可能gap不等于0\n",
    "            if 1 in item:\n",
    "                gap = 1 # 1的个数，至少1个\n",
    "                left = 0\n",
    "                right = 0\n",
    "                switch = 0 # 用于控制间隔是否开始的开关\n",
    "                # [2 3 1 1 2 3 1 1 1]\n",
    "                for i in range(len(item)):           \n",
    "                    # 开始计算间隔长度\n",
    "                    if switch == 1 and item[i] == 1:\n",
    "                        right = i\n",
    "                    # 到1的新出发点\n",
    "                    elif switch == 0 and item[i] == 1:\n",
    "                        switch = 1\n",
    "                        left = i\n",
    "                        right = i\n",
    "                    # 进入新的间隔停止期，遭遇非1，计算间隔长度\n",
    "                    elif switch == 1 and item[i] != 1:\n",
    "                        switch = 0\n",
    "                        temp = right - left + 1\n",
    "                        # 只记录最大的gap\n",
    "                        if temp > gap:\n",
    "                            gap = temp\n",
    "                    # 进入非1的区间，不需要做任何事\n",
    "                    # switch == 0 and item[i] != 1\n",
    "                    else:\n",
    "                        continue\n",
    "                    \n",
    "                     # 必须考虑是不是最后一个值了，此时对于是否是1，有不同的处理\n",
    "                    if i == len(item) - 1:\n",
    "                        # 此时需要计算一遍gap\n",
    "                        if item[i] == 1:\n",
    "                            temp = right - left + 1\n",
    "                            # 只记录最大的gap\n",
    "                            if temp > gap:\n",
    "                                gap = temp\n",
    "                                \n",
    "        gap_max_continue.append(gap)       \n",
    "        \n",
    "    # 从后往前数的最长连续记录\n",
    "    gap_max_right_continue = []\n",
    "    for item in table['launch_gap_list']:\n",
    "        gap = -1 # 没有间隔只能= -1\n",
    "        if -1 not in item:\n",
    "            gap = 0\n",
    "            # 最后一个值是1才往前走\n",
    "            if item[-1] == 1:\n",
    "                gap = 1 # 1的个数\n",
    "                # 从后往前的循环，从倒数第2个开始\n",
    "                for i in range(len(item)-2,-1,-1):\n",
    "                    if item[i] == 1:\n",
    "                        gap = gap + 1\n",
    "                    else:\n",
    "                        break\n",
    "        gap_max_right_continue.append(gap)\n",
    "    \n",
    "    # 比较两个gap是否数量相同，作为第3个特征，相同 = 0，不同 = 1（不区分左右，没有明显的意义）\n",
    "    gap_continue_flag = []\n",
    "    for i in range(len(gap_max_continue)):\n",
    "        if gap_max_continue[i] == -1 or gap_max_right_continue[i] == -1:\n",
    "            gap_continue_flag.append(-1) # 没有间隔\n",
    "        elif gap_max_continue[i] == gap_max_right_continue[i]:\n",
    "            gap_continue_flag.append(0)\n",
    "        else:\n",
    "            gap_continue_flag.append(1)\n",
    "    \n",
    "    table['launch_day_gap_max_continue'] = gap_max_continue\n",
    "    table['launch_day_gap_max_right_continue'] = gap_max_right_continue\n",
    "    table['launch_day_gap_max_continue_flag'] = gap_continue_flag\n",
    "    \n",
    "    \n",
    "    # 从后往前数的，序列变得越来越稀疏的长度：即正向看的话，间隔值是否越来越大\n",
    "    gap_change_large_right_continue = []\n",
    "    for item in table['launch_gap_list']:\n",
    "        gap = -1\n",
    "        if -1 not in item:\n",
    "            gap = 0\n",
    "            for i in range(len(item)-1,0,-1):\n",
    "                if item[i-1] < item[i]:\n",
    "                    gap = gap + 1\n",
    "                else:\n",
    "                    break\n",
    "            \n",
    "        gap_change_large_right_continue.append(gap)\n",
    "        \n",
    "    table['launch_day_gap_change_large_right_continue'] = gap_change_large_right_continue\n",
    "       \n",
    "    return table"
   ]
  },
  {
   "cell_type": "code",
   "execution_count": null,
   "metadata": {
    "collapsed": true
   },
   "outputs": [],
   "source": [
    "step1 获得聚集的launch_day_list"
   ]
  },
  {
   "cell_type": "code",
   "execution_count": 11,
   "metadata": {
    "ExecuteTime": {
     "end_time": "2018-06-27T02:27:40.687361Z",
     "start_time": "2018-06-27T02:27:39.240746Z"
    },
    "collapsed": true
   },
   "outputs": [],
   "source": [
    "table123_app_launch_day = agg_list(table123,'app_launch_day')"
   ]
  },
  {
   "cell_type": "code",
   "execution_count": 12,
   "metadata": {
    "ExecuteTime": {
     "end_time": "2018-06-27T02:27:41.945116Z",
     "start_time": "2018-06-27T02:27:41.934618Z"
    }
   },
   "outputs": [
    {
     "data": {
      "text/html": [
       "<div>\n",
       "<style>\n",
       "    .dataframe thead tr:only-child th {\n",
       "        text-align: right;\n",
       "    }\n",
       "\n",
       "    .dataframe thead th {\n",
       "        text-align: left;\n",
       "    }\n",
       "\n",
       "    .dataframe tbody tr th {\n",
       "        vertical-align: top;\n",
       "    }\n",
       "</style>\n",
       "<table border=\"1\" class=\"dataframe\">\n",
       "  <thead>\n",
       "    <tr style=\"text-align: right;\">\n",
       "      <th></th>\n",
       "      <th>user_id</th>\n",
       "      <th>app_launch_day</th>\n",
       "      <th>launch_gap_list</th>\n",
       "    </tr>\n",
       "  </thead>\n",
       "  <tbody>\n",
       "    <tr>\n",
       "      <th>0</th>\n",
       "      <td>8</td>\n",
       "      <td>[9.0, 10.0, 11.0, 13.0]</td>\n",
       "      <td>[1.0, 1.0, 2.0]</td>\n",
       "    </tr>\n",
       "    <tr>\n",
       "      <th>1</th>\n",
       "      <td>73</td>\n",
       "      <td>[2.0, 4.0, 5.0]</td>\n",
       "      <td>[2.0, 1.0]</td>\n",
       "    </tr>\n",
       "    <tr>\n",
       "      <th>2</th>\n",
       "      <td>129</td>\n",
       "      <td>[12.0]</td>\n",
       "      <td>[-1]</td>\n",
       "    </tr>\n",
       "    <tr>\n",
       "      <th>3</th>\n",
       "      <td>228</td>\n",
       "      <td>[13.0]</td>\n",
       "      <td>[-1]</td>\n",
       "    </tr>\n",
       "    <tr>\n",
       "      <th>4</th>\n",
       "      <td>351</td>\n",
       "      <td>[3.0]</td>\n",
       "      <td>[-1]</td>\n",
       "    </tr>\n",
       "  </tbody>\n",
       "</table>\n",
       "</div>"
      ],
      "text/plain": [
       "   user_id           app_launch_day  launch_gap_list\n",
       "0        8  [9.0, 10.0, 11.0, 13.0]  [1.0, 1.0, 2.0]\n",
       "1       73          [2.0, 4.0, 5.0]       [2.0, 1.0]\n",
       "2      129                   [12.0]             [-1]\n",
       "3      228                   [13.0]             [-1]\n",
       "4      351                    [3.0]             [-1]"
      ]
     },
     "execution_count": 12,
     "metadata": {},
     "output_type": "execute_result"
    }
   ],
   "source": [
    "table123_app_launch_day.head()"
   ]
  },
  {
   "cell_type": "code",
   "execution_count": 13,
   "metadata": {
    "ExecuteTime": {
     "end_time": "2018-06-27T02:27:49.024101Z",
     "start_time": "2018-06-27T02:27:49.018587Z"
    }
   },
   "outputs": [
    {
     "data": {
      "text/plain": [
       "((23923, 3), (79630, 7))"
      ]
     },
     "execution_count": 13,
     "metadata": {},
     "output_type": "execute_result"
    }
   ],
   "source": [
    "table123_app_launch_day.shape,table123.shape"
   ]
  },
  {
   "cell_type": "code",
   "execution_count": null,
   "metadata": {
    "collapsed": true
   },
   "outputs": [],
   "source": [
    "step2 利用此table提取特征"
   ]
  },
  {
   "cell_type": "code",
   "execution_count": null,
   "metadata": {
    "collapsed": true
   },
   "outputs": [],
   "source": [
    "特征：\n",
    "1 最近登录的天数，距离预测间隔的天数是多少？（最近登录的天数）：比如16，转为16-16 = 0\n",
    "2 登录的天数总计\n",
    "3 平均登录天数：登录次数 / 从注册日期到最近登录天数（刻画的是充满度）\n",
    "4 登录间隔：\n",
    "平均登录间隔（和3作用类似）\n",
    "最大登录间隔\n",
    "最小登录间隔\n",
    "间隔方差（描述波动情况）\n",
    "间隔的峰度（最大值这个峰的陡峭程度，即是否很尖），间隔的偏度（分布是否对称的偏离程度，0是对称，左右偏分别是正负值）\n",
    "5 最长连续间隔计算\n",
    "全区间的最长间隔：记录连续1的个数，方法：用两个标记记录间隔\n",
    "从尾部开始，往回的最长间隔\n",
    "两个间隔是否是同一个：如果相等则说明可能是一个（1），不等则很明显（0）\n",
    "6 最长下降间隔\n",
    "从尾部开始，往回的间隔是否越来越小的：刻画距离预测时间节点是否越来越稀疏\n",
    "\n",
    "以上特征：都可以截断时间间隔。\n",
    "比如：选取注册后一段时间，以及预测前一段时间，分别统计上边这些特征。"
   ]
  },
  {
   "cell_type": "code",
   "execution_count": 14,
   "metadata": {
    "ExecuteTime": {
     "end_time": "2018-06-27T02:28:00.540655Z",
     "start_time": "2018-06-27T02:27:55.370956Z"
    }
   },
   "outputs": [
    {
     "name": "stdout",
     "output_type": "stream",
     "text": [
      "各种特征的shape\n",
      "23923 23923 23923\n"
     ]
    }
   ],
   "source": [
    "time_gap_right = 16 # 区间的最右端\n",
    "table123_app_launch_day = day_feature_launch(table123_app_launch_day,time_gap_right)"
   ]
  },
  {
   "cell_type": "code",
   "execution_count": null,
   "metadata": {
    "collapsed": true
   },
   "outputs": [],
   "source": [
    "这就获得了这部分的特征了"
   ]
  },
  {
   "cell_type": "code",
   "execution_count": 15,
   "metadata": {
    "ExecuteTime": {
     "end_time": "2018-06-27T02:28:04.551319Z",
     "start_time": "2018-06-27T02:28:04.532752Z"
    }
   },
   "outputs": [
    {
     "data": {
      "text/html": [
       "<div>\n",
       "<style>\n",
       "    .dataframe thead tr:only-child th {\n",
       "        text-align: right;\n",
       "    }\n",
       "\n",
       "    .dataframe thead th {\n",
       "        text-align: left;\n",
       "    }\n",
       "\n",
       "    .dataframe tbody tr th {\n",
       "        vertical-align: top;\n",
       "    }\n",
       "</style>\n",
       "<table border=\"1\" class=\"dataframe\">\n",
       "  <thead>\n",
       "    <tr style=\"text-align: right;\">\n",
       "      <th></th>\n",
       "      <th>user_id</th>\n",
       "      <th>app_launch_day</th>\n",
       "      <th>launch_gap_list</th>\n",
       "      <th>launch_day_near_pred</th>\n",
       "      <th>launch_day_sum</th>\n",
       "      <th>launch_day_sum_average</th>\n",
       "      <th>launch_day_gap_max</th>\n",
       "      <th>launch_day_gap_ain</th>\n",
       "      <th>launch_day_gap_average</th>\n",
       "      <th>launch_day_gap_std</th>\n",
       "      <th>launch_day_gap_skew</th>\n",
       "      <th>launch_day_gap_kurtosis</th>\n",
       "      <th>launch_day_gap_max_continue</th>\n",
       "      <th>launch_day_gap_max_right_continue</th>\n",
       "      <th>launch_day_gap_max_continue_flag</th>\n",
       "      <th>launch_day_gap_change_large_right_continue</th>\n",
       "    </tr>\n",
       "  </thead>\n",
       "  <tbody>\n",
       "    <tr>\n",
       "      <th>0</th>\n",
       "      <td>8</td>\n",
       "      <td>[9.0, 10.0, 11.0, 13.0]</td>\n",
       "      <td>[1.0, 1.0, 2.0]</td>\n",
       "      <td>3.0</td>\n",
       "      <td>4</td>\n",
       "      <td>0.80</td>\n",
       "      <td>2.0</td>\n",
       "      <td>1.0</td>\n",
       "      <td>1.333333</td>\n",
       "      <td>0.471405</td>\n",
       "      <td>0.707107</td>\n",
       "      <td>-1.5</td>\n",
       "      <td>2</td>\n",
       "      <td>0</td>\n",
       "      <td>1</td>\n",
       "      <td>1</td>\n",
       "    </tr>\n",
       "    <tr>\n",
       "      <th>1</th>\n",
       "      <td>73</td>\n",
       "      <td>[2.0, 4.0, 5.0]</td>\n",
       "      <td>[2.0, 1.0]</td>\n",
       "      <td>11.0</td>\n",
       "      <td>3</td>\n",
       "      <td>0.75</td>\n",
       "      <td>2.0</td>\n",
       "      <td>1.0</td>\n",
       "      <td>1.500000</td>\n",
       "      <td>0.500000</td>\n",
       "      <td>0.000000</td>\n",
       "      <td>-2.0</td>\n",
       "      <td>1</td>\n",
       "      <td>1</td>\n",
       "      <td>0</td>\n",
       "      <td>0</td>\n",
       "    </tr>\n",
       "    <tr>\n",
       "      <th>2</th>\n",
       "      <td>129</td>\n",
       "      <td>[12.0]</td>\n",
       "      <td>[-1]</td>\n",
       "      <td>4.0</td>\n",
       "      <td>1</td>\n",
       "      <td>1.00</td>\n",
       "      <td>-1.0</td>\n",
       "      <td>-1.0</td>\n",
       "      <td>-1.000000</td>\n",
       "      <td>-1.000000</td>\n",
       "      <td>-99.000000</td>\n",
       "      <td>-99.0</td>\n",
       "      <td>-1</td>\n",
       "      <td>-1</td>\n",
       "      <td>-1</td>\n",
       "      <td>-1</td>\n",
       "    </tr>\n",
       "    <tr>\n",
       "      <th>3</th>\n",
       "      <td>228</td>\n",
       "      <td>[13.0]</td>\n",
       "      <td>[-1]</td>\n",
       "      <td>3.0</td>\n",
       "      <td>1</td>\n",
       "      <td>1.00</td>\n",
       "      <td>-1.0</td>\n",
       "      <td>-1.0</td>\n",
       "      <td>-1.000000</td>\n",
       "      <td>-1.000000</td>\n",
       "      <td>-99.000000</td>\n",
       "      <td>-99.0</td>\n",
       "      <td>-1</td>\n",
       "      <td>-1</td>\n",
       "      <td>-1</td>\n",
       "      <td>-1</td>\n",
       "    </tr>\n",
       "    <tr>\n",
       "      <th>4</th>\n",
       "      <td>351</td>\n",
       "      <td>[3.0]</td>\n",
       "      <td>[-1]</td>\n",
       "      <td>13.0</td>\n",
       "      <td>1</td>\n",
       "      <td>1.00</td>\n",
       "      <td>-1.0</td>\n",
       "      <td>-1.0</td>\n",
       "      <td>-1.000000</td>\n",
       "      <td>-1.000000</td>\n",
       "      <td>-99.000000</td>\n",
       "      <td>-99.0</td>\n",
       "      <td>-1</td>\n",
       "      <td>-1</td>\n",
       "      <td>-1</td>\n",
       "      <td>-1</td>\n",
       "    </tr>\n",
       "  </tbody>\n",
       "</table>\n",
       "</div>"
      ],
      "text/plain": [
       "   user_id           app_launch_day  launch_gap_list  launch_day_near_pred  \\\n",
       "0        8  [9.0, 10.0, 11.0, 13.0]  [1.0, 1.0, 2.0]                   3.0   \n",
       "1       73          [2.0, 4.0, 5.0]       [2.0, 1.0]                  11.0   \n",
       "2      129                   [12.0]             [-1]                   4.0   \n",
       "3      228                   [13.0]             [-1]                   3.0   \n",
       "4      351                    [3.0]             [-1]                  13.0   \n",
       "\n",
       "   launch_day_sum  launch_day_sum_average  launch_day_gap_max  \\\n",
       "0               4                    0.80                 2.0   \n",
       "1               3                    0.75                 2.0   \n",
       "2               1                    1.00                -1.0   \n",
       "3               1                    1.00                -1.0   \n",
       "4               1                    1.00                -1.0   \n",
       "\n",
       "   launch_day_gap_ain  launch_day_gap_average  launch_day_gap_std  \\\n",
       "0                 1.0                1.333333            0.471405   \n",
       "1                 1.0                1.500000            0.500000   \n",
       "2                -1.0               -1.000000           -1.000000   \n",
       "3                -1.0               -1.000000           -1.000000   \n",
       "4                -1.0               -1.000000           -1.000000   \n",
       "\n",
       "   launch_day_gap_skew  launch_day_gap_kurtosis  launch_day_gap_max_continue  \\\n",
       "0             0.707107                     -1.5                            2   \n",
       "1             0.000000                     -2.0                            1   \n",
       "2           -99.000000                    -99.0                           -1   \n",
       "3           -99.000000                    -99.0                           -1   \n",
       "4           -99.000000                    -99.0                           -1   \n",
       "\n",
       "   launch_day_gap_max_right_continue  launch_day_gap_max_continue_flag  \\\n",
       "0                                  0                                 1   \n",
       "1                                  1                                 0   \n",
       "2                                 -1                                -1   \n",
       "3                                 -1                                -1   \n",
       "4                                 -1                                -1   \n",
       "\n",
       "   launch_day_gap_change_large_right_continue  \n",
       "0                                           1  \n",
       "1                                           0  \n",
       "2                                          -1  \n",
       "3                                          -1  \n",
       "4                                          -1  "
      ]
     },
     "execution_count": 15,
     "metadata": {},
     "output_type": "execute_result"
    }
   ],
   "source": [
    "table123_app_launch_day.head()"
   ]
  },
  {
   "cell_type": "markdown",
   "metadata": {},
   "source": [
    "#### 视频特征"
   ]
  },
  {
   "cell_type": "code",
   "execution_count": null,
   "metadata": {
    "collapsed": true
   },
   "outputs": [],
   "source": [
    "特征分类：\n",
    "1 是否发视频\n",
    "2 day的特征（如上）\n",
    "3 count的特征：\n",
    "（参考间隔特征）\n",
    "最近登录天数的count值\n",
    "count总值，平均值，最大值，最小值，方差，峰度，偏度,最大值和最小值发生的日子距离预测天的天数\n",
    "count的最长下降区间：从尾部数，视频量连续下降的区间长度\n",
    "☆关于最后一个特征：可以增加一个降幅(这段区间的量，占总量的比例)"
   ]
  },
  {
   "cell_type": "code",
   "execution_count": null,
   "metadata": {
    "collapsed": true
   },
   "outputs": [],
   "source": [
    "用到的函数"
   ]
  },
  {
   "cell_type": "code",
   "execution_count": null,
   "metadata": {
    "collapsed": true
   },
   "outputs": [],
   "source": [
    "聚集list"
   ]
  },
  {
   "cell_type": "code",
   "execution_count": 16,
   "metadata": {
    "ExecuteTime": {
     "end_time": "2018-06-27T02:28:13.224135Z",
     "start_time": "2018-06-27T02:28:13.147395Z"
    },
    "collapsed": true
   },
   "outputs": [],
   "source": [
    "def video_pre(table123):\n",
    "    # 去除无用属性\n",
    "    del table123['app_launch_day']\n",
    "    table123 = table123.drop_duplicates()\n",
    "    table123 = table123.fillna(-1)\n",
    "    \n",
    "    # agg聚集list\n",
    "    table123_video_create_day = table123.groupby('user_id')['video_create_day'].agg(lambda x: list(x)).reset_index()\n",
    "    table123_video_create_day.columns = ['user_id','video_create_day']\n",
    "    print(table123_video_create_day.shape)\n",
    "    \n",
    "    # 消除多余的-1\n",
    "    table123_test = table123_video_create_day['video_create_day']\n",
    "    for i in range(table123_video_create_day.shape[0]):\n",
    "        temp = table123_video_create_day.iloc[i,1]\n",
    "        while -1.0 in temp:\n",
    "            if len(table123_video_create_day.iloc[i,1]) > 1:\n",
    "                table123_video_create_day.iloc[i,1].remove(-1.0)\n",
    "            else:\n",
    "                break\n",
    "                \n",
    "    # 增加一列间隔list\n",
    "    table123_video_create_day['video_day_gap_list'] = -1\n",
    "    \n",
    "    list_gap = []\n",
    "    for item in table123_video_create_day['video_create_day']:\n",
    "        list_a = []\n",
    "        if len(item) != 1:\n",
    "            for i in range(1,len(item)):\n",
    "                list_a.append(item[i] - item[i-1])\n",
    "            list_gap.append(list_a)\n",
    "        else:\n",
    "            list_gap.append([-1])\n",
    "    table123_video_create_day['video_day_gap_list'] = list_gap\n",
    "    \n",
    "\n",
    "    # 对count特征进行相同的处理\n",
    "    table123_video_create_day_count = table123.groupby('user_id')['video_create_day_count'].agg(lambda x: list(x)).reset_index()\n",
    "    table123_video_create_day_count.columns = ['user_id','video_create_day_count']\n",
    "\n",
    "    table123_test = table123_video_create_day_count['video_create_day_count']\n",
    "    for i in range(table123_video_create_day_count.shape[0]):\n",
    "        temp = table123_video_create_day_count.iloc[i,1]\n",
    "        while -1.0 in temp:\n",
    "            if len(table123_video_create_day_count.iloc[i,1]) > 1:\n",
    "                table123_video_create_day_count.iloc[i,1].remove(-1.0)\n",
    "            else:\n",
    "                break\n",
    "    \n",
    "    # 将这两个merge在一起\n",
    "    table123_video_create = pd.merge(table123_video_create_day,table123_video_create_day_count,how = 'outer')\n",
    "    \n",
    "    return table123_video_create"
   ]
  },
  {
   "cell_type": "code",
   "execution_count": null,
   "metadata": {
    "collapsed": true
   },
   "outputs": [],
   "source": [
    "step1 获得聚集形态的表格"
   ]
  },
  {
   "cell_type": "code",
   "execution_count": 17,
   "metadata": {
    "ExecuteTime": {
     "end_time": "2018-06-27T02:28:19.381371Z",
     "start_time": "2018-06-27T02:28:16.227427Z"
    }
   },
   "outputs": [
    {
     "name": "stdout",
     "output_type": "stream",
     "text": [
      "(23923, 2)\n"
     ]
    }
   ],
   "source": [
    "table123_video_create = video_pre(table123)"
   ]
  },
  {
   "cell_type": "code",
   "execution_count": 18,
   "metadata": {
    "ExecuteTime": {
     "end_time": "2018-06-27T02:28:21.932093Z",
     "start_time": "2018-06-27T02:28:21.920562Z"
    }
   },
   "outputs": [
    {
     "data": {
      "text/html": [
       "<div>\n",
       "<style>\n",
       "    .dataframe thead tr:only-child th {\n",
       "        text-align: right;\n",
       "    }\n",
       "\n",
       "    .dataframe thead th {\n",
       "        text-align: left;\n",
       "    }\n",
       "\n",
       "    .dataframe tbody tr th {\n",
       "        vertical-align: top;\n",
       "    }\n",
       "</style>\n",
       "<table border=\"1\" class=\"dataframe\">\n",
       "  <thead>\n",
       "    <tr style=\"text-align: right;\">\n",
       "      <th></th>\n",
       "      <th>user_id</th>\n",
       "      <th>video_create_day</th>\n",
       "      <th>video_day_gap_list</th>\n",
       "      <th>video_create_day_count</th>\n",
       "    </tr>\n",
       "  </thead>\n",
       "  <tbody>\n",
       "    <tr>\n",
       "      <th>0</th>\n",
       "      <td>8</td>\n",
       "      <td>[-1.0]</td>\n",
       "      <td>[-1]</td>\n",
       "      <td>[-1.0]</td>\n",
       "    </tr>\n",
       "    <tr>\n",
       "      <th>1</th>\n",
       "      <td>73</td>\n",
       "      <td>[-1.0]</td>\n",
       "      <td>[-1]</td>\n",
       "      <td>[-1.0]</td>\n",
       "    </tr>\n",
       "    <tr>\n",
       "      <th>2</th>\n",
       "      <td>129</td>\n",
       "      <td>[-1.0]</td>\n",
       "      <td>[-1]</td>\n",
       "      <td>[-1.0]</td>\n",
       "    </tr>\n",
       "    <tr>\n",
       "      <th>3</th>\n",
       "      <td>228</td>\n",
       "      <td>[-1.0]</td>\n",
       "      <td>[-1]</td>\n",
       "      <td>[-1.0]</td>\n",
       "    </tr>\n",
       "    <tr>\n",
       "      <th>4</th>\n",
       "      <td>351</td>\n",
       "      <td>[-1.0]</td>\n",
       "      <td>[-1]</td>\n",
       "      <td>[-1.0]</td>\n",
       "    </tr>\n",
       "  </tbody>\n",
       "</table>\n",
       "</div>"
      ],
      "text/plain": [
       "   user_id video_create_day video_day_gap_list video_create_day_count\n",
       "0        8           [-1.0]               [-1]                 [-1.0]\n",
       "1       73           [-1.0]               [-1]                 [-1.0]\n",
       "2      129           [-1.0]               [-1]                 [-1.0]\n",
       "3      228           [-1.0]               [-1]                 [-1.0]\n",
       "4      351           [-1.0]               [-1]                 [-1.0]"
      ]
     },
     "execution_count": 18,
     "metadata": {},
     "output_type": "execute_result"
    }
   ],
   "source": [
    "table123_video_create.head()"
   ]
  },
  {
   "cell_type": "markdown",
   "metadata": {
    "collapsed": true
   },
   "source": [
    "##### 时间特征"
   ]
  },
  {
   "cell_type": "code",
   "execution_count": null,
   "metadata": {
    "collapsed": true
   },
   "outputs": [],
   "source": [
    "判断是否create video"
   ]
  },
  {
   "cell_type": "code",
   "execution_count": 19,
   "metadata": {
    "ExecuteTime": {
     "end_time": "2018-06-27T02:29:40.081828Z",
     "start_time": "2018-06-27T02:29:40.072286Z"
    },
    "collapsed": true
   },
   "outputs": [],
   "source": [
    "def add_if_create_video(table123_video_create):\n",
    "    list_video_create_yes_or_no = [] # 是否发了视频\n",
    "    for item in table123_video_create['video_create_day']:\n",
    "        if np.sum(item) == -1.0:\n",
    "            list_video_create_yes_or_no.append(0) # 表示没发视频\n",
    "        else:\n",
    "            list_video_create_yes_or_no.append(1)\n",
    "\n",
    "    print(len(list_video_create_yes_or_no))\n",
    "\n",
    "    table123_video_create['if_create_video'] = list_video_create_yes_or_no\n",
    "    \n",
    "    return table123_video_create"
   ]
  },
  {
   "cell_type": "code",
   "execution_count": null,
   "metadata": {
    "collapsed": true
   },
   "outputs": [],
   "source": [
    "提取day的特征"
   ]
  },
  {
   "cell_type": "code",
   "execution_count": 20,
   "metadata": {
    "ExecuteTime": {
     "end_time": "2018-06-27T02:29:45.273406Z",
     "start_time": "2018-06-27T02:29:44.731458Z"
    },
    "collapsed": true
   },
   "outputs": [],
   "source": [
    "def day_feature_video(table,time_gap_right):\n",
    "    \n",
    "    # 天数的特征\n",
    "    list_max = [] # 最大的天数（最靠近预测日期的天数）\n",
    "    list_count = [] # 登录天数总计\n",
    "    list_average = [] # 平均登录天数\n",
    "    for item in table['video_create_day']:\n",
    "        if -1.0 in item:\n",
    "            list_max.append(-1)\n",
    "            list_count.append(-1)\n",
    "            list_average.append(-1)\n",
    "        else:\n",
    "            list_max.append(time_gap_right - item[-1]) # 取差而不是直接取最近的天数\n",
    "            list_count.append(len(item))\n",
    "            list_average.append ( len(item) / (item[-1] - item[0] + 1) )\n",
    "            # print(item)    \n",
    "    \n",
    "    print('各种特征的shape')\n",
    "    print(len(list_max),len(list_count),len(list_average))\n",
    "    \n",
    "    table['video_day_near_pred'] = list_max\n",
    "    table['video_day_sum'] = list_count\n",
    "    table['video_day_sum_average'] = list_average\n",
    "    \n",
    "    # 间隔的特征\n",
    "    gap_max = [] # 最大间隔\n",
    "    gap_min = [] # 最小间隔\n",
    "    gap_average = [] # 平均间隔\n",
    "    gap_std = [] # 间隔方差\n",
    "    gap_skew = [] # 间隔的偏度：衡量分布是左偏还是右偏，小于0左偏，说明过了最高值，下降的比上升快（更有可能弃坑）\n",
    "    gap_kurtosis = [] # 间隔的峰度：大于0说明尖峰是陡升的，小于0则说明爬升较缓和\n",
    "    for item in table['video_day_gap_list']:\n",
    "        if -1 not in item:            \n",
    "            gap_max.append(np.max(item))\n",
    "            gap_min.append(np.min(item))\n",
    "            gap_average.append(np.mean(item))\n",
    "            gap_std.append(np.std(item))\n",
    "            gap_skew.append(stats.skew(item))\n",
    "            gap_kurtosis.append(stats.kurtosis(item))\n",
    "        else:\n",
    "            gap_max.append(-1)\n",
    "            gap_min.append(-1)\n",
    "            gap_average.append(-1)\n",
    "            gap_std.append(-1)\n",
    "            # 考虑到取值范围，调整\n",
    "            gap_skew.append(-99)\n",
    "            gap_kurtosis.append(-99)\n",
    "    \n",
    "    table['video_day_gap_max'] = gap_max\n",
    "    table['video_day_gap_ain'] = gap_min\n",
    "    table['video_day_gap_average'] = gap_average\n",
    "    table['video_day_gap_std'] = gap_std\n",
    "    table['video_day_gap_skew'] = gap_skew\n",
    "    table['video_day_gap_kurtosis'] = gap_kurtosis\n",
    "    \n",
    "    # 连续间隔特征\n",
    "    gap_max_continue = [] # 全区间的最大连续间隔：注意1代表连续2天都有记录（注意1和2是差1的！），0代表没有连续的\n",
    "    for item in table['video_day_gap_list']:\n",
    "        gap = -1 # =0代表没有1出现，即没有连续x天的记录。-1代表没有间隔\n",
    "        if -1 not in item:\n",
    "            gap = 0\n",
    "            # 只有有1才可能gap不等于0\n",
    "            if 1 in item:\n",
    "                gap = 1 # 1的个数，至少1个\n",
    "                left = 0\n",
    "                right = 0\n",
    "                switch = 0 # 用于控制间隔是否开始的开关\n",
    "                # [2 3 1 1 2 3 1 1 1]\n",
    "                for i in range(len(item)):           \n",
    "                    # 开始计算间隔长度\n",
    "                    if switch == 1 and item[i] == 1:\n",
    "                        right = i\n",
    "                    # 到1的新出发点\n",
    "                    elif switch == 0 and item[i] == 1:\n",
    "                        switch = 1\n",
    "                        left = i\n",
    "                        right = i\n",
    "                    # 进入新的间隔停止期，遭遇非1，计算间隔长度\n",
    "                    elif switch == 1 and item[i] != 1:\n",
    "                        switch = 0\n",
    "                        temp = right - left + 1\n",
    "                        # 只记录最大的gap\n",
    "                        if temp > gap:\n",
    "                            gap = temp\n",
    "                    # 进入非1的区间，不需要做任何事\n",
    "                    # switch == 0 and item[i] != 1\n",
    "                    else:\n",
    "                        continue\n",
    "                    \n",
    "                     # 必须考虑是不是最后一个值了，此时对于是否是1，有不同的处理\n",
    "                    if i == len(item) - 1:\n",
    "                        # 此时需要计算一遍gap\n",
    "                        if item[i] == 1:\n",
    "                            temp = right - left + 1\n",
    "                            # 只记录最大的gap\n",
    "                            if temp > gap:\n",
    "                                gap = temp\n",
    "                                \n",
    "        gap_max_continue.append(gap)       \n",
    "        \n",
    "    # 从后往前数的最长连续记录\n",
    "    gap_max_right_continue = []\n",
    "    for item in table['video_day_gap_list']:\n",
    "        gap = -1 # 没有间隔只能= -1\n",
    "        if -1 not in item:\n",
    "            gap = 0\n",
    "            # 最后一个值是1才往前走\n",
    "            if item[-1] == 1:\n",
    "                gap = 1 # 1的个数\n",
    "                # 从后往前的循环，从倒数第2个开始\n",
    "                for i in range(len(item)-2,-1,-1):\n",
    "                    if item[i] == 1:\n",
    "                        gap = gap + 1\n",
    "                    else:\n",
    "                        break\n",
    "        gap_max_right_continue.append(gap)\n",
    "    \n",
    "    # 比较两个gap是否数量相同，作为第3个特征，相同 = 0，不同 = 1（不区分左右，没有明显的意义）\n",
    "    gap_continue_flag = []\n",
    "    for i in range(len(gap_max_continue)):\n",
    "        if gap_max_continue[i] == -1 or gap_max_right_continue[i] == -1:\n",
    "            gap_continue_flag.append(-1) # 没有间隔\n",
    "        elif gap_max_continue[i] == gap_max_right_continue[i]:\n",
    "            gap_continue_flag.append(0)\n",
    "        else:\n",
    "            gap_continue_flag.append(1)\n",
    "    \n",
    "    table['video_day_gap_max_continue'] = gap_max_continue\n",
    "    table['video_day_gap_max_right_continue'] = gap_max_right_continue\n",
    "    table['video_day_gap_max_continue_flag'] = gap_continue_flag\n",
    "    \n",
    "    \n",
    "    # 从后往前数的，序列变得越来越稀疏的长度：即正向看的话，间隔值是否越来越大\n",
    "    gap_change_large_right_continue = []\n",
    "    for item in table['video_day_gap_list']:\n",
    "        gap = -1\n",
    "        if -1 not in item:\n",
    "            gap = 0\n",
    "            for i in range(len(item)-1,0,-1):\n",
    "                if item[i-1] < item[i]:\n",
    "                    gap = gap + 1\n",
    "                else:\n",
    "                    break\n",
    "            \n",
    "        gap_change_large_right_continue.append(gap)\n",
    "        \n",
    "    table['video_day_gap_change_large_right_continue'] = gap_change_large_right_continue\n",
    "       \n",
    "    return table"
   ]
  },
  {
   "cell_type": "code",
   "execution_count": null,
   "metadata": {
    "collapsed": true
   },
   "outputs": [],
   "source": [
    "step1 是否create video的特征"
   ]
  },
  {
   "cell_type": "code",
   "execution_count": 21,
   "metadata": {
    "ExecuteTime": {
     "end_time": "2018-06-27T02:29:48.195440Z",
     "start_time": "2018-06-27T02:29:48.079146Z"
    }
   },
   "outputs": [
    {
     "name": "stdout",
     "output_type": "stream",
     "text": [
      "23923\n"
     ]
    }
   ],
   "source": [
    "table123_video_create = add_if_create_video(table123_video_create)"
   ]
  },
  {
   "cell_type": "code",
   "execution_count": 22,
   "metadata": {
    "ExecuteTime": {
     "end_time": "2018-06-27T02:29:51.397759Z",
     "start_time": "2018-06-27T02:29:51.386699Z"
    }
   },
   "outputs": [
    {
     "data": {
      "text/html": [
       "<div>\n",
       "<style>\n",
       "    .dataframe thead tr:only-child th {\n",
       "        text-align: right;\n",
       "    }\n",
       "\n",
       "    .dataframe thead th {\n",
       "        text-align: left;\n",
       "    }\n",
       "\n",
       "    .dataframe tbody tr th {\n",
       "        vertical-align: top;\n",
       "    }\n",
       "</style>\n",
       "<table border=\"1\" class=\"dataframe\">\n",
       "  <thead>\n",
       "    <tr style=\"text-align: right;\">\n",
       "      <th></th>\n",
       "      <th>user_id</th>\n",
       "      <th>video_create_day</th>\n",
       "      <th>video_day_gap_list</th>\n",
       "      <th>video_create_day_count</th>\n",
       "      <th>if_create_video</th>\n",
       "    </tr>\n",
       "  </thead>\n",
       "  <tbody>\n",
       "    <tr>\n",
       "      <th>0</th>\n",
       "      <td>8</td>\n",
       "      <td>[-1.0]</td>\n",
       "      <td>[-1]</td>\n",
       "      <td>[-1.0]</td>\n",
       "      <td>0</td>\n",
       "    </tr>\n",
       "    <tr>\n",
       "      <th>1</th>\n",
       "      <td>73</td>\n",
       "      <td>[-1.0]</td>\n",
       "      <td>[-1]</td>\n",
       "      <td>[-1.0]</td>\n",
       "      <td>0</td>\n",
       "    </tr>\n",
       "    <tr>\n",
       "      <th>2</th>\n",
       "      <td>129</td>\n",
       "      <td>[-1.0]</td>\n",
       "      <td>[-1]</td>\n",
       "      <td>[-1.0]</td>\n",
       "      <td>0</td>\n",
       "    </tr>\n",
       "    <tr>\n",
       "      <th>3</th>\n",
       "      <td>228</td>\n",
       "      <td>[-1.0]</td>\n",
       "      <td>[-1]</td>\n",
       "      <td>[-1.0]</td>\n",
       "      <td>0</td>\n",
       "    </tr>\n",
       "    <tr>\n",
       "      <th>4</th>\n",
       "      <td>351</td>\n",
       "      <td>[-1.0]</td>\n",
       "      <td>[-1]</td>\n",
       "      <td>[-1.0]</td>\n",
       "      <td>0</td>\n",
       "    </tr>\n",
       "  </tbody>\n",
       "</table>\n",
       "</div>"
      ],
      "text/plain": [
       "   user_id video_create_day video_day_gap_list video_create_day_count  \\\n",
       "0        8           [-1.0]               [-1]                 [-1.0]   \n",
       "1       73           [-1.0]               [-1]                 [-1.0]   \n",
       "2      129           [-1.0]               [-1]                 [-1.0]   \n",
       "3      228           [-1.0]               [-1]                 [-1.0]   \n",
       "4      351           [-1.0]               [-1]                 [-1.0]   \n",
       "\n",
       "   if_create_video  \n",
       "0                0  \n",
       "1                0  \n",
       "2                0  \n",
       "3                0  \n",
       "4                0  "
      ]
     },
     "execution_count": 22,
     "metadata": {},
     "output_type": "execute_result"
    }
   ],
   "source": [
    "table123_video_create.head()"
   ]
  },
  {
   "cell_type": "code",
   "execution_count": null,
   "metadata": {
    "collapsed": true
   },
   "outputs": [],
   "source": [
    "step2 提取day的特征"
   ]
  },
  {
   "cell_type": "code",
   "execution_count": null,
   "metadata": {
    "collapsed": true
   },
   "outputs": [],
   "source": [
    "video_create_day的单独特征：\n",
    "参考launch_day"
   ]
  },
  {
   "cell_type": "code",
   "execution_count": 23,
   "metadata": {
    "ExecuteTime": {
     "end_time": "2018-06-27T02:29:56.419328Z",
     "start_time": "2018-06-27T02:29:55.905467Z"
    }
   },
   "outputs": [
    {
     "name": "stdout",
     "output_type": "stream",
     "text": [
      "各种特征的shape\n",
      "23923 23923 23923\n"
     ]
    }
   ],
   "source": [
    "time_gap_right = 16 # 区间的最右端\n",
    "table123_video_create = day_feature_video(table123_video_create,time_gap_right)"
   ]
  },
  {
   "cell_type": "code",
   "execution_count": 26,
   "metadata": {
    "ExecuteTime": {
     "end_time": "2018-06-27T02:30:18.997191Z",
     "start_time": "2018-06-27T02:30:18.972630Z"
    }
   },
   "outputs": [
    {
     "data": {
      "text/html": [
       "<div>\n",
       "<style>\n",
       "    .dataframe thead tr:only-child th {\n",
       "        text-align: right;\n",
       "    }\n",
       "\n",
       "    .dataframe thead th {\n",
       "        text-align: left;\n",
       "    }\n",
       "\n",
       "    .dataframe tbody tr th {\n",
       "        vertical-align: top;\n",
       "    }\n",
       "</style>\n",
       "<table border=\"1\" class=\"dataframe\">\n",
       "  <thead>\n",
       "    <tr style=\"text-align: right;\">\n",
       "      <th></th>\n",
       "      <th>user_id</th>\n",
       "      <th>video_create_day</th>\n",
       "      <th>video_day_gap_list</th>\n",
       "      <th>video_create_day_count</th>\n",
       "      <th>if_create_video</th>\n",
       "      <th>video_day_near_pred</th>\n",
       "      <th>video_day_sum</th>\n",
       "      <th>video_day_sum_average</th>\n",
       "      <th>video_day_gap_max</th>\n",
       "      <th>video_day_gap_ain</th>\n",
       "      <th>video_day_gap_average</th>\n",
       "      <th>video_day_gap_std</th>\n",
       "      <th>video_day_gap_skew</th>\n",
       "      <th>video_day_gap_kurtosis</th>\n",
       "      <th>video_day_gap_max_continue</th>\n",
       "      <th>video_day_gap_max_right_continue</th>\n",
       "      <th>video_day_gap_max_continue_flag</th>\n",
       "      <th>video_day_gap_change_large_right_continue</th>\n",
       "    </tr>\n",
       "  </thead>\n",
       "  <tbody>\n",
       "    <tr>\n",
       "      <th>310</th>\n",
       "      <td>19462</td>\n",
       "      <td>[-1.0]</td>\n",
       "      <td>[-1]</td>\n",
       "      <td>[-1.0]</td>\n",
       "      <td>0</td>\n",
       "      <td>-1.0</td>\n",
       "      <td>-1</td>\n",
       "      <td>-1.0</td>\n",
       "      <td>-1.0</td>\n",
       "      <td>-1.0</td>\n",
       "      <td>-1.0</td>\n",
       "      <td>-1.0</td>\n",
       "      <td>-99.0</td>\n",
       "      <td>-99.0</td>\n",
       "      <td>-1</td>\n",
       "      <td>-1</td>\n",
       "      <td>-1</td>\n",
       "      <td>-1</td>\n",
       "    </tr>\n",
       "    <tr>\n",
       "      <th>311</th>\n",
       "      <td>19526</td>\n",
       "      <td>[-1.0]</td>\n",
       "      <td>[-1]</td>\n",
       "      <td>[-1.0]</td>\n",
       "      <td>0</td>\n",
       "      <td>-1.0</td>\n",
       "      <td>-1</td>\n",
       "      <td>-1.0</td>\n",
       "      <td>-1.0</td>\n",
       "      <td>-1.0</td>\n",
       "      <td>-1.0</td>\n",
       "      <td>-1.0</td>\n",
       "      <td>-99.0</td>\n",
       "      <td>-99.0</td>\n",
       "      <td>-1</td>\n",
       "      <td>-1</td>\n",
       "      <td>-1</td>\n",
       "      <td>-1</td>\n",
       "    </tr>\n",
       "    <tr>\n",
       "      <th>312</th>\n",
       "      <td>19629</td>\n",
       "      <td>[-1.0]</td>\n",
       "      <td>[-1]</td>\n",
       "      <td>[-1.0]</td>\n",
       "      <td>0</td>\n",
       "      <td>-1.0</td>\n",
       "      <td>-1</td>\n",
       "      <td>-1.0</td>\n",
       "      <td>-1.0</td>\n",
       "      <td>-1.0</td>\n",
       "      <td>-1.0</td>\n",
       "      <td>-1.0</td>\n",
       "      <td>-99.0</td>\n",
       "      <td>-99.0</td>\n",
       "      <td>-1</td>\n",
       "      <td>-1</td>\n",
       "      <td>-1</td>\n",
       "      <td>-1</td>\n",
       "    </tr>\n",
       "    <tr>\n",
       "      <th>313</th>\n",
       "      <td>19682</td>\n",
       "      <td>[-1.0]</td>\n",
       "      <td>[-1]</td>\n",
       "      <td>[-1.0]</td>\n",
       "      <td>0</td>\n",
       "      <td>-1.0</td>\n",
       "      <td>-1</td>\n",
       "      <td>-1.0</td>\n",
       "      <td>-1.0</td>\n",
       "      <td>-1.0</td>\n",
       "      <td>-1.0</td>\n",
       "      <td>-1.0</td>\n",
       "      <td>-99.0</td>\n",
       "      <td>-99.0</td>\n",
       "      <td>-1</td>\n",
       "      <td>-1</td>\n",
       "      <td>-1</td>\n",
       "      <td>-1</td>\n",
       "    </tr>\n",
       "    <tr>\n",
       "      <th>314</th>\n",
       "      <td>19727</td>\n",
       "      <td>[-1.0]</td>\n",
       "      <td>[-1]</td>\n",
       "      <td>[-1.0]</td>\n",
       "      <td>0</td>\n",
       "      <td>-1.0</td>\n",
       "      <td>-1</td>\n",
       "      <td>-1.0</td>\n",
       "      <td>-1.0</td>\n",
       "      <td>-1.0</td>\n",
       "      <td>-1.0</td>\n",
       "      <td>-1.0</td>\n",
       "      <td>-99.0</td>\n",
       "      <td>-99.0</td>\n",
       "      <td>-1</td>\n",
       "      <td>-1</td>\n",
       "      <td>-1</td>\n",
       "      <td>-1</td>\n",
       "    </tr>\n",
       "    <tr>\n",
       "      <th>315</th>\n",
       "      <td>19805</td>\n",
       "      <td>[8.0, 9.0]</td>\n",
       "      <td>[1.0]</td>\n",
       "      <td>[2.0, 1.0]</td>\n",
       "      <td>1</td>\n",
       "      <td>7.0</td>\n",
       "      <td>2</td>\n",
       "      <td>1.0</td>\n",
       "      <td>1.0</td>\n",
       "      <td>1.0</td>\n",
       "      <td>1.0</td>\n",
       "      <td>0.0</td>\n",
       "      <td>0.0</td>\n",
       "      <td>-3.0</td>\n",
       "      <td>1</td>\n",
       "      <td>1</td>\n",
       "      <td>0</td>\n",
       "      <td>0</td>\n",
       "    </tr>\n",
       "  </tbody>\n",
       "</table>\n",
       "</div>"
      ],
      "text/plain": [
       "     user_id video_create_day video_day_gap_list video_create_day_count  \\\n",
       "310    19462           [-1.0]               [-1]                 [-1.0]   \n",
       "311    19526           [-1.0]               [-1]                 [-1.0]   \n",
       "312    19629           [-1.0]               [-1]                 [-1.0]   \n",
       "313    19682           [-1.0]               [-1]                 [-1.0]   \n",
       "314    19727           [-1.0]               [-1]                 [-1.0]   \n",
       "315    19805       [8.0, 9.0]              [1.0]             [2.0, 1.0]   \n",
       "\n",
       "     if_create_video  video_day_near_pred  video_day_sum  \\\n",
       "310                0                 -1.0             -1   \n",
       "311                0                 -1.0             -1   \n",
       "312                0                 -1.0             -1   \n",
       "313                0                 -1.0             -1   \n",
       "314                0                 -1.0             -1   \n",
       "315                1                  7.0              2   \n",
       "\n",
       "     video_day_sum_average  video_day_gap_max  video_day_gap_ain  \\\n",
       "310                   -1.0               -1.0               -1.0   \n",
       "311                   -1.0               -1.0               -1.0   \n",
       "312                   -1.0               -1.0               -1.0   \n",
       "313                   -1.0               -1.0               -1.0   \n",
       "314                   -1.0               -1.0               -1.0   \n",
       "315                    1.0                1.0                1.0   \n",
       "\n",
       "     video_day_gap_average  video_day_gap_std  video_day_gap_skew  \\\n",
       "310                   -1.0               -1.0               -99.0   \n",
       "311                   -1.0               -1.0               -99.0   \n",
       "312                   -1.0               -1.0               -99.0   \n",
       "313                   -1.0               -1.0               -99.0   \n",
       "314                   -1.0               -1.0               -99.0   \n",
       "315                    1.0                0.0                 0.0   \n",
       "\n",
       "     video_day_gap_kurtosis  video_day_gap_max_continue  \\\n",
       "310                   -99.0                          -1   \n",
       "311                   -99.0                          -1   \n",
       "312                   -99.0                          -1   \n",
       "313                   -99.0                          -1   \n",
       "314                   -99.0                          -1   \n",
       "315                    -3.0                           1   \n",
       "\n",
       "     video_day_gap_max_right_continue  video_day_gap_max_continue_flag  \\\n",
       "310                                -1                               -1   \n",
       "311                                -1                               -1   \n",
       "312                                -1                               -1   \n",
       "313                                -1                               -1   \n",
       "314                                -1                               -1   \n",
       "315                                 1                                0   \n",
       "\n",
       "     video_day_gap_change_large_right_continue  \n",
       "310                                         -1  \n",
       "311                                         -1  \n",
       "312                                         -1  \n",
       "313                                         -1  \n",
       "314                                         -1  \n",
       "315                                          0  "
      ]
     },
     "execution_count": 26,
     "metadata": {},
     "output_type": "execute_result"
    }
   ],
   "source": [
    "table123_video_create.iloc[310:316,:]"
   ]
  },
  {
   "cell_type": "markdown",
   "metadata": {},
   "source": [
    "##### 数量特征"
   ]
  },
  {
   "cell_type": "code",
   "execution_count": 27,
   "metadata": {
    "ExecuteTime": {
     "end_time": "2018-06-27T02:30:38.456421Z",
     "start_time": "2018-06-27T02:30:38.294992Z"
    },
    "collapsed": true
   },
   "outputs": [],
   "source": [
    "def count_feature_video(table123_video_create,time_gap_right):\n",
    "    \n",
    "    count_pred = [] # 最近天数的count数量\n",
    "    count_sum = [] # 总量\n",
    "    count_average = [] # 均值（和创建视频天数挂钩，不是单纯的平均值）\n",
    "    count_max = [] # 最大值\n",
    "    count_day_max = [] # 最大值距离预测day的天数\n",
    "    count_min = [] # 最小值\n",
    "    count_day_min = [] # 最小值距离预测day的天数\n",
    "    count_std = [] # 方差\n",
    "    count_skew = [] # 偏度\n",
    "    count_kurtosis = [] # 峰度    \n",
    "\n",
    "    for i in range(table123_video_create.shape[0]):\n",
    "    # for i in range(10):\n",
    "        if_create = table123_video_create.iloc[i,4]\n",
    "        item = table123_video_create.iloc[i,3] \n",
    "        item_day = table123_video_create.iloc[i,1] \n",
    "        if if_create == 0: # 没有发视频\n",
    "            count_pred.append(-1)\n",
    "            count_sum.append(-1) \n",
    "            count_average.append(-1) \n",
    "            count_max.append(-1) \n",
    "            count_day_max.append(-1) \n",
    "            count_min.append(-1) \n",
    "            count_day_min.append(-1) \n",
    "            count_std.append(-1) \n",
    "            count_skew.append(-99) \n",
    "            count_kurtosis.append(-99) \n",
    "        else:\n",
    "            count_pred.append(item[-1])\n",
    "            count_sum.append(np.sum(item)) \n",
    "            count_average.append(np.sum(item) / (item_day[-1] - item_day[0] + 1) )\n",
    "            count_max.append(np.max(item)) \n",
    "            max_index = item.index(np.max(item))\n",
    "            count_day_max.append(time_gap_right - item_day[max_index]) \n",
    "            count_min.append(np.min(item)) \n",
    "            min_index = item.index(np.min(item))\n",
    "            count_day_min.append(time_gap_right - item_day[min_index]) \n",
    "            count_std.append(np.std(item)) \n",
    "            count_skew.append(stats.skew(item)) \n",
    "            count_kurtosis.append(stats.kurtosis(item))   \n",
    "            \n",
    "    table123_video_create['video_count_pred'] = count_pred\n",
    "    table123_video_create['video_count_sum'] = count_sum\n",
    "    table123_video_create['video_count_average'] = count_average \n",
    "    table123_video_create['video_count_max'] = count_max \n",
    "    table123_video_create['video_count_day_max'] = count_day_max\n",
    "    table123_video_create['video_count_min'] = count_min\n",
    "    table123_video_create['video_count_day_min'] = count_day_min \n",
    "    table123_video_create['video_count_std'] = count_std\n",
    "    table123_video_create['video_count_skew'] = count_skew \n",
    "    table123_video_create['video_count_kurtosis'] = count_kurtosis\n",
    "    \n",
    "    \n",
    "    # 从后往前数的，序列值越来越小的长度。衡量稀疏度\n",
    "    gap_change_small_right_continue = []\n",
    "    for item in table123_video_create['video_create_day_count']:\n",
    "        gap = -1\n",
    "        if -1 not in item:\n",
    "            gap = 0\n",
    "            for i in range(len(item)-1,0,-1):\n",
    "                if item[i-1] > item[i]:\n",
    "                    gap = gap + 1\n",
    "                else:\n",
    "                    break\n",
    "            \n",
    "        gap_change_small_right_continue.append(gap)\n",
    "        \n",
    "    table123_video_create['video_count_gap_change_small_right_continue'] = gap_change_small_right_continue \n",
    "    \n",
    "    return table123_video_create"
   ]
  },
  {
   "cell_type": "code",
   "execution_count": null,
   "metadata": {
    "collapsed": true
   },
   "outputs": [],
   "source": [
    "step3 提取有关数量的特征"
   ]
  },
  {
   "cell_type": "code",
   "execution_count": 28,
   "metadata": {
    "ExecuteTime": {
     "end_time": "2018-06-27T02:30:42.772257Z",
     "start_time": "2018-06-27T02:30:40.803022Z"
    },
    "collapsed": true
   },
   "outputs": [],
   "source": [
    "time_gap_right = 16 # 区间的最右端\n",
    "table123_video_create = count_feature_video(table123_video_create,time_gap_right)"
   ]
  },
  {
   "cell_type": "code",
   "execution_count": 29,
   "metadata": {
    "ExecuteTime": {
     "end_time": "2018-06-27T02:30:44.838098Z",
     "start_time": "2018-06-27T02:30:44.814035Z"
    }
   },
   "outputs": [
    {
     "data": {
      "text/html": [
       "<div>\n",
       "<style>\n",
       "    .dataframe thead tr:only-child th {\n",
       "        text-align: right;\n",
       "    }\n",
       "\n",
       "    .dataframe thead th {\n",
       "        text-align: left;\n",
       "    }\n",
       "\n",
       "    .dataframe tbody tr th {\n",
       "        vertical-align: top;\n",
       "    }\n",
       "</style>\n",
       "<table border=\"1\" class=\"dataframe\">\n",
       "  <thead>\n",
       "    <tr style=\"text-align: right;\">\n",
       "      <th></th>\n",
       "      <th>user_id</th>\n",
       "      <th>video_create_day</th>\n",
       "      <th>video_day_gap_list</th>\n",
       "      <th>video_create_day_count</th>\n",
       "      <th>if_create_video</th>\n",
       "      <th>video_day_near_pred</th>\n",
       "      <th>video_day_sum</th>\n",
       "      <th>video_day_sum_average</th>\n",
       "      <th>video_day_gap_max</th>\n",
       "      <th>video_day_gap_ain</th>\n",
       "      <th>...</th>\n",
       "      <th>video_count_sum</th>\n",
       "      <th>video_count_average</th>\n",
       "      <th>video_count_max</th>\n",
       "      <th>video_count_day_max</th>\n",
       "      <th>video_count_min</th>\n",
       "      <th>video_count_day_min</th>\n",
       "      <th>video_count_std</th>\n",
       "      <th>video_count_skew</th>\n",
       "      <th>video_count_kurtosis</th>\n",
       "      <th>video_count_gap_change_small_right_continue</th>\n",
       "    </tr>\n",
       "  </thead>\n",
       "  <tbody>\n",
       "    <tr>\n",
       "      <th>11</th>\n",
       "      <td>948</td>\n",
       "      <td>[-1.0]</td>\n",
       "      <td>[-1]</td>\n",
       "      <td>[-1.0]</td>\n",
       "      <td>0</td>\n",
       "      <td>-1.0</td>\n",
       "      <td>-1</td>\n",
       "      <td>-1.0</td>\n",
       "      <td>-1.0</td>\n",
       "      <td>-1.0</td>\n",
       "      <td>...</td>\n",
       "      <td>-1.0</td>\n",
       "      <td>-1.0</td>\n",
       "      <td>-1.0</td>\n",
       "      <td>-1.0</td>\n",
       "      <td>-1.0</td>\n",
       "      <td>-1.0</td>\n",
       "      <td>-1.0</td>\n",
       "      <td>-99.0</td>\n",
       "      <td>-99.0</td>\n",
       "      <td>-1</td>\n",
       "    </tr>\n",
       "    <tr>\n",
       "      <th>12</th>\n",
       "      <td>1108</td>\n",
       "      <td>[-1.0]</td>\n",
       "      <td>[-1]</td>\n",
       "      <td>[-1.0]</td>\n",
       "      <td>0</td>\n",
       "      <td>-1.0</td>\n",
       "      <td>-1</td>\n",
       "      <td>-1.0</td>\n",
       "      <td>-1.0</td>\n",
       "      <td>-1.0</td>\n",
       "      <td>...</td>\n",
       "      <td>-1.0</td>\n",
       "      <td>-1.0</td>\n",
       "      <td>-1.0</td>\n",
       "      <td>-1.0</td>\n",
       "      <td>-1.0</td>\n",
       "      <td>-1.0</td>\n",
       "      <td>-1.0</td>\n",
       "      <td>-99.0</td>\n",
       "      <td>-99.0</td>\n",
       "      <td>-1</td>\n",
       "    </tr>\n",
       "    <tr>\n",
       "      <th>13</th>\n",
       "      <td>1115</td>\n",
       "      <td>[-1.0]</td>\n",
       "      <td>[-1]</td>\n",
       "      <td>[-1.0]</td>\n",
       "      <td>0</td>\n",
       "      <td>-1.0</td>\n",
       "      <td>-1</td>\n",
       "      <td>-1.0</td>\n",
       "      <td>-1.0</td>\n",
       "      <td>-1.0</td>\n",
       "      <td>...</td>\n",
       "      <td>-1.0</td>\n",
       "      <td>-1.0</td>\n",
       "      <td>-1.0</td>\n",
       "      <td>-1.0</td>\n",
       "      <td>-1.0</td>\n",
       "      <td>-1.0</td>\n",
       "      <td>-1.0</td>\n",
       "      <td>-99.0</td>\n",
       "      <td>-99.0</td>\n",
       "      <td>-1</td>\n",
       "    </tr>\n",
       "    <tr>\n",
       "      <th>14</th>\n",
       "      <td>1197</td>\n",
       "      <td>[-1.0]</td>\n",
       "      <td>[-1]</td>\n",
       "      <td>[-1.0]</td>\n",
       "      <td>0</td>\n",
       "      <td>-1.0</td>\n",
       "      <td>-1</td>\n",
       "      <td>-1.0</td>\n",
       "      <td>-1.0</td>\n",
       "      <td>-1.0</td>\n",
       "      <td>...</td>\n",
       "      <td>-1.0</td>\n",
       "      <td>-1.0</td>\n",
       "      <td>-1.0</td>\n",
       "      <td>-1.0</td>\n",
       "      <td>-1.0</td>\n",
       "      <td>-1.0</td>\n",
       "      <td>-1.0</td>\n",
       "      <td>-99.0</td>\n",
       "      <td>-99.0</td>\n",
       "      <td>-1</td>\n",
       "    </tr>\n",
       "    <tr>\n",
       "      <th>15</th>\n",
       "      <td>1341</td>\n",
       "      <td>[-1.0]</td>\n",
       "      <td>[-1]</td>\n",
       "      <td>[-1.0]</td>\n",
       "      <td>0</td>\n",
       "      <td>-1.0</td>\n",
       "      <td>-1</td>\n",
       "      <td>-1.0</td>\n",
       "      <td>-1.0</td>\n",
       "      <td>-1.0</td>\n",
       "      <td>...</td>\n",
       "      <td>-1.0</td>\n",
       "      <td>-1.0</td>\n",
       "      <td>-1.0</td>\n",
       "      <td>-1.0</td>\n",
       "      <td>-1.0</td>\n",
       "      <td>-1.0</td>\n",
       "      <td>-1.0</td>\n",
       "      <td>-99.0</td>\n",
       "      <td>-99.0</td>\n",
       "      <td>-1</td>\n",
       "    </tr>\n",
       "  </tbody>\n",
       "</table>\n",
       "<p>5 rows × 29 columns</p>\n",
       "</div>"
      ],
      "text/plain": [
       "    user_id video_create_day video_day_gap_list video_create_day_count  \\\n",
       "11      948           [-1.0]               [-1]                 [-1.0]   \n",
       "12     1108           [-1.0]               [-1]                 [-1.0]   \n",
       "13     1115           [-1.0]               [-1]                 [-1.0]   \n",
       "14     1197           [-1.0]               [-1]                 [-1.0]   \n",
       "15     1341           [-1.0]               [-1]                 [-1.0]   \n",
       "\n",
       "    if_create_video  video_day_near_pred  video_day_sum  \\\n",
       "11                0                 -1.0             -1   \n",
       "12                0                 -1.0             -1   \n",
       "13                0                 -1.0             -1   \n",
       "14                0                 -1.0             -1   \n",
       "15                0                 -1.0             -1   \n",
       "\n",
       "    video_day_sum_average  video_day_gap_max  video_day_gap_ain  \\\n",
       "11                   -1.0               -1.0               -1.0   \n",
       "12                   -1.0               -1.0               -1.0   \n",
       "13                   -1.0               -1.0               -1.0   \n",
       "14                   -1.0               -1.0               -1.0   \n",
       "15                   -1.0               -1.0               -1.0   \n",
       "\n",
       "                       ...                       video_count_sum  \\\n",
       "11                     ...                                  -1.0   \n",
       "12                     ...                                  -1.0   \n",
       "13                     ...                                  -1.0   \n",
       "14                     ...                                  -1.0   \n",
       "15                     ...                                  -1.0   \n",
       "\n",
       "    video_count_average  video_count_max  video_count_day_max  \\\n",
       "11                 -1.0             -1.0                 -1.0   \n",
       "12                 -1.0             -1.0                 -1.0   \n",
       "13                 -1.0             -1.0                 -1.0   \n",
       "14                 -1.0             -1.0                 -1.0   \n",
       "15                 -1.0             -1.0                 -1.0   \n",
       "\n",
       "    video_count_min  video_count_day_min  video_count_std  video_count_skew  \\\n",
       "11             -1.0                 -1.0             -1.0             -99.0   \n",
       "12             -1.0                 -1.0             -1.0             -99.0   \n",
       "13             -1.0                 -1.0             -1.0             -99.0   \n",
       "14             -1.0                 -1.0             -1.0             -99.0   \n",
       "15             -1.0                 -1.0             -1.0             -99.0   \n",
       "\n",
       "    video_count_kurtosis  video_count_gap_change_small_right_continue  \n",
       "11                 -99.0                                           -1  \n",
       "12                 -99.0                                           -1  \n",
       "13                 -99.0                                           -1  \n",
       "14                 -99.0                                           -1  \n",
       "15                 -99.0                                           -1  \n",
       "\n",
       "[5 rows x 29 columns]"
      ]
     },
     "execution_count": 29,
     "metadata": {},
     "output_type": "execute_result"
    }
   ],
   "source": [
    "table123_video_create.iloc[11:16,:]"
   ]
  },
  {
   "cell_type": "markdown",
   "metadata": {},
   "source": [
    "#### 合并登录特征和视频特征"
   ]
  },
  {
   "cell_type": "code",
   "execution_count": 30,
   "metadata": {
    "ExecuteTime": {
     "end_time": "2018-06-27T02:30:48.906227Z",
     "start_time": "2018-06-27T02:30:48.864584Z"
    },
    "collapsed": true
   },
   "outputs": [],
   "source": [
    "table123_feature = pd.merge(\n",
    "    table123_app_launch_day,table123_video_create,how = 'outer')"
   ]
  },
  {
   "cell_type": "code",
   "execution_count": 31,
   "metadata": {
    "ExecuteTime": {
     "end_time": "2018-06-27T02:30:49.917256Z",
     "start_time": "2018-06-27T02:30:49.910763Z"
    }
   },
   "outputs": [
    {
     "data": {
      "text/plain": [
       "((23923, 16), (23923, 29), (23923, 44))"
      ]
     },
     "execution_count": 31,
     "metadata": {},
     "output_type": "execute_result"
    }
   ],
   "source": [
    "table123_app_launch_day.shape,table123_video_create.shape,table123_feature.shape"
   ]
  },
  {
   "cell_type": "code",
   "execution_count": 32,
   "metadata": {
    "ExecuteTime": {
     "end_time": "2018-06-27T02:30:52.454314Z",
     "start_time": "2018-06-27T02:30:52.423231Z"
    }
   },
   "outputs": [
    {
     "data": {
      "text/html": [
       "<div>\n",
       "<style>\n",
       "    .dataframe thead tr:only-child th {\n",
       "        text-align: right;\n",
       "    }\n",
       "\n",
       "    .dataframe thead th {\n",
       "        text-align: left;\n",
       "    }\n",
       "\n",
       "    .dataframe tbody tr th {\n",
       "        vertical-align: top;\n",
       "    }\n",
       "</style>\n",
       "<table border=\"1\" class=\"dataframe\">\n",
       "  <thead>\n",
       "    <tr style=\"text-align: right;\">\n",
       "      <th></th>\n",
       "      <th>user_id</th>\n",
       "      <th>app_launch_day</th>\n",
       "      <th>launch_gap_list</th>\n",
       "      <th>launch_day_near_pred</th>\n",
       "      <th>launch_day_sum</th>\n",
       "      <th>launch_day_sum_average</th>\n",
       "      <th>launch_day_gap_max</th>\n",
       "      <th>launch_day_gap_ain</th>\n",
       "      <th>launch_day_gap_average</th>\n",
       "      <th>launch_day_gap_std</th>\n",
       "      <th>...</th>\n",
       "      <th>video_count_sum</th>\n",
       "      <th>video_count_average</th>\n",
       "      <th>video_count_max</th>\n",
       "      <th>video_count_day_max</th>\n",
       "      <th>video_count_min</th>\n",
       "      <th>video_count_day_min</th>\n",
       "      <th>video_count_std</th>\n",
       "      <th>video_count_skew</th>\n",
       "      <th>video_count_kurtosis</th>\n",
       "      <th>video_count_gap_change_small_right_continue</th>\n",
       "    </tr>\n",
       "  </thead>\n",
       "  <tbody>\n",
       "    <tr>\n",
       "      <th>0</th>\n",
       "      <td>8</td>\n",
       "      <td>[9.0, 10.0, 11.0, 13.0]</td>\n",
       "      <td>[1.0, 1.0, 2.0]</td>\n",
       "      <td>3.0</td>\n",
       "      <td>4</td>\n",
       "      <td>0.80</td>\n",
       "      <td>2.0</td>\n",
       "      <td>1.0</td>\n",
       "      <td>1.333333</td>\n",
       "      <td>0.471405</td>\n",
       "      <td>...</td>\n",
       "      <td>-1.0</td>\n",
       "      <td>-1.0</td>\n",
       "      <td>-1.0</td>\n",
       "      <td>-1.0</td>\n",
       "      <td>-1.0</td>\n",
       "      <td>-1.0</td>\n",
       "      <td>-1.0</td>\n",
       "      <td>-99.0</td>\n",
       "      <td>-99.0</td>\n",
       "      <td>-1</td>\n",
       "    </tr>\n",
       "    <tr>\n",
       "      <th>1</th>\n",
       "      <td>73</td>\n",
       "      <td>[2.0, 4.0, 5.0]</td>\n",
       "      <td>[2.0, 1.0]</td>\n",
       "      <td>11.0</td>\n",
       "      <td>3</td>\n",
       "      <td>0.75</td>\n",
       "      <td>2.0</td>\n",
       "      <td>1.0</td>\n",
       "      <td>1.500000</td>\n",
       "      <td>0.500000</td>\n",
       "      <td>...</td>\n",
       "      <td>-1.0</td>\n",
       "      <td>-1.0</td>\n",
       "      <td>-1.0</td>\n",
       "      <td>-1.0</td>\n",
       "      <td>-1.0</td>\n",
       "      <td>-1.0</td>\n",
       "      <td>-1.0</td>\n",
       "      <td>-99.0</td>\n",
       "      <td>-99.0</td>\n",
       "      <td>-1</td>\n",
       "    </tr>\n",
       "    <tr>\n",
       "      <th>2</th>\n",
       "      <td>129</td>\n",
       "      <td>[12.0]</td>\n",
       "      <td>[-1]</td>\n",
       "      <td>4.0</td>\n",
       "      <td>1</td>\n",
       "      <td>1.00</td>\n",
       "      <td>-1.0</td>\n",
       "      <td>-1.0</td>\n",
       "      <td>-1.000000</td>\n",
       "      <td>-1.000000</td>\n",
       "      <td>...</td>\n",
       "      <td>-1.0</td>\n",
       "      <td>-1.0</td>\n",
       "      <td>-1.0</td>\n",
       "      <td>-1.0</td>\n",
       "      <td>-1.0</td>\n",
       "      <td>-1.0</td>\n",
       "      <td>-1.0</td>\n",
       "      <td>-99.0</td>\n",
       "      <td>-99.0</td>\n",
       "      <td>-1</td>\n",
       "    </tr>\n",
       "    <tr>\n",
       "      <th>3</th>\n",
       "      <td>228</td>\n",
       "      <td>[13.0]</td>\n",
       "      <td>[-1]</td>\n",
       "      <td>3.0</td>\n",
       "      <td>1</td>\n",
       "      <td>1.00</td>\n",
       "      <td>-1.0</td>\n",
       "      <td>-1.0</td>\n",
       "      <td>-1.000000</td>\n",
       "      <td>-1.000000</td>\n",
       "      <td>...</td>\n",
       "      <td>-1.0</td>\n",
       "      <td>-1.0</td>\n",
       "      <td>-1.0</td>\n",
       "      <td>-1.0</td>\n",
       "      <td>-1.0</td>\n",
       "      <td>-1.0</td>\n",
       "      <td>-1.0</td>\n",
       "      <td>-99.0</td>\n",
       "      <td>-99.0</td>\n",
       "      <td>-1</td>\n",
       "    </tr>\n",
       "    <tr>\n",
       "      <th>4</th>\n",
       "      <td>351</td>\n",
       "      <td>[3.0]</td>\n",
       "      <td>[-1]</td>\n",
       "      <td>13.0</td>\n",
       "      <td>1</td>\n",
       "      <td>1.00</td>\n",
       "      <td>-1.0</td>\n",
       "      <td>-1.0</td>\n",
       "      <td>-1.000000</td>\n",
       "      <td>-1.000000</td>\n",
       "      <td>...</td>\n",
       "      <td>-1.0</td>\n",
       "      <td>-1.0</td>\n",
       "      <td>-1.0</td>\n",
       "      <td>-1.0</td>\n",
       "      <td>-1.0</td>\n",
       "      <td>-1.0</td>\n",
       "      <td>-1.0</td>\n",
       "      <td>-99.0</td>\n",
       "      <td>-99.0</td>\n",
       "      <td>-1</td>\n",
       "    </tr>\n",
       "  </tbody>\n",
       "</table>\n",
       "<p>5 rows × 44 columns</p>\n",
       "</div>"
      ],
      "text/plain": [
       "   user_id           app_launch_day  launch_gap_list  launch_day_near_pred  \\\n",
       "0        8  [9.0, 10.0, 11.0, 13.0]  [1.0, 1.0, 2.0]                   3.0   \n",
       "1       73          [2.0, 4.0, 5.0]       [2.0, 1.0]                  11.0   \n",
       "2      129                   [12.0]             [-1]                   4.0   \n",
       "3      228                   [13.0]             [-1]                   3.0   \n",
       "4      351                    [3.0]             [-1]                  13.0   \n",
       "\n",
       "   launch_day_sum  launch_day_sum_average  launch_day_gap_max  \\\n",
       "0               4                    0.80                 2.0   \n",
       "1               3                    0.75                 2.0   \n",
       "2               1                    1.00                -1.0   \n",
       "3               1                    1.00                -1.0   \n",
       "4               1                    1.00                -1.0   \n",
       "\n",
       "   launch_day_gap_ain  launch_day_gap_average  launch_day_gap_std  \\\n",
       "0                 1.0                1.333333            0.471405   \n",
       "1                 1.0                1.500000            0.500000   \n",
       "2                -1.0               -1.000000           -1.000000   \n",
       "3                -1.0               -1.000000           -1.000000   \n",
       "4                -1.0               -1.000000           -1.000000   \n",
       "\n",
       "                      ...                       video_count_sum  \\\n",
       "0                     ...                                  -1.0   \n",
       "1                     ...                                  -1.0   \n",
       "2                     ...                                  -1.0   \n",
       "3                     ...                                  -1.0   \n",
       "4                     ...                                  -1.0   \n",
       "\n",
       "   video_count_average  video_count_max  video_count_day_max  video_count_min  \\\n",
       "0                 -1.0             -1.0                 -1.0             -1.0   \n",
       "1                 -1.0             -1.0                 -1.0             -1.0   \n",
       "2                 -1.0             -1.0                 -1.0             -1.0   \n",
       "3                 -1.0             -1.0                 -1.0             -1.0   \n",
       "4                 -1.0             -1.0                 -1.0             -1.0   \n",
       "\n",
       "   video_count_day_min video_count_std video_count_skew video_count_kurtosis  \\\n",
       "0                 -1.0            -1.0            -99.0                -99.0   \n",
       "1                 -1.0            -1.0            -99.0                -99.0   \n",
       "2                 -1.0            -1.0            -99.0                -99.0   \n",
       "3                 -1.0            -1.0            -99.0                -99.0   \n",
       "4                 -1.0            -1.0            -99.0                -99.0   \n",
       "\n",
       "   video_count_gap_change_small_right_continue  \n",
       "0                                           -1  \n",
       "1                                           -1  \n",
       "2                                           -1  \n",
       "3                                           -1  \n",
       "4                                           -1  \n",
       "\n",
       "[5 rows x 44 columns]"
      ]
     },
     "execution_count": 32,
     "metadata": {},
     "output_type": "execute_result"
    }
   ],
   "source": [
    "table123_feature.head()"
   ]
  },
  {
   "cell_type": "code",
   "execution_count": 34,
   "metadata": {
    "ExecuteTime": {
     "end_time": "2018-06-27T02:31:34.498826Z",
     "start_time": "2018-06-27T02:31:33.538273Z"
    },
    "collapsed": true
   },
   "outputs": [],
   "source": [
    "table123_feature.to_csv(\n",
    "    'dataset_B_for_model_method/temp_dataset/table123_1_16_first_3_feature.csv',index = False)"
   ]
  },
  {
   "cell_type": "markdown",
   "metadata": {},
   "source": [
    "#### 行为特征"
   ]
  },
  {
   "cell_type": "code",
   "execution_count": null,
   "metadata": {
    "collapsed": true
   },
   "outputs": [],
   "source": [
    "读取table123_1_16_feature"
   ]
  },
  {
   "cell_type": "code",
   "execution_count": 38,
   "metadata": {
    "ExecuteTime": {
     "end_time": "2018-06-27T02:32:07.949908Z",
     "start_time": "2018-06-27T02:32:07.754140Z"
    },
    "collapsed": true
   },
   "outputs": [],
   "source": [
    "table123_feature = pd.read_csv(\n",
    "    'dataset_B_for_model_method/temp_dataset/table123_1_16_first_3_feature.csv')"
   ]
  },
  {
   "cell_type": "code",
   "execution_count": 39,
   "metadata": {
    "ExecuteTime": {
     "end_time": "2018-06-27T02:32:08.894554Z",
     "start_time": "2018-06-27T02:32:08.868539Z"
    }
   },
   "outputs": [
    {
     "data": {
      "text/html": [
       "<div>\n",
       "<style>\n",
       "    .dataframe thead tr:only-child th {\n",
       "        text-align: right;\n",
       "    }\n",
       "\n",
       "    .dataframe thead th {\n",
       "        text-align: left;\n",
       "    }\n",
       "\n",
       "    .dataframe tbody tr th {\n",
       "        vertical-align: top;\n",
       "    }\n",
       "</style>\n",
       "<table border=\"1\" class=\"dataframe\">\n",
       "  <thead>\n",
       "    <tr style=\"text-align: right;\">\n",
       "      <th></th>\n",
       "      <th>user_id</th>\n",
       "      <th>app_launch_day</th>\n",
       "      <th>launch_gap_list</th>\n",
       "      <th>launch_day_near_pred</th>\n",
       "      <th>launch_day_sum</th>\n",
       "      <th>launch_day_sum_average</th>\n",
       "      <th>launch_day_gap_max</th>\n",
       "      <th>launch_day_gap_ain</th>\n",
       "      <th>launch_day_gap_average</th>\n",
       "      <th>launch_day_gap_std</th>\n",
       "      <th>...</th>\n",
       "      <th>video_count_sum</th>\n",
       "      <th>video_count_average</th>\n",
       "      <th>video_count_max</th>\n",
       "      <th>video_count_day_max</th>\n",
       "      <th>video_count_min</th>\n",
       "      <th>video_count_day_min</th>\n",
       "      <th>video_count_std</th>\n",
       "      <th>video_count_skew</th>\n",
       "      <th>video_count_kurtosis</th>\n",
       "      <th>video_count_gap_change_small_right_continue</th>\n",
       "    </tr>\n",
       "  </thead>\n",
       "  <tbody>\n",
       "    <tr>\n",
       "      <th>0</th>\n",
       "      <td>8</td>\n",
       "      <td>[9.0, 10.0, 11.0, 13.0]</td>\n",
       "      <td>[1.0, 1.0, 2.0]</td>\n",
       "      <td>3.0</td>\n",
       "      <td>4</td>\n",
       "      <td>0.80</td>\n",
       "      <td>2.0</td>\n",
       "      <td>1.0</td>\n",
       "      <td>1.333333</td>\n",
       "      <td>0.471405</td>\n",
       "      <td>...</td>\n",
       "      <td>-1.0</td>\n",
       "      <td>-1.0</td>\n",
       "      <td>-1.0</td>\n",
       "      <td>-1.0</td>\n",
       "      <td>-1.0</td>\n",
       "      <td>-1.0</td>\n",
       "      <td>-1.0</td>\n",
       "      <td>-99.0</td>\n",
       "      <td>-99.0</td>\n",
       "      <td>-1</td>\n",
       "    </tr>\n",
       "    <tr>\n",
       "      <th>1</th>\n",
       "      <td>73</td>\n",
       "      <td>[2.0, 4.0, 5.0]</td>\n",
       "      <td>[2.0, 1.0]</td>\n",
       "      <td>11.0</td>\n",
       "      <td>3</td>\n",
       "      <td>0.75</td>\n",
       "      <td>2.0</td>\n",
       "      <td>1.0</td>\n",
       "      <td>1.500000</td>\n",
       "      <td>0.500000</td>\n",
       "      <td>...</td>\n",
       "      <td>-1.0</td>\n",
       "      <td>-1.0</td>\n",
       "      <td>-1.0</td>\n",
       "      <td>-1.0</td>\n",
       "      <td>-1.0</td>\n",
       "      <td>-1.0</td>\n",
       "      <td>-1.0</td>\n",
       "      <td>-99.0</td>\n",
       "      <td>-99.0</td>\n",
       "      <td>-1</td>\n",
       "    </tr>\n",
       "    <tr>\n",
       "      <th>2</th>\n",
       "      <td>129</td>\n",
       "      <td>[12.0]</td>\n",
       "      <td>[-1]</td>\n",
       "      <td>4.0</td>\n",
       "      <td>1</td>\n",
       "      <td>1.00</td>\n",
       "      <td>-1.0</td>\n",
       "      <td>-1.0</td>\n",
       "      <td>-1.000000</td>\n",
       "      <td>-1.000000</td>\n",
       "      <td>...</td>\n",
       "      <td>-1.0</td>\n",
       "      <td>-1.0</td>\n",
       "      <td>-1.0</td>\n",
       "      <td>-1.0</td>\n",
       "      <td>-1.0</td>\n",
       "      <td>-1.0</td>\n",
       "      <td>-1.0</td>\n",
       "      <td>-99.0</td>\n",
       "      <td>-99.0</td>\n",
       "      <td>-1</td>\n",
       "    </tr>\n",
       "    <tr>\n",
       "      <th>3</th>\n",
       "      <td>228</td>\n",
       "      <td>[13.0]</td>\n",
       "      <td>[-1]</td>\n",
       "      <td>3.0</td>\n",
       "      <td>1</td>\n",
       "      <td>1.00</td>\n",
       "      <td>-1.0</td>\n",
       "      <td>-1.0</td>\n",
       "      <td>-1.000000</td>\n",
       "      <td>-1.000000</td>\n",
       "      <td>...</td>\n",
       "      <td>-1.0</td>\n",
       "      <td>-1.0</td>\n",
       "      <td>-1.0</td>\n",
       "      <td>-1.0</td>\n",
       "      <td>-1.0</td>\n",
       "      <td>-1.0</td>\n",
       "      <td>-1.0</td>\n",
       "      <td>-99.0</td>\n",
       "      <td>-99.0</td>\n",
       "      <td>-1</td>\n",
       "    </tr>\n",
       "    <tr>\n",
       "      <th>4</th>\n",
       "      <td>351</td>\n",
       "      <td>[3.0]</td>\n",
       "      <td>[-1]</td>\n",
       "      <td>13.0</td>\n",
       "      <td>1</td>\n",
       "      <td>1.00</td>\n",
       "      <td>-1.0</td>\n",
       "      <td>-1.0</td>\n",
       "      <td>-1.000000</td>\n",
       "      <td>-1.000000</td>\n",
       "      <td>...</td>\n",
       "      <td>-1.0</td>\n",
       "      <td>-1.0</td>\n",
       "      <td>-1.0</td>\n",
       "      <td>-1.0</td>\n",
       "      <td>-1.0</td>\n",
       "      <td>-1.0</td>\n",
       "      <td>-1.0</td>\n",
       "      <td>-99.0</td>\n",
       "      <td>-99.0</td>\n",
       "      <td>-1</td>\n",
       "    </tr>\n",
       "  </tbody>\n",
       "</table>\n",
       "<p>5 rows × 44 columns</p>\n",
       "</div>"
      ],
      "text/plain": [
       "   user_id           app_launch_day  launch_gap_list  launch_day_near_pred  \\\n",
       "0        8  [9.0, 10.0, 11.0, 13.0]  [1.0, 1.0, 2.0]                   3.0   \n",
       "1       73          [2.0, 4.0, 5.0]       [2.0, 1.0]                  11.0   \n",
       "2      129                   [12.0]             [-1]                   4.0   \n",
       "3      228                   [13.0]             [-1]                   3.0   \n",
       "4      351                    [3.0]             [-1]                  13.0   \n",
       "\n",
       "   launch_day_sum  launch_day_sum_average  launch_day_gap_max  \\\n",
       "0               4                    0.80                 2.0   \n",
       "1               3                    0.75                 2.0   \n",
       "2               1                    1.00                -1.0   \n",
       "3               1                    1.00                -1.0   \n",
       "4               1                    1.00                -1.0   \n",
       "\n",
       "   launch_day_gap_ain  launch_day_gap_average  launch_day_gap_std  \\\n",
       "0                 1.0                1.333333            0.471405   \n",
       "1                 1.0                1.500000            0.500000   \n",
       "2                -1.0               -1.000000           -1.000000   \n",
       "3                -1.0               -1.000000           -1.000000   \n",
       "4                -1.0               -1.000000           -1.000000   \n",
       "\n",
       "                      ...                       video_count_sum  \\\n",
       "0                     ...                                  -1.0   \n",
       "1                     ...                                  -1.0   \n",
       "2                     ...                                  -1.0   \n",
       "3                     ...                                  -1.0   \n",
       "4                     ...                                  -1.0   \n",
       "\n",
       "   video_count_average  video_count_max  video_count_day_max  video_count_min  \\\n",
       "0                 -1.0             -1.0                 -1.0             -1.0   \n",
       "1                 -1.0             -1.0                 -1.0             -1.0   \n",
       "2                 -1.0             -1.0                 -1.0             -1.0   \n",
       "3                 -1.0             -1.0                 -1.0             -1.0   \n",
       "4                 -1.0             -1.0                 -1.0             -1.0   \n",
       "\n",
       "   video_count_day_min video_count_std video_count_skew video_count_kurtosis  \\\n",
       "0                 -1.0            -1.0            -99.0                -99.0   \n",
       "1                 -1.0            -1.0            -99.0                -99.0   \n",
       "2                 -1.0            -1.0            -99.0                -99.0   \n",
       "3                 -1.0            -1.0            -99.0                -99.0   \n",
       "4                 -1.0            -1.0            -99.0                -99.0   \n",
       "\n",
       "   video_count_gap_change_small_right_continue  \n",
       "0                                           -1  \n",
       "1                                           -1  \n",
       "2                                           -1  \n",
       "3                                           -1  \n",
       "4                                           -1  \n",
       "\n",
       "[5 rows x 44 columns]"
      ]
     },
     "execution_count": 39,
     "metadata": {},
     "output_type": "execute_result"
    }
   ],
   "source": [
    "table123_feature.head()"
   ]
  },
  {
   "cell_type": "code",
   "execution_count": 40,
   "metadata": {
    "ExecuteTime": {
     "end_time": "2018-06-27T02:32:14.081170Z",
     "start_time": "2018-06-27T02:32:14.071671Z"
    }
   },
   "outputs": [
    {
     "data": {
      "text/html": [
       "<div>\n",
       "<style>\n",
       "    .dataframe thead tr:only-child th {\n",
       "        text-align: right;\n",
       "    }\n",
       "\n",
       "    .dataframe thead th {\n",
       "        text-align: left;\n",
       "    }\n",
       "\n",
       "    .dataframe tbody tr th {\n",
       "        vertical-align: top;\n",
       "    }\n",
       "</style>\n",
       "<table border=\"1\" class=\"dataframe\">\n",
       "  <thead>\n",
       "    <tr style=\"text-align: right;\">\n",
       "      <th></th>\n",
       "      <th>user_id</th>\n",
       "      <th>activity_day</th>\n",
       "      <th>activity_page</th>\n",
       "      <th>video_id</th>\n",
       "      <th>author_id</th>\n",
       "      <th>action_type</th>\n",
       "      <th>activity_count</th>\n",
       "    </tr>\n",
       "  </thead>\n",
       "  <tbody>\n",
       "    <tr>\n",
       "      <th>0</th>\n",
       "      <td>8</td>\n",
       "      <td>9</td>\n",
       "      <td>3</td>\n",
       "      <td>1955966</td>\n",
       "      <td>309219</td>\n",
       "      <td>0</td>\n",
       "      <td>2</td>\n",
       "    </tr>\n",
       "    <tr>\n",
       "      <th>1</th>\n",
       "      <td>8</td>\n",
       "      <td>9</td>\n",
       "      <td>0</td>\n",
       "      <td>1340816</td>\n",
       "      <td>12378</td>\n",
       "      <td>0</td>\n",
       "      <td>1</td>\n",
       "    </tr>\n",
       "    <tr>\n",
       "      <th>2</th>\n",
       "      <td>8</td>\n",
       "      <td>9</td>\n",
       "      <td>0</td>\n",
       "      <td>3488372</td>\n",
       "      <td>107008</td>\n",
       "      <td>0</td>\n",
       "      <td>1</td>\n",
       "    </tr>\n",
       "    <tr>\n",
       "      <th>3</th>\n",
       "      <td>8</td>\n",
       "      <td>9</td>\n",
       "      <td>0</td>\n",
       "      <td>1705402</td>\n",
       "      <td>37639</td>\n",
       "      <td>0</td>\n",
       "      <td>2</td>\n",
       "    </tr>\n",
       "    <tr>\n",
       "      <th>4</th>\n",
       "      <td>8</td>\n",
       "      <td>9</td>\n",
       "      <td>0</td>\n",
       "      <td>3710937</td>\n",
       "      <td>1312718</td>\n",
       "      <td>0</td>\n",
       "      <td>1</td>\n",
       "    </tr>\n",
       "  </tbody>\n",
       "</table>\n",
       "</div>"
      ],
      "text/plain": [
       "   user_id  activity_day  activity_page  video_id  author_id  action_type  \\\n",
       "0        8             9              3   1955966     309219            0   \n",
       "1        8             9              0   1340816      12378            0   \n",
       "2        8             9              0   3488372     107008            0   \n",
       "3        8             9              0   1705402      37639            0   \n",
       "4        8             9              0   3710937    1312718            0   \n",
       "\n",
       "   activity_count  \n",
       "0               2  \n",
       "1               1  \n",
       "2               1  \n",
       "3               2  \n",
       "4               1  "
      ]
     },
     "execution_count": 40,
     "metadata": {},
     "output_type": "execute_result"
    }
   ],
   "source": [
    "act.head()"
   ]
  },
  {
   "cell_type": "code",
   "execution_count": null,
   "metadata": {
    "collapsed": true
   },
   "outputs": [],
   "source": [
    "特征总结：\n",
    "1 day单独特征（如上）\n",
    "2 day和count的特征（如上）\n",
    "☆对count还可以进行更精细的挖掘：比如count的diff（变化量）的list\n",
    "——决定加入：\n",
    "统计：总量，均值，正负值的max和day（day往后一天算），std，偏度，峰度\n",
    "是否是连减，是否降低量增加\n",
    "\n",
    "3 关于page和type\n",
    "原有的：每种page占活跃总量的比例\n",
    "☆可以参考的特征：每种page和type随day的变化list的上述统计值\n",
    "4 video和author\n",
    "list：将每个author的对应的video观看量作为list，\n",
    "统计：\n",
    "author的数量，video的总量 / author的数量：\n",
    "这两个实际可以看做author_video_count_list的len，average，sum（前边count统计过了）\n",
    "average的意义——用户偏好：author数量少，video数量又大的。video / count的值\n",
    "其余的统计量：\n",
    "max，max占sum的比例值\n",
    "std：衡量波动情况，看的作者是否杂，杂的user没有关注的用户，容易弃坑\n",
    "峰度和偏度：刻画list的变化趋势（需要先给list排序）\n",
    "用户偏好：author数量少，video数量又大的。video / count的值\n",
    "☆可以继续挖掘的特征：重要author的count，随着day的变化list（上边统计的是所有author的总值）\n",
    "——上边【所有的】，都是统计的单一特征，而这个是多元的：author（count） + day\n",
    "☆是否是heat_author：创建过视频的user_id，创建视频的互动量(是否是top之内的)"
   ]
  },
  {
   "cell_type": "code",
   "execution_count": null,
   "metadata": {
    "collapsed": true
   },
   "outputs": [],
   "source": [
    "activity_day 时间特征同上\n",
    "activity_count 用户行为的计数/天 \n",
    "activity_page：“关注页”、”个人主页“、”发现页“、”同城页“或”其他页“中的一个，编号0-4\n",
    "activity_type：“播放“、”关注“、”点赞“、”转发“、”举报“和”减少此类作品“中的一个，编号0-5\n",
    "video_id和author_id：可以统计id的信息，比如关注video_id中的高量播放视频，关注author_id是不是这批新注册的id"
   ]
  },
  {
   "cell_type": "markdown",
   "metadata": {},
   "source": [
    "##### 时间特征"
   ]
  },
  {
   "cell_type": "code",
   "execution_count": null,
   "metadata": {
    "collapsed": true
   },
   "outputs": [],
   "source": [
    "使用到的函数"
   ]
  },
  {
   "cell_type": "code",
   "execution_count": null,
   "metadata": {
    "collapsed": true
   },
   "outputs": [],
   "source": [
    "预处理函数"
   ]
  },
  {
   "cell_type": "code",
   "execution_count": null,
   "metadata": {
    "collapsed": true
   },
   "outputs": [],
   "source": [
    "注意：count的gap有负值，因此null不能用-1代替！只能用np.nan或者非数值。"
   ]
  },
  {
   "cell_type": "code",
   "execution_count": 41,
   "metadata": {
    "ExecuteTime": {
     "end_time": "2018-06-27T02:33:01.226297Z",
     "start_time": "2018-06-27T02:33:01.144024Z"
    },
    "collapsed": true
   },
   "outputs": [],
   "source": [
    "def activity_day_count_pre(act):\n",
    "    # 在activity_day和activity_count的特征统计时，不需要中间这几个特征，因此可以先去掉\n",
    "    drop_columns = ['activity_page', 'video_id', 'author_id','action_type']\n",
    "    act.drop(drop_columns,axis = 1 ,inplace = True)\n",
    "    \n",
    "    # 获得count指标（按照day计算sum）\n",
    "    activity_count = act.groupby(['user_id','activity_day']).sum()\n",
    "    activity_count.reset_index(inplace = True)\n",
    "    \n",
    "    print(activity_count.shape)\n",
    "\n",
    "    # 用activity_count作为提取day和count的特征\n",
    "    activity_day_temp = activity_count.groupby('user_id')['activity_day'].agg(lambda x: list(x)).reset_index()\n",
    "    activity_day_temp.columns = ['user_id','activity_day']\n",
    "    \n",
    "    # day和count都增加了间隔list\n",
    "    # 增加一列间隔list\n",
    "    activity_day_temp['act_day_gap_list'] = -1\n",
    "    \n",
    "    list_gap = []\n",
    "    for item in activity_day_temp['activity_day']:\n",
    "        list_a = []\n",
    "        if len(item) != 1:\n",
    "            for i in range(1,len(item)):\n",
    "                list_a.append(item[i] - item[i-1])\n",
    "            list_gap.append(list_a)\n",
    "        else:\n",
    "            list_gap.append([-1])\n",
    "    activity_day_temp['act_day_gap_list'] = list_gap\n",
    "\n",
    "    activity_count_temp = activity_count.groupby('user_id')['activity_count'].agg(lambda x: list(x)).reset_index()\n",
    "    activity_count_temp.columns = ['user_id','activity_count']\n",
    "    \n",
    "    \n",
    "    # 增加一列间隔list\n",
    "    activity_count_temp['act_count_gap_list'] = -1\n",
    "    \n",
    "    list_gap = []\n",
    "    for item in activity_count_temp['activity_count']:\n",
    "        list_a = []\n",
    "        if len(item) != 1:\n",
    "            for i in range(1,len(item)):\n",
    "                list_a.append(item[i] - item[i-1])\n",
    "            list_gap.append(list_a)\n",
    "        else:\n",
    "            list_gap.append(np.nan) # 由于count的差值可以是负的，因此-1不能用了！\n",
    "    activity_count_temp['act_count_gap_list'] = list_gap\n",
    "    \n",
    "    print(activity_day_temp.shape,activity_count_temp.shape)\n",
    "    \n",
    "    # 合并一下两者\n",
    "    activity_day_and_count = pd.merge(activity_day_temp,activity_count_temp,how = 'outer')\n",
    "    \n",
    "    return activity_day_and_count"
   ]
  },
  {
   "cell_type": "code",
   "execution_count": null,
   "metadata": {
    "collapsed": true
   },
   "outputs": [],
   "source": [
    "提取day特征"
   ]
  },
  {
   "cell_type": "code",
   "execution_count": 42,
   "metadata": {
    "ExecuteTime": {
     "end_time": "2018-06-27T02:33:04.175706Z",
     "start_time": "2018-06-27T02:33:03.678913Z"
    },
    "collapsed": true
   },
   "outputs": [],
   "source": [
    "def day_feature_act(table,time_gap_right):\n",
    "    \n",
    "    # 天数的特征\n",
    "    list_max = [] # 最大的天数（最靠近预测日期的天数）\n",
    "    list_count = [] # 登录天数总计\n",
    "    list_average = [] # 平均登录天数\n",
    "    for item in table['activity_day']:\n",
    "        if -1.0 in item:\n",
    "            list_max.append(-1)\n",
    "            list_count.append(-1)\n",
    "            list_average.append(-1)\n",
    "        else:\n",
    "            list_max.append(time_gap_right - item[-1]) # 取差而不是直接取最近的天数\n",
    "            list_count.append(len(item))\n",
    "            list_average.append ( len(item) / (item[-1] - item[0] + 1) )\n",
    "            # print(item)    \n",
    "    \n",
    "    print('各种特征的shape')\n",
    "    print(len(list_max),len(list_count),len(list_average))\n",
    "    \n",
    "    table['act_day_near_pred'] = list_max\n",
    "    table['act_day_sum'] = list_count\n",
    "    table['act_day_sum_average'] = list_average\n",
    "    \n",
    "    # 间隔的特征\n",
    "    gap_max = [] # 最大间隔\n",
    "    gap_min = [] # 最小间隔\n",
    "    gap_average = [] # 平均间隔\n",
    "    gap_std = [] # 间隔方差\n",
    "    gap_skew = [] # 间隔的偏度：衡量分布是左偏还是右偏，小于0左偏，说明过了最高值，下降的比上升快（更有可能弃坑）\n",
    "    gap_kurtosis = [] # 间隔的峰度：大于0说明尖峰是陡升的，小于0则说明爬升较缓和\n",
    "    for item in table['act_day_gap_list']:\n",
    "        if -1 not in item:            \n",
    "            gap_max.append(np.max(item))\n",
    "            gap_min.append(np.min(item))\n",
    "            gap_average.append(np.mean(item))\n",
    "            gap_std.append(np.std(item))\n",
    "            gap_skew.append(stats.skew(item))\n",
    "            gap_kurtosis.append(stats.kurtosis(item))\n",
    "        else:\n",
    "            gap_max.append(-1)\n",
    "            gap_min.append(-1)\n",
    "            gap_average.append(-1)\n",
    "            gap_std.append(-1)\n",
    "            # 考虑到取值范围，调整\n",
    "            gap_skew.append(-99)\n",
    "            gap_kurtosis.append(-99)\n",
    "    \n",
    "    table['act_day_gap_max'] = gap_max\n",
    "    table['act_day_gap_ain'] = gap_min\n",
    "    table['act_day_gap_average'] = gap_average\n",
    "    table['act_day_gap_std'] = gap_std\n",
    "    table['act_day_gap_skew'] = gap_skew\n",
    "    table['act_day_gap_kurtosis'] = gap_kurtosis\n",
    "    \n",
    "    # 连续间隔特征\n",
    "    gap_max_continue = [] # 全区间的最大连续间隔：注意1代表连续2天都有记录（注意1和2是差1的！），0代表没有连续的\n",
    "    for item in table['act_day_gap_list']:\n",
    "        gap = -1 # =0代表没有1出现，即没有连续x天的记录。-1代表没有间隔\n",
    "        if -1 not in item:\n",
    "            gap = 0\n",
    "            # 只有有1才可能gap不等于0\n",
    "            if 1 in item:\n",
    "                gap = 1 # 1的个数，至少1个\n",
    "                left = 0\n",
    "                right = 0\n",
    "                switch = 0 # 用于控制间隔是否开始的开关\n",
    "                # [2 3 1 1 2 3 1 1 1]\n",
    "                for i in range(len(item)):           \n",
    "                    # 开始计算间隔长度\n",
    "                    if switch == 1 and item[i] == 1:\n",
    "                        right = i\n",
    "                    # 到1的新出发点\n",
    "                    elif switch == 0 and item[i] == 1:\n",
    "                        switch = 1\n",
    "                        left = i\n",
    "                        right = i\n",
    "                    # 进入新的间隔停止期，遭遇非1，计算间隔长度\n",
    "                    elif switch == 1 and item[i] != 1:\n",
    "                        switch = 0\n",
    "                        temp = right - left + 1\n",
    "                        # 只记录最大的gap\n",
    "                        if temp > gap:\n",
    "                            gap = temp\n",
    "                    # 进入非1的区间，不需要做任何事\n",
    "                    # switch == 0 and item[i] != 1\n",
    "                    else:\n",
    "                        continue\n",
    "                    \n",
    "                     # 必须考虑是不是最后一个值了，此时对于是否是1，有不同的处理\n",
    "                    if i == len(item) - 1:\n",
    "                        # 此时需要计算一遍gap\n",
    "                        if item[i] == 1:\n",
    "                            temp = right - left + 1\n",
    "                            # 只记录最大的gap\n",
    "                            if temp > gap:\n",
    "                                gap = temp\n",
    "                                \n",
    "        gap_max_continue.append(gap)       \n",
    "        \n",
    "    # 从后往前数的最长连续记录\n",
    "    gap_max_right_continue = []\n",
    "    for item in table['act_day_gap_list']:\n",
    "        gap = -1 # 没有间隔只能= -1\n",
    "        if -1 not in item:\n",
    "            gap = 0\n",
    "            # 最后一个值是1才往前走\n",
    "            if item[-1] == 1:\n",
    "                gap = 1 # 1的个数\n",
    "                # 从后往前的循环，从倒数第2个开始\n",
    "                for i in range(len(item)-2,-1,-1):\n",
    "                    if item[i] == 1:\n",
    "                        gap = gap + 1\n",
    "                    else:\n",
    "                        break\n",
    "        gap_max_right_continue.append(gap)\n",
    "    \n",
    "    # 比较两个gap是否数量相同，作为第3个特征，相同 = 0，不同 = 1（不区分左右，没有明显的意义）\n",
    "    gap_continue_flag = []\n",
    "    for i in range(len(gap_max_continue)):\n",
    "        if gap_max_continue[i] == -1 or gap_max_right_continue[i] == -1:\n",
    "            gap_continue_flag.append(-1) # 没有间隔\n",
    "        elif gap_max_continue[i] == gap_max_right_continue[i]:\n",
    "            gap_continue_flag.append(0)\n",
    "        else:\n",
    "            gap_continue_flag.append(1)\n",
    "    \n",
    "    table['act_day_gap_max_continue'] = gap_max_continue\n",
    "    table['act_day_gap_max_right_continue'] = gap_max_right_continue\n",
    "    table['act_day_gap_max_continue_flag'] = gap_continue_flag\n",
    "    \n",
    "    \n",
    "    # 从后往前数的，序列变得越来越稀疏的长度：即正向看的话，间隔值是否越来越大\n",
    "    gap_change_large_right_continue = []\n",
    "    for item in table['act_day_gap_list']:\n",
    "        gap = -1\n",
    "        if -1 not in item:\n",
    "            gap = 0\n",
    "            for i in range(len(item)-1,0,-1):\n",
    "                if item[i-1] < item[i]:\n",
    "                    gap = gap + 1\n",
    "                else:\n",
    "                    break\n",
    "            \n",
    "        gap_change_large_right_continue.append(gap)\n",
    "        \n",
    "    table['act_day_gap_change_large_right_continue'] = gap_change_large_right_continue\n",
    "       \n",
    "    return table\n"
   ]
  },
  {
   "cell_type": "code",
   "execution_count": null,
   "metadata": {
    "collapsed": true
   },
   "outputs": [],
   "source": [
    "step1 仍然是先转换基本数据集（在时间特征和数量特征部分使用）"
   ]
  },
  {
   "cell_type": "code",
   "execution_count": 43,
   "metadata": {
    "ExecuteTime": {
     "end_time": "2018-06-27T02:33:09.269201Z",
     "start_time": "2018-06-27T02:33:06.657572Z"
    }
   },
   "outputs": [
    {
     "name": "stdout",
     "output_type": "stream",
     "text": [
      "(68554, 3)\n",
      "(20535, 3) (20535, 3)\n"
     ]
    }
   ],
   "source": [
    "act_day_and_count = activity_day_count_pre(act)"
   ]
  },
  {
   "cell_type": "code",
   "execution_count": 44,
   "metadata": {
    "ExecuteTime": {
     "end_time": "2018-06-27T02:33:12.224490Z",
     "start_time": "2018-06-27T02:33:12.211983Z"
    }
   },
   "outputs": [
    {
     "data": {
      "text/html": [
       "<div>\n",
       "<style>\n",
       "    .dataframe thead tr:only-child th {\n",
       "        text-align: right;\n",
       "    }\n",
       "\n",
       "    .dataframe thead th {\n",
       "        text-align: left;\n",
       "    }\n",
       "\n",
       "    .dataframe tbody tr th {\n",
       "        vertical-align: top;\n",
       "    }\n",
       "</style>\n",
       "<table border=\"1\" class=\"dataframe\">\n",
       "  <thead>\n",
       "    <tr style=\"text-align: right;\">\n",
       "      <th></th>\n",
       "      <th>user_id</th>\n",
       "      <th>activity_day</th>\n",
       "      <th>act_day_gap_list</th>\n",
       "      <th>activity_count</th>\n",
       "      <th>act_count_gap_list</th>\n",
       "    </tr>\n",
       "  </thead>\n",
       "  <tbody>\n",
       "    <tr>\n",
       "      <th>0</th>\n",
       "      <td>8</td>\n",
       "      <td>[9, 10, 11, 13]</td>\n",
       "      <td>[1, 1, 2]</td>\n",
       "      <td>[21, 39, 5, 31]</td>\n",
       "      <td>[18, -34, 26]</td>\n",
       "    </tr>\n",
       "    <tr>\n",
       "      <th>1</th>\n",
       "      <td>73</td>\n",
       "      <td>[4, 5]</td>\n",
       "      <td>[1]</td>\n",
       "      <td>[5, 29]</td>\n",
       "      <td>[24]</td>\n",
       "    </tr>\n",
       "    <tr>\n",
       "      <th>2</th>\n",
       "      <td>129</td>\n",
       "      <td>[12]</td>\n",
       "      <td>[-1]</td>\n",
       "      <td>[1]</td>\n",
       "      <td>NaN</td>\n",
       "    </tr>\n",
       "    <tr>\n",
       "      <th>3</th>\n",
       "      <td>228</td>\n",
       "      <td>[13]</td>\n",
       "      <td>[-1]</td>\n",
       "      <td>[22]</td>\n",
       "      <td>NaN</td>\n",
       "    </tr>\n",
       "    <tr>\n",
       "      <th>4</th>\n",
       "      <td>351</td>\n",
       "      <td>[3]</td>\n",
       "      <td>[-1]</td>\n",
       "      <td>[176]</td>\n",
       "      <td>NaN</td>\n",
       "    </tr>\n",
       "  </tbody>\n",
       "</table>\n",
       "</div>"
      ],
      "text/plain": [
       "   user_id     activity_day act_day_gap_list   activity_count  \\\n",
       "0        8  [9, 10, 11, 13]        [1, 1, 2]  [21, 39, 5, 31]   \n",
       "1       73           [4, 5]              [1]          [5, 29]   \n",
       "2      129             [12]             [-1]              [1]   \n",
       "3      228             [13]             [-1]             [22]   \n",
       "4      351              [3]             [-1]            [176]   \n",
       "\n",
       "  act_count_gap_list  \n",
       "0      [18, -34, 26]  \n",
       "1               [24]  \n",
       "2                NaN  \n",
       "3                NaN  \n",
       "4                NaN  "
      ]
     },
     "execution_count": 44,
     "metadata": {},
     "output_type": "execute_result"
    }
   ],
   "source": [
    "act_day_and_count.head()"
   ]
  },
  {
   "cell_type": "code",
   "execution_count": null,
   "metadata": {
    "collapsed": true
   },
   "outputs": [],
   "source": [
    "step2 获得day特征"
   ]
  },
  {
   "cell_type": "code",
   "execution_count": 45,
   "metadata": {
    "ExecuteTime": {
     "end_time": "2018-06-27T02:33:22.890705Z",
     "start_time": "2018-06-27T02:33:17.538839Z"
    }
   },
   "outputs": [
    {
     "name": "stdout",
     "output_type": "stream",
     "text": [
      "各种特征的shape\n",
      "20535 20535 20535\n"
     ]
    }
   ],
   "source": [
    "time_gap_right = 16 # 区间的最右端\n",
    "act_day_and_count = day_feature_act(act_day_and_count,time_gap_right)"
   ]
  },
  {
   "cell_type": "code",
   "execution_count": 46,
   "metadata": {
    "ExecuteTime": {
     "end_time": "2018-06-27T02:33:25.547763Z",
     "start_time": "2018-06-27T02:33:25.524701Z"
    }
   },
   "outputs": [
    {
     "data": {
      "text/html": [
       "<div>\n",
       "<style>\n",
       "    .dataframe thead tr:only-child th {\n",
       "        text-align: right;\n",
       "    }\n",
       "\n",
       "    .dataframe thead th {\n",
       "        text-align: left;\n",
       "    }\n",
       "\n",
       "    .dataframe tbody tr th {\n",
       "        vertical-align: top;\n",
       "    }\n",
       "</style>\n",
       "<table border=\"1\" class=\"dataframe\">\n",
       "  <thead>\n",
       "    <tr style=\"text-align: right;\">\n",
       "      <th></th>\n",
       "      <th>user_id</th>\n",
       "      <th>activity_day</th>\n",
       "      <th>act_day_gap_list</th>\n",
       "      <th>activity_count</th>\n",
       "      <th>act_count_gap_list</th>\n",
       "      <th>act_day_near_pred</th>\n",
       "      <th>act_day_sum</th>\n",
       "      <th>act_day_sum_average</th>\n",
       "      <th>act_day_gap_max</th>\n",
       "      <th>act_day_gap_ain</th>\n",
       "      <th>act_day_gap_average</th>\n",
       "      <th>act_day_gap_std</th>\n",
       "      <th>act_day_gap_skew</th>\n",
       "      <th>act_day_gap_kurtosis</th>\n",
       "      <th>act_day_gap_max_continue</th>\n",
       "      <th>act_day_gap_max_right_continue</th>\n",
       "      <th>act_day_gap_max_continue_flag</th>\n",
       "      <th>act_day_gap_change_large_right_continue</th>\n",
       "    </tr>\n",
       "  </thead>\n",
       "  <tbody>\n",
       "    <tr>\n",
       "      <th>0</th>\n",
       "      <td>8</td>\n",
       "      <td>[9, 10, 11, 13]</td>\n",
       "      <td>[1, 1, 2]</td>\n",
       "      <td>[21, 39, 5, 31]</td>\n",
       "      <td>[18, -34, 26]</td>\n",
       "      <td>3</td>\n",
       "      <td>4</td>\n",
       "      <td>0.8</td>\n",
       "      <td>2</td>\n",
       "      <td>1</td>\n",
       "      <td>1.333333</td>\n",
       "      <td>0.471405</td>\n",
       "      <td>0.707107</td>\n",
       "      <td>-1.5</td>\n",
       "      <td>2</td>\n",
       "      <td>0</td>\n",
       "      <td>1</td>\n",
       "      <td>1</td>\n",
       "    </tr>\n",
       "    <tr>\n",
       "      <th>1</th>\n",
       "      <td>73</td>\n",
       "      <td>[4, 5]</td>\n",
       "      <td>[1]</td>\n",
       "      <td>[5, 29]</td>\n",
       "      <td>[24]</td>\n",
       "      <td>11</td>\n",
       "      <td>2</td>\n",
       "      <td>1.0</td>\n",
       "      <td>1</td>\n",
       "      <td>1</td>\n",
       "      <td>1.000000</td>\n",
       "      <td>0.000000</td>\n",
       "      <td>0.000000</td>\n",
       "      <td>-3.0</td>\n",
       "      <td>1</td>\n",
       "      <td>1</td>\n",
       "      <td>0</td>\n",
       "      <td>0</td>\n",
       "    </tr>\n",
       "    <tr>\n",
       "      <th>2</th>\n",
       "      <td>129</td>\n",
       "      <td>[12]</td>\n",
       "      <td>[-1]</td>\n",
       "      <td>[1]</td>\n",
       "      <td>NaN</td>\n",
       "      <td>4</td>\n",
       "      <td>1</td>\n",
       "      <td>1.0</td>\n",
       "      <td>-1</td>\n",
       "      <td>-1</td>\n",
       "      <td>-1.000000</td>\n",
       "      <td>-1.000000</td>\n",
       "      <td>-99.000000</td>\n",
       "      <td>-99.0</td>\n",
       "      <td>-1</td>\n",
       "      <td>-1</td>\n",
       "      <td>-1</td>\n",
       "      <td>-1</td>\n",
       "    </tr>\n",
       "    <tr>\n",
       "      <th>3</th>\n",
       "      <td>228</td>\n",
       "      <td>[13]</td>\n",
       "      <td>[-1]</td>\n",
       "      <td>[22]</td>\n",
       "      <td>NaN</td>\n",
       "      <td>3</td>\n",
       "      <td>1</td>\n",
       "      <td>1.0</td>\n",
       "      <td>-1</td>\n",
       "      <td>-1</td>\n",
       "      <td>-1.000000</td>\n",
       "      <td>-1.000000</td>\n",
       "      <td>-99.000000</td>\n",
       "      <td>-99.0</td>\n",
       "      <td>-1</td>\n",
       "      <td>-1</td>\n",
       "      <td>-1</td>\n",
       "      <td>-1</td>\n",
       "    </tr>\n",
       "    <tr>\n",
       "      <th>4</th>\n",
       "      <td>351</td>\n",
       "      <td>[3]</td>\n",
       "      <td>[-1]</td>\n",
       "      <td>[176]</td>\n",
       "      <td>NaN</td>\n",
       "      <td>13</td>\n",
       "      <td>1</td>\n",
       "      <td>1.0</td>\n",
       "      <td>-1</td>\n",
       "      <td>-1</td>\n",
       "      <td>-1.000000</td>\n",
       "      <td>-1.000000</td>\n",
       "      <td>-99.000000</td>\n",
       "      <td>-99.0</td>\n",
       "      <td>-1</td>\n",
       "      <td>-1</td>\n",
       "      <td>-1</td>\n",
       "      <td>-1</td>\n",
       "    </tr>\n",
       "  </tbody>\n",
       "</table>\n",
       "</div>"
      ],
      "text/plain": [
       "   user_id     activity_day act_day_gap_list   activity_count  \\\n",
       "0        8  [9, 10, 11, 13]        [1, 1, 2]  [21, 39, 5, 31]   \n",
       "1       73           [4, 5]              [1]          [5, 29]   \n",
       "2      129             [12]             [-1]              [1]   \n",
       "3      228             [13]             [-1]             [22]   \n",
       "4      351              [3]             [-1]            [176]   \n",
       "\n",
       "  act_count_gap_list  act_day_near_pred  act_day_sum  act_day_sum_average  \\\n",
       "0      [18, -34, 26]                  3            4                  0.8   \n",
       "1               [24]                 11            2                  1.0   \n",
       "2                NaN                  4            1                  1.0   \n",
       "3                NaN                  3            1                  1.0   \n",
       "4                NaN                 13            1                  1.0   \n",
       "\n",
       "   act_day_gap_max  act_day_gap_ain  act_day_gap_average  act_day_gap_std  \\\n",
       "0                2                1             1.333333         0.471405   \n",
       "1                1                1             1.000000         0.000000   \n",
       "2               -1               -1            -1.000000        -1.000000   \n",
       "3               -1               -1            -1.000000        -1.000000   \n",
       "4               -1               -1            -1.000000        -1.000000   \n",
       "\n",
       "   act_day_gap_skew  act_day_gap_kurtosis  act_day_gap_max_continue  \\\n",
       "0          0.707107                  -1.5                         2   \n",
       "1          0.000000                  -3.0                         1   \n",
       "2        -99.000000                 -99.0                        -1   \n",
       "3        -99.000000                 -99.0                        -1   \n",
       "4        -99.000000                 -99.0                        -1   \n",
       "\n",
       "   act_day_gap_max_right_continue  act_day_gap_max_continue_flag  \\\n",
       "0                               0                              1   \n",
       "1                               1                              0   \n",
       "2                              -1                             -1   \n",
       "3                              -1                             -1   \n",
       "4                              -1                             -1   \n",
       "\n",
       "   act_day_gap_change_large_right_continue  \n",
       "0                                        1  \n",
       "1                                        0  \n",
       "2                                       -1  \n",
       "3                                       -1  \n",
       "4                                       -1  "
      ]
     },
     "execution_count": 46,
     "metadata": {},
     "output_type": "execute_result"
    }
   ],
   "source": [
    "act_day_and_count.head()"
   ]
  },
  {
   "cell_type": "markdown",
   "metadata": {},
   "source": [
    "##### 数量特征 "
   ]
  },
  {
   "cell_type": "code",
   "execution_count": null,
   "metadata": {
    "collapsed": true
   },
   "outputs": [],
   "source": [
    "提取count的函数\n",
    "多了对count的diff后的特征统计"
   ]
  },
  {
   "cell_type": "code",
   "execution_count": 47,
   "metadata": {
    "ExecuteTime": {
     "end_time": "2018-06-27T02:33:37.876441Z",
     "start_time": "2018-06-27T02:33:37.269617Z"
    },
    "collapsed": true
   },
   "outputs": [],
   "source": [
    "def count_feature_act(act_day_and_count,time_gap_right):\n",
    "    \n",
    "    # 先是count list\n",
    "    count_pred = [] # 最近天数的count数量\n",
    "    count_sum = [] # 总量\n",
    "    count_average = [] # 均值（和创建视频天数挂钩，不是单纯的平均值）\n",
    "    count_max = [] # 最大值\n",
    "    count_day_max = [] # 最大值距离预测day的天数\n",
    "    count_min = [] # 最小值\n",
    "    count_day_min = [] # 最小值距离预测day的天数\n",
    "    count_std = [] # 方差\n",
    "    count_skew = [] # 偏度\n",
    "    count_kurtosis = [] # 峰度    \n",
    "\n",
    "    for i in range(act_day_and_count.shape[0]):\n",
    "    # for i in range(10):\n",
    "        item = act_day_and_count.iloc[i,3] \n",
    "        item_day = act_day_and_count.iloc[i,1] \n",
    "        \n",
    "        count_pred.append(item[-1])\n",
    "        count_sum.append(np.sum(item)) \n",
    "        count_average.append(np.sum(item) / (item_day[-1] - item_day[0] + 1) )\n",
    "        count_max.append(np.max(item)) \n",
    "        max_index = item.index(np.max(item))\n",
    "        count_day_max.append(time_gap_right - item_day[max_index]) \n",
    "        count_min.append(np.min(item)) \n",
    "        min_index = item.index(np.min(item))\n",
    "        count_day_min.append(time_gap_right - item_day[min_index])         \n",
    "        count_std.append(np.std(item)) \n",
    "        count_skew.append(stats.skew(item)) \n",
    "        count_kurtosis.append(stats.kurtosis(item))   \n",
    "            \n",
    "    act_day_and_count['act_count_pred'] = count_pred\n",
    "    act_day_and_count['act_count_sum'] = count_sum\n",
    "    act_day_and_count['act_count_average'] = count_average \n",
    "    act_day_and_count['act_count_max'] = count_max \n",
    "    act_day_and_count['act_count_day_max'] = count_day_max\n",
    "    act_day_and_count['act_count_min'] = count_min\n",
    "    act_day_and_count['act_count_day_min'] = count_day_min \n",
    "    act_day_and_count['act_count_std'] = count_std\n",
    "    act_day_and_count['act_count_skew'] = count_skew \n",
    "    act_day_and_count['act_count_kurtosis'] = count_kurtosis\n",
    "    \n",
    "    \n",
    "    # 从后往前数的，序列值越来越小的长度。衡量稀疏度\n",
    "    gap_change_small_right_continue = []\n",
    "    for item in act_day_and_count['activity_count']:\n",
    "        gap = -1\n",
    "        if -1 not in item:\n",
    "            gap = 0\n",
    "            for i in range(len(item)-1,0,-1):\n",
    "                if item[i-1] > item[i]:\n",
    "                    gap = gap + 1\n",
    "                else:\n",
    "                    break\n",
    "            \n",
    "        gap_change_small_right_continue.append(gap)\n",
    "        \n",
    "    act_day_and_count['act_count_gap_change_small_right_continue'] = gap_change_small_right_continue \n",
    "    \n",
    "    # 然后是count diff序列的统计特征\n",
    "    \n",
    "    count_diff_sum = [] # 总量\n",
    "    count_diff_average = [] # 均值（和创建视频天数挂钩，不是单纯的平均值）\n",
    "    count_diff_minus_max = [] # 负值中的最大值（衡量的是降低的程度）\n",
    "    count_diff_day_minus_max = [] # 最大值距离预测day的天数\n",
    "    count_diff_plus_max = [] # 正值中最大值（衡量增加程度）\n",
    "    count_diff_day_plus_max = []\n",
    "    count_diff_std = [] # 方差\n",
    "    count_diff_skew = [] # 偏度\n",
    "    count_diff_kurtosis = [] # 峰度    \n",
    "\n",
    "    for i in range(act_day_and_count.shape[0]):\n",
    "    # for i in range(10):\n",
    "        item = act_day_and_count.iloc[i,4] # 这次取4不是3 \n",
    "        item_day = act_day_and_count.iloc[i,1] \n",
    "        item_count = act_day_and_count.iloc[i,3] # 用于判断是否没有间隔\n",
    "        \n",
    "        # 没有间隔的情况\n",
    "        if len(item_count) == 1:\n",
    "            \n",
    "            count_diff_sum.append(np.nan) \n",
    "            count_diff_average.append(np.nan)\n",
    "            count_diff_minus_max.append(np.nan) \n",
    "            count_diff_day_minus_max.append(np.nan)\n",
    "\n",
    "            count_diff_plus_max.append(np.nan) \n",
    "            count_diff_day_plus_max.append(np.nan)\n",
    "\n",
    "            count_diff_std.append(np.nan)\n",
    "            count_diff_skew.append(np.nan) \n",
    "            count_diff_kurtosis.append(np.nan)   \n",
    "            \n",
    "        else:\n",
    "            \n",
    "            count_diff_sum.append(np.sum(item)) \n",
    "            count_diff_average.append(np.sum(item) /  len(item) ) # 对于gap用len（item）本身长度更合适  \n",
    "\n",
    "            temp = []\n",
    "            for i in range(len(item)):\n",
    "                if item[i] > 0:\n",
    "                    temp.append(0)\n",
    "                else:\n",
    "                    temp.append(abs(item[i]))\n",
    "\n",
    "            count_diff_minus_max.append(np.max(temp)) \n",
    "            max_index = temp.index(np.max(temp)) + 1 # 取间隔的后者\n",
    "            count_diff_day_minus_max.append(time_gap_right - item_day[max_index]) \n",
    "\n",
    "            count_diff_plus_max.append(np.max(item)) \n",
    "            max_index = item.index(np.max(item)) + 1\n",
    "            count_diff_day_plus_max.append(time_gap_right - item_day[max_index]) \n",
    "\n",
    "            count_diff_std.append(np.std(item)) \n",
    "            count_diff_skew.append(stats.skew(item)) \n",
    "            count_diff_kurtosis.append(stats.kurtosis(item))   \n",
    "            \n",
    "    act_day_and_count['act_count_diff_sum'] = count_diff_sum\n",
    "    act_day_and_count['act_count_diff_average'] = count_diff_average \n",
    "    act_day_and_count['act_count_diff_minus_max'] = count_diff_minus_max \n",
    "    act_day_and_count['act_count_diff_day_minus_max'] = count_diff_day_minus_max\n",
    "    act_day_and_count['act_count_diff_plus_max'] = count_diff_plus_max\n",
    "    act_day_and_count['act_count_diff_day_plus_max'] = count_diff_day_plus_max\n",
    "    act_day_and_count['act_count_diff_std'] = count_diff_std\n",
    "    act_day_and_count['act_count_diff_skew'] = count_diff_skew \n",
    "    act_day_and_count['act_count_diff_kurtosis'] = count_diff_kurtosis    \n",
    "    \n",
    "    # diff的连续特征：连减持续时间长度，降低量连续增加持续长度\n",
    "    diff_minus_right_continue = []\n",
    "    diff_change_small_right_continue = []\n",
    "    for i in range(act_day_and_count.shape[0]):\n",
    "    # for i in range(10):\n",
    "        item = act_day_and_count.iloc[i,4] # 这次取4不是3 \n",
    "        item_count = act_day_and_count.iloc[i,3] # 用于判断是否没有间隔\n",
    "\n",
    "        gap_minus = -1\n",
    "        gap_small = -1\n",
    "        # 有间隔才可以\n",
    "        if len(item_count) > 1:\n",
    "            gap_minus = 0\n",
    "            gap_small = 0\n",
    "            \n",
    "            # minus\n",
    "            for j in range(len(item)-1,-1,-1):\n",
    "                if item[j] < 0:\n",
    "                    gap_minus = gap_minus + 1\n",
    "                else:\n",
    "                    break\n",
    "            \n",
    "            for j in range(len(item)-1,0,-1):\n",
    "                if item[j-1] > item[j]:\n",
    "                    gap_small = gap_small + 1\n",
    "                else:\n",
    "                    break\n",
    "            \n",
    "        diff_minus_right_continue.append(gap_minus)\n",
    "        diff_change_small_right_continue.append(gap_small)\n",
    "        \n",
    "    act_day_and_count['act_count_diff_minus_right_continue'] = diff_minus_right_continue\n",
    "    act_day_and_count['act_count_gap_diff_change_small_right_continue'] = diff_change_small_right_continue\n",
    "    \n",
    "    return act_day_and_count"
   ]
  },
  {
   "cell_type": "code",
   "execution_count": null,
   "metadata": {
    "collapsed": true
   },
   "outputs": [],
   "source": [
    "step1 获取count特征"
   ]
  },
  {
   "cell_type": "code",
   "execution_count": 48,
   "metadata": {
    "ExecuteTime": {
     "end_time": "2018-06-27T02:34:08.906850Z",
     "start_time": "2018-06-27T02:33:53.753720Z"
    },
    "collapsed": true
   },
   "outputs": [],
   "source": [
    "time_gap_right = 16 # 区间的最右端\n",
    "act_day_and_count = count_feature_act(act_day_and_count,time_gap_right)"
   ]
  },
  {
   "cell_type": "code",
   "execution_count": 49,
   "metadata": {
    "ExecuteTime": {
     "end_time": "2018-06-27T02:34:13.012534Z",
     "start_time": "2018-06-27T02:34:12.969419Z"
    }
   },
   "outputs": [
    {
     "data": {
      "text/html": [
       "<div>\n",
       "<style>\n",
       "    .dataframe thead tr:only-child th {\n",
       "        text-align: right;\n",
       "    }\n",
       "\n",
       "    .dataframe thead th {\n",
       "        text-align: left;\n",
       "    }\n",
       "\n",
       "    .dataframe tbody tr th {\n",
       "        vertical-align: top;\n",
       "    }\n",
       "</style>\n",
       "<table border=\"1\" class=\"dataframe\">\n",
       "  <thead>\n",
       "    <tr style=\"text-align: right;\">\n",
       "      <th></th>\n",
       "      <th>user_id</th>\n",
       "      <th>activity_day</th>\n",
       "      <th>act_day_gap_list</th>\n",
       "      <th>activity_count</th>\n",
       "      <th>act_count_gap_list</th>\n",
       "      <th>act_day_near_pred</th>\n",
       "      <th>act_day_sum</th>\n",
       "      <th>act_day_sum_average</th>\n",
       "      <th>act_day_gap_max</th>\n",
       "      <th>act_day_gap_ain</th>\n",
       "      <th>...</th>\n",
       "      <th>act_count_diff_average</th>\n",
       "      <th>act_count_diff_minus_max</th>\n",
       "      <th>act_count_diff_day_minus_max</th>\n",
       "      <th>act_count_diff_plus_max</th>\n",
       "      <th>act_count_diff_day_plus_max</th>\n",
       "      <th>act_count_diff_std</th>\n",
       "      <th>act_count_diff_skew</th>\n",
       "      <th>act_count_diff_kurtosis</th>\n",
       "      <th>act_count_diff_minus_right_continue</th>\n",
       "      <th>act_count_gap_diff_change_small_right_continue</th>\n",
       "    </tr>\n",
       "  </thead>\n",
       "  <tbody>\n",
       "    <tr>\n",
       "      <th>0</th>\n",
       "      <td>8</td>\n",
       "      <td>[9, 10, 11, 13]</td>\n",
       "      <td>[1, 1, 2]</td>\n",
       "      <td>[21, 39, 5, 31]</td>\n",
       "      <td>[18, -34, 26]</td>\n",
       "      <td>3</td>\n",
       "      <td>4</td>\n",
       "      <td>0.8</td>\n",
       "      <td>2</td>\n",
       "      <td>1</td>\n",
       "      <td>...</td>\n",
       "      <td>3.333333</td>\n",
       "      <td>34.0</td>\n",
       "      <td>5.0</td>\n",
       "      <td>26.0</td>\n",
       "      <td>3.0</td>\n",
       "      <td>26.599916</td>\n",
       "      <td>-0.65944</td>\n",
       "      <td>-1.5</td>\n",
       "      <td>0</td>\n",
       "      <td>0</td>\n",
       "    </tr>\n",
       "    <tr>\n",
       "      <th>1</th>\n",
       "      <td>73</td>\n",
       "      <td>[4, 5]</td>\n",
       "      <td>[1]</td>\n",
       "      <td>[5, 29]</td>\n",
       "      <td>[24]</td>\n",
       "      <td>11</td>\n",
       "      <td>2</td>\n",
       "      <td>1.0</td>\n",
       "      <td>1</td>\n",
       "      <td>1</td>\n",
       "      <td>...</td>\n",
       "      <td>24.000000</td>\n",
       "      <td>0.0</td>\n",
       "      <td>11.0</td>\n",
       "      <td>24.0</td>\n",
       "      <td>11.0</td>\n",
       "      <td>0.000000</td>\n",
       "      <td>0.00000</td>\n",
       "      <td>-3.0</td>\n",
       "      <td>0</td>\n",
       "      <td>0</td>\n",
       "    </tr>\n",
       "    <tr>\n",
       "      <th>2</th>\n",
       "      <td>129</td>\n",
       "      <td>[12]</td>\n",
       "      <td>[-1]</td>\n",
       "      <td>[1]</td>\n",
       "      <td>NaN</td>\n",
       "      <td>4</td>\n",
       "      <td>1</td>\n",
       "      <td>1.0</td>\n",
       "      <td>-1</td>\n",
       "      <td>-1</td>\n",
       "      <td>...</td>\n",
       "      <td>NaN</td>\n",
       "      <td>NaN</td>\n",
       "      <td>NaN</td>\n",
       "      <td>NaN</td>\n",
       "      <td>NaN</td>\n",
       "      <td>NaN</td>\n",
       "      <td>NaN</td>\n",
       "      <td>NaN</td>\n",
       "      <td>-1</td>\n",
       "      <td>-1</td>\n",
       "    </tr>\n",
       "    <tr>\n",
       "      <th>3</th>\n",
       "      <td>228</td>\n",
       "      <td>[13]</td>\n",
       "      <td>[-1]</td>\n",
       "      <td>[22]</td>\n",
       "      <td>NaN</td>\n",
       "      <td>3</td>\n",
       "      <td>1</td>\n",
       "      <td>1.0</td>\n",
       "      <td>-1</td>\n",
       "      <td>-1</td>\n",
       "      <td>...</td>\n",
       "      <td>NaN</td>\n",
       "      <td>NaN</td>\n",
       "      <td>NaN</td>\n",
       "      <td>NaN</td>\n",
       "      <td>NaN</td>\n",
       "      <td>NaN</td>\n",
       "      <td>NaN</td>\n",
       "      <td>NaN</td>\n",
       "      <td>-1</td>\n",
       "      <td>-1</td>\n",
       "    </tr>\n",
       "    <tr>\n",
       "      <th>4</th>\n",
       "      <td>351</td>\n",
       "      <td>[3]</td>\n",
       "      <td>[-1]</td>\n",
       "      <td>[176]</td>\n",
       "      <td>NaN</td>\n",
       "      <td>13</td>\n",
       "      <td>1</td>\n",
       "      <td>1.0</td>\n",
       "      <td>-1</td>\n",
       "      <td>-1</td>\n",
       "      <td>...</td>\n",
       "      <td>NaN</td>\n",
       "      <td>NaN</td>\n",
       "      <td>NaN</td>\n",
       "      <td>NaN</td>\n",
       "      <td>NaN</td>\n",
       "      <td>NaN</td>\n",
       "      <td>NaN</td>\n",
       "      <td>NaN</td>\n",
       "      <td>-1</td>\n",
       "      <td>-1</td>\n",
       "    </tr>\n",
       "  </tbody>\n",
       "</table>\n",
       "<p>5 rows × 40 columns</p>\n",
       "</div>"
      ],
      "text/plain": [
       "   user_id     activity_day act_day_gap_list   activity_count  \\\n",
       "0        8  [9, 10, 11, 13]        [1, 1, 2]  [21, 39, 5, 31]   \n",
       "1       73           [4, 5]              [1]          [5, 29]   \n",
       "2      129             [12]             [-1]              [1]   \n",
       "3      228             [13]             [-1]             [22]   \n",
       "4      351              [3]             [-1]            [176]   \n",
       "\n",
       "  act_count_gap_list  act_day_near_pred  act_day_sum  act_day_sum_average  \\\n",
       "0      [18, -34, 26]                  3            4                  0.8   \n",
       "1               [24]                 11            2                  1.0   \n",
       "2                NaN                  4            1                  1.0   \n",
       "3                NaN                  3            1                  1.0   \n",
       "4                NaN                 13            1                  1.0   \n",
       "\n",
       "   act_day_gap_max  act_day_gap_ain  \\\n",
       "0                2                1   \n",
       "1                1                1   \n",
       "2               -1               -1   \n",
       "3               -1               -1   \n",
       "4               -1               -1   \n",
       "\n",
       "                        ...                        act_count_diff_average  \\\n",
       "0                       ...                                      3.333333   \n",
       "1                       ...                                     24.000000   \n",
       "2                       ...                                           NaN   \n",
       "3                       ...                                           NaN   \n",
       "4                       ...                                           NaN   \n",
       "\n",
       "   act_count_diff_minus_max  act_count_diff_day_minus_max  \\\n",
       "0                      34.0                           5.0   \n",
       "1                       0.0                          11.0   \n",
       "2                       NaN                           NaN   \n",
       "3                       NaN                           NaN   \n",
       "4                       NaN                           NaN   \n",
       "\n",
       "   act_count_diff_plus_max  act_count_diff_day_plus_max  act_count_diff_std  \\\n",
       "0                     26.0                          3.0           26.599916   \n",
       "1                     24.0                         11.0            0.000000   \n",
       "2                      NaN                          NaN                 NaN   \n",
       "3                      NaN                          NaN                 NaN   \n",
       "4                      NaN                          NaN                 NaN   \n",
       "\n",
       "   act_count_diff_skew  act_count_diff_kurtosis  \\\n",
       "0             -0.65944                     -1.5   \n",
       "1              0.00000                     -3.0   \n",
       "2                  NaN                      NaN   \n",
       "3                  NaN                      NaN   \n",
       "4                  NaN                      NaN   \n",
       "\n",
       "   act_count_diff_minus_right_continue  \\\n",
       "0                                    0   \n",
       "1                                    0   \n",
       "2                                   -1   \n",
       "3                                   -1   \n",
       "4                                   -1   \n",
       "\n",
       "   act_count_gap_diff_change_small_right_continue  \n",
       "0                                               0  \n",
       "1                                               0  \n",
       "2                                              -1  \n",
       "3                                              -1  \n",
       "4                                              -1  \n",
       "\n",
       "[5 rows x 40 columns]"
      ]
     },
     "execution_count": 49,
     "metadata": {},
     "output_type": "execute_result"
    }
   ],
   "source": [
    "act_day_and_count.head()"
   ]
  },
  {
   "cell_type": "markdown",
   "metadata": {},
   "source": [
    "##### page和type"
   ]
  },
  {
   "cell_type": "code",
   "execution_count": null,
   "metadata": {
    "collapsed": true
   },
   "outputs": [],
   "source": [
    "上边动了原始的table，因此要重读"
   ]
  },
  {
   "cell_type": "code",
   "execution_count": 50,
   "metadata": {
    "ExecuteTime": {
     "end_time": "2018-06-27T02:34:27.976170Z",
     "start_time": "2018-06-27T02:34:25.288893Z"
    },
    "collapsed": true
   },
   "outputs": [],
   "source": [
    "act = pd.read_csv('dataset_B_for_model_method/split_origin_dataset/act_1_16.csv')"
   ]
  },
  {
   "cell_type": "code",
   "execution_count": 51,
   "metadata": {
    "ExecuteTime": {
     "end_time": "2018-06-27T02:34:51.517238Z",
     "start_time": "2018-06-27T02:34:51.505707Z"
    }
   },
   "outputs": [
    {
     "data": {
      "text/html": [
       "<div>\n",
       "<style>\n",
       "    .dataframe thead tr:only-child th {\n",
       "        text-align: right;\n",
       "    }\n",
       "\n",
       "    .dataframe thead th {\n",
       "        text-align: left;\n",
       "    }\n",
       "\n",
       "    .dataframe tbody tr th {\n",
       "        vertical-align: top;\n",
       "    }\n",
       "</style>\n",
       "<table border=\"1\" class=\"dataframe\">\n",
       "  <thead>\n",
       "    <tr style=\"text-align: right;\">\n",
       "      <th></th>\n",
       "      <th>user_id</th>\n",
       "      <th>activity_day</th>\n",
       "      <th>activity_page</th>\n",
       "      <th>video_id</th>\n",
       "      <th>author_id</th>\n",
       "      <th>action_type</th>\n",
       "      <th>activity_count</th>\n",
       "    </tr>\n",
       "  </thead>\n",
       "  <tbody>\n",
       "    <tr>\n",
       "      <th>0</th>\n",
       "      <td>8</td>\n",
       "      <td>9</td>\n",
       "      <td>3</td>\n",
       "      <td>1955966</td>\n",
       "      <td>309219</td>\n",
       "      <td>0</td>\n",
       "      <td>2</td>\n",
       "    </tr>\n",
       "    <tr>\n",
       "      <th>1</th>\n",
       "      <td>8</td>\n",
       "      <td>9</td>\n",
       "      <td>0</td>\n",
       "      <td>1340816</td>\n",
       "      <td>12378</td>\n",
       "      <td>0</td>\n",
       "      <td>1</td>\n",
       "    </tr>\n",
       "    <tr>\n",
       "      <th>2</th>\n",
       "      <td>8</td>\n",
       "      <td>9</td>\n",
       "      <td>0</td>\n",
       "      <td>3488372</td>\n",
       "      <td>107008</td>\n",
       "      <td>0</td>\n",
       "      <td>1</td>\n",
       "    </tr>\n",
       "    <tr>\n",
       "      <th>3</th>\n",
       "      <td>8</td>\n",
       "      <td>9</td>\n",
       "      <td>0</td>\n",
       "      <td>1705402</td>\n",
       "      <td>37639</td>\n",
       "      <td>0</td>\n",
       "      <td>2</td>\n",
       "    </tr>\n",
       "    <tr>\n",
       "      <th>4</th>\n",
       "      <td>8</td>\n",
       "      <td>9</td>\n",
       "      <td>0</td>\n",
       "      <td>3710937</td>\n",
       "      <td>1312718</td>\n",
       "      <td>0</td>\n",
       "      <td>1</td>\n",
       "    </tr>\n",
       "  </tbody>\n",
       "</table>\n",
       "</div>"
      ],
      "text/plain": [
       "   user_id  activity_day  activity_page  video_id  author_id  action_type  \\\n",
       "0        8             9              3   1955966     309219            0   \n",
       "1        8             9              0   1340816      12378            0   \n",
       "2        8             9              0   3488372     107008            0   \n",
       "3        8             9              0   1705402      37639            0   \n",
       "4        8             9              0   3710937    1312718            0   \n",
       "\n",
       "   activity_count  \n",
       "0               2  \n",
       "1               1  \n",
       "2               1  \n",
       "3               2  \n",
       "4               1  "
      ]
     },
     "execution_count": 51,
     "metadata": {},
     "output_type": "execute_result"
    }
   ],
   "source": [
    "act.head()"
   ]
  },
  {
   "cell_type": "code",
   "execution_count": null,
   "metadata": {
    "collapsed": true
   },
   "outputs": [],
   "source": [
    "activity_page和activity_type\n",
    "由于每种行为和页面也有区分度，那么将这些行为分成各个独立的特征比较好。\n",
    "page共5种，type共6种，即11种基础特征。\n",
    "每种基础特征下的特征有：\n",
    "活跃总量的占比（关注页占所有活跃总量的比例）：——计算的时候必须联合activity_count，因为如果=2的话，这个页面要算2次的。"
   ]
  },
  {
   "cell_type": "code",
   "execution_count": 52,
   "metadata": {
    "ExecuteTime": {
     "end_time": "2018-06-27T02:34:54.673839Z",
     "start_time": "2018-06-27T02:34:54.648236Z"
    },
    "collapsed": true
   },
   "outputs": [],
   "source": [
    "def page_feature(act):\n",
    "    # 获得每种page的数量（count）\n",
    "    act_page_sum = act.groupby(['user_id','activity_page'])['activity_count'].sum()\n",
    "    act_page_sum = act_page_sum.reset_index()\n",
    "    \n",
    "    # 获得每个user的总体page数量\n",
    "    act_all_page_sum = act_page_sum.groupby('user_id')['activity_count'].sum()\n",
    "    act_all_page_sum = act_all_page_sum.reset_index()\n",
    "    act_all_page_sum.columns = ['user_id','activity_count_sum']\n",
    "    \n",
    "    # 链接这两个参数，并计算比例\n",
    "    act_page_sum_new = pd.merge(act_page_sum,act_all_page_sum,how ='outer')\n",
    "    act_page_sum_new['page_ratio'] = act_page_sum_new['activity_count'] / act_page_sum_new['activity_count_sum']\n",
    "    \n",
    "    # 用完可以扔了\n",
    "    del act_page_sum_new['activity_count']\n",
    "    del act_page_sum_new['activity_count_sum']\n",
    "\n",
    "    # 通过pivot_table将5种数值散开\n",
    "    pivot_page = pd.pivot_table(act_page_sum_new,index = 'user_id',columns = 'activity_page',\n",
    "                                values = 'page_ratio')\n",
    "    pivot_page.columns = ['activity_page_0','activity_page_1','activity_page_2',\n",
    "                          'activity_page_3','activity_page_4']\n",
    "    pivot_page = pivot_page.reset_index()\n",
    "    # 没有的项用0填充\n",
    "    pivot_page = pivot_page.fillna(0)\n",
    "    \n",
    "    return pivot_page"
   ]
  },
  {
   "cell_type": "code",
   "execution_count": 53,
   "metadata": {
    "ExecuteTime": {
     "end_time": "2018-06-27T02:34:56.595153Z",
     "start_time": "2018-06-27T02:34:56.572617Z"
    },
    "collapsed": true
   },
   "outputs": [],
   "source": [
    "def type_feature(act):\n",
    "    \n",
    "    act_type_sum = act.groupby(['user_id','action_type'])['activity_count'].sum()\n",
    "    act_type_sum = act_type_sum.reset_index()\n",
    "\n",
    "    act_all_type_sum = act_type_sum.groupby('user_id')['activity_count'].sum()\n",
    "    act_all_type_sum = act_all_type_sum.reset_index()\n",
    "    act_all_type_sum.columns = ['user_id','activity_count_sum']\n",
    "\n",
    "    act_type_sum_new = pd.merge(act_type_sum,act_all_type_sum,how ='outer')\n",
    "    act_type_sum_new['type_ratio'] = act_type_sum_new['activity_count'] / act_type_sum_new['activity_count_sum']\n",
    "\n",
    "    del act_type_sum_new['activity_count']\n",
    "    del act_type_sum_new['activity_count_sum']\n",
    "\n",
    "    pivot_type = pd.pivot_table(act_type_sum_new,index = 'user_id',columns = 'action_type',values = 'type_ratio')\n",
    "    pivot_type.columns = ['action_type_0','action_type_1','action_type_2','action_type_3','action_type_4','action_type_5']\n",
    "    pivot_type = pivot_type.reset_index()\n",
    "    pivot_type = pivot_type.fillna(0)\n",
    "    \n",
    "    return pivot_type"
   ]
  },
  {
   "cell_type": "code",
   "execution_count": null,
   "metadata": {
    "collapsed": true
   },
   "outputs": [],
   "source": [
    "先是page"
   ]
  },
  {
   "cell_type": "code",
   "execution_count": 54,
   "metadata": {
    "ExecuteTime": {
     "end_time": "2018-06-27T02:34:59.986369Z",
     "start_time": "2018-06-27T02:34:59.308000Z"
    },
    "collapsed": true
   },
   "outputs": [],
   "source": [
    "act_pivot_page = page_feature(act)"
   ]
  },
  {
   "cell_type": "code",
   "execution_count": 55,
   "metadata": {
    "ExecuteTime": {
     "end_time": "2018-06-27T02:35:00.857428Z",
     "start_time": "2018-06-27T02:35:00.847402Z"
    }
   },
   "outputs": [
    {
     "data": {
      "text/html": [
       "<div>\n",
       "<style>\n",
       "    .dataframe thead tr:only-child th {\n",
       "        text-align: right;\n",
       "    }\n",
       "\n",
       "    .dataframe thead th {\n",
       "        text-align: left;\n",
       "    }\n",
       "\n",
       "    .dataframe tbody tr th {\n",
       "        vertical-align: top;\n",
       "    }\n",
       "</style>\n",
       "<table border=\"1\" class=\"dataframe\">\n",
       "  <thead>\n",
       "    <tr style=\"text-align: right;\">\n",
       "      <th></th>\n",
       "      <th>user_id</th>\n",
       "      <th>activity_page_0</th>\n",
       "      <th>activity_page_1</th>\n",
       "      <th>activity_page_2</th>\n",
       "      <th>activity_page_3</th>\n",
       "      <th>activity_page_4</th>\n",
       "    </tr>\n",
       "  </thead>\n",
       "  <tbody>\n",
       "    <tr>\n",
       "      <th>0</th>\n",
       "      <td>8</td>\n",
       "      <td>0.770833</td>\n",
       "      <td>0.041667</td>\n",
       "      <td>0.000000</td>\n",
       "      <td>0.187500</td>\n",
       "      <td>0.000000</td>\n",
       "    </tr>\n",
       "    <tr>\n",
       "      <th>1</th>\n",
       "      <td>73</td>\n",
       "      <td>0.617647</td>\n",
       "      <td>0.000000</td>\n",
       "      <td>0.000000</td>\n",
       "      <td>0.382353</td>\n",
       "      <td>0.000000</td>\n",
       "    </tr>\n",
       "    <tr>\n",
       "      <th>2</th>\n",
       "      <td>129</td>\n",
       "      <td>1.000000</td>\n",
       "      <td>0.000000</td>\n",
       "      <td>0.000000</td>\n",
       "      <td>0.000000</td>\n",
       "      <td>0.000000</td>\n",
       "    </tr>\n",
       "    <tr>\n",
       "      <th>3</th>\n",
       "      <td>228</td>\n",
       "      <td>0.000000</td>\n",
       "      <td>0.000000</td>\n",
       "      <td>0.000000</td>\n",
       "      <td>1.000000</td>\n",
       "      <td>0.000000</td>\n",
       "    </tr>\n",
       "    <tr>\n",
       "      <th>4</th>\n",
       "      <td>351</td>\n",
       "      <td>0.431818</td>\n",
       "      <td>0.011364</td>\n",
       "      <td>0.005682</td>\n",
       "      <td>0.528409</td>\n",
       "      <td>0.022727</td>\n",
       "    </tr>\n",
       "  </tbody>\n",
       "</table>\n",
       "</div>"
      ],
      "text/plain": [
       "   user_id  activity_page_0  activity_page_1  activity_page_2  \\\n",
       "0        8         0.770833         0.041667         0.000000   \n",
       "1       73         0.617647         0.000000         0.000000   \n",
       "2      129         1.000000         0.000000         0.000000   \n",
       "3      228         0.000000         0.000000         0.000000   \n",
       "4      351         0.431818         0.011364         0.005682   \n",
       "\n",
       "   activity_page_3  activity_page_4  \n",
       "0         0.187500         0.000000  \n",
       "1         0.382353         0.000000  \n",
       "2         0.000000         0.000000  \n",
       "3         1.000000         0.000000  \n",
       "4         0.528409         0.022727  "
      ]
     },
     "execution_count": 55,
     "metadata": {},
     "output_type": "execute_result"
    }
   ],
   "source": [
    "act_pivot_page.head()"
   ]
  },
  {
   "cell_type": "code",
   "execution_count": null,
   "metadata": {
    "collapsed": true
   },
   "outputs": [],
   "source": [
    "然后是type"
   ]
  },
  {
   "cell_type": "code",
   "execution_count": 56,
   "metadata": {
    "ExecuteTime": {
     "end_time": "2018-06-27T02:35:05.685151Z",
     "start_time": "2018-06-27T02:35:05.191742Z"
    },
    "collapsed": true
   },
   "outputs": [],
   "source": [
    "act_pivot_type = type_feature(act)"
   ]
  },
  {
   "cell_type": "code",
   "execution_count": 57,
   "metadata": {
    "ExecuteTime": {
     "end_time": "2018-06-27T02:35:08.096244Z",
     "start_time": "2018-06-27T02:35:08.082180Z"
    }
   },
   "outputs": [
    {
     "data": {
      "text/html": [
       "<div>\n",
       "<style>\n",
       "    .dataframe thead tr:only-child th {\n",
       "        text-align: right;\n",
       "    }\n",
       "\n",
       "    .dataframe thead th {\n",
       "        text-align: left;\n",
       "    }\n",
       "\n",
       "    .dataframe tbody tr th {\n",
       "        vertical-align: top;\n",
       "    }\n",
       "</style>\n",
       "<table border=\"1\" class=\"dataframe\">\n",
       "  <thead>\n",
       "    <tr style=\"text-align: right;\">\n",
       "      <th></th>\n",
       "      <th>user_id</th>\n",
       "      <th>action_type_0</th>\n",
       "      <th>action_type_1</th>\n",
       "      <th>action_type_2</th>\n",
       "      <th>action_type_3</th>\n",
       "      <th>action_type_4</th>\n",
       "      <th>action_type_5</th>\n",
       "    </tr>\n",
       "  </thead>\n",
       "  <tbody>\n",
       "    <tr>\n",
       "      <th>0</th>\n",
       "      <td>8</td>\n",
       "      <td>0.979167</td>\n",
       "      <td>0.020833</td>\n",
       "      <td>0.000000</td>\n",
       "      <td>0.0</td>\n",
       "      <td>0.0</td>\n",
       "      <td>0.0</td>\n",
       "    </tr>\n",
       "    <tr>\n",
       "      <th>1</th>\n",
       "      <td>73</td>\n",
       "      <td>0.941176</td>\n",
       "      <td>0.058824</td>\n",
       "      <td>0.000000</td>\n",
       "      <td>0.0</td>\n",
       "      <td>0.0</td>\n",
       "      <td>0.0</td>\n",
       "    </tr>\n",
       "    <tr>\n",
       "      <th>2</th>\n",
       "      <td>129</td>\n",
       "      <td>1.000000</td>\n",
       "      <td>0.000000</td>\n",
       "      <td>0.000000</td>\n",
       "      <td>0.0</td>\n",
       "      <td>0.0</td>\n",
       "      <td>0.0</td>\n",
       "    </tr>\n",
       "    <tr>\n",
       "      <th>3</th>\n",
       "      <td>228</td>\n",
       "      <td>1.000000</td>\n",
       "      <td>0.000000</td>\n",
       "      <td>0.000000</td>\n",
       "      <td>0.0</td>\n",
       "      <td>0.0</td>\n",
       "      <td>0.0</td>\n",
       "    </tr>\n",
       "    <tr>\n",
       "      <th>4</th>\n",
       "      <td>351</td>\n",
       "      <td>0.988636</td>\n",
       "      <td>0.005682</td>\n",
       "      <td>0.005682</td>\n",
       "      <td>0.0</td>\n",
       "      <td>0.0</td>\n",
       "      <td>0.0</td>\n",
       "    </tr>\n",
       "  </tbody>\n",
       "</table>\n",
       "</div>"
      ],
      "text/plain": [
       "   user_id  action_type_0  action_type_1  action_type_2  action_type_3  \\\n",
       "0        8       0.979167       0.020833       0.000000            0.0   \n",
       "1       73       0.941176       0.058824       0.000000            0.0   \n",
       "2      129       1.000000       0.000000       0.000000            0.0   \n",
       "3      228       1.000000       0.000000       0.000000            0.0   \n",
       "4      351       0.988636       0.005682       0.005682            0.0   \n",
       "\n",
       "   action_type_4  action_type_5  \n",
       "0            0.0            0.0  \n",
       "1            0.0            0.0  \n",
       "2            0.0            0.0  \n",
       "3            0.0            0.0  \n",
       "4            0.0            0.0  "
      ]
     },
     "execution_count": 57,
     "metadata": {},
     "output_type": "execute_result"
    }
   ],
   "source": [
    "act_pivot_type.head()"
   ]
  },
  {
   "cell_type": "code",
   "execution_count": null,
   "metadata": {
    "collapsed": true
   },
   "outputs": [],
   "source": [
    "最后merge到一起即可"
   ]
  },
  {
   "cell_type": "code",
   "execution_count": 58,
   "metadata": {
    "ExecuteTime": {
     "end_time": "2018-06-27T02:35:12.078803Z",
     "start_time": "2018-06-27T02:35:12.067272Z"
    },
    "collapsed": true
   },
   "outputs": [],
   "source": [
    "act_page_and_type = pd.merge(act_pivot_page,act_pivot_type,how = 'outer')"
   ]
  },
  {
   "cell_type": "code",
   "execution_count": 59,
   "metadata": {
    "ExecuteTime": {
     "end_time": "2018-06-27T02:35:12.623044Z",
     "start_time": "2018-06-27T02:35:12.603529Z"
    }
   },
   "outputs": [
    {
     "data": {
      "text/html": [
       "<div>\n",
       "<style>\n",
       "    .dataframe thead tr:only-child th {\n",
       "        text-align: right;\n",
       "    }\n",
       "\n",
       "    .dataframe thead th {\n",
       "        text-align: left;\n",
       "    }\n",
       "\n",
       "    .dataframe tbody tr th {\n",
       "        vertical-align: top;\n",
       "    }\n",
       "</style>\n",
       "<table border=\"1\" class=\"dataframe\">\n",
       "  <thead>\n",
       "    <tr style=\"text-align: right;\">\n",
       "      <th></th>\n",
       "      <th>user_id</th>\n",
       "      <th>activity_page_0</th>\n",
       "      <th>activity_page_1</th>\n",
       "      <th>activity_page_2</th>\n",
       "      <th>activity_page_3</th>\n",
       "      <th>activity_page_4</th>\n",
       "      <th>action_type_0</th>\n",
       "      <th>action_type_1</th>\n",
       "      <th>action_type_2</th>\n",
       "      <th>action_type_3</th>\n",
       "      <th>action_type_4</th>\n",
       "      <th>action_type_5</th>\n",
       "    </tr>\n",
       "  </thead>\n",
       "  <tbody>\n",
       "    <tr>\n",
       "      <th>0</th>\n",
       "      <td>8</td>\n",
       "      <td>0.770833</td>\n",
       "      <td>0.041667</td>\n",
       "      <td>0.000000</td>\n",
       "      <td>0.187500</td>\n",
       "      <td>0.000000</td>\n",
       "      <td>0.979167</td>\n",
       "      <td>0.020833</td>\n",
       "      <td>0.000000</td>\n",
       "      <td>0.0</td>\n",
       "      <td>0.0</td>\n",
       "      <td>0.0</td>\n",
       "    </tr>\n",
       "    <tr>\n",
       "      <th>1</th>\n",
       "      <td>73</td>\n",
       "      <td>0.617647</td>\n",
       "      <td>0.000000</td>\n",
       "      <td>0.000000</td>\n",
       "      <td>0.382353</td>\n",
       "      <td>0.000000</td>\n",
       "      <td>0.941176</td>\n",
       "      <td>0.058824</td>\n",
       "      <td>0.000000</td>\n",
       "      <td>0.0</td>\n",
       "      <td>0.0</td>\n",
       "      <td>0.0</td>\n",
       "    </tr>\n",
       "    <tr>\n",
       "      <th>2</th>\n",
       "      <td>129</td>\n",
       "      <td>1.000000</td>\n",
       "      <td>0.000000</td>\n",
       "      <td>0.000000</td>\n",
       "      <td>0.000000</td>\n",
       "      <td>0.000000</td>\n",
       "      <td>1.000000</td>\n",
       "      <td>0.000000</td>\n",
       "      <td>0.000000</td>\n",
       "      <td>0.0</td>\n",
       "      <td>0.0</td>\n",
       "      <td>0.0</td>\n",
       "    </tr>\n",
       "    <tr>\n",
       "      <th>3</th>\n",
       "      <td>228</td>\n",
       "      <td>0.000000</td>\n",
       "      <td>0.000000</td>\n",
       "      <td>0.000000</td>\n",
       "      <td>1.000000</td>\n",
       "      <td>0.000000</td>\n",
       "      <td>1.000000</td>\n",
       "      <td>0.000000</td>\n",
       "      <td>0.000000</td>\n",
       "      <td>0.0</td>\n",
       "      <td>0.0</td>\n",
       "      <td>0.0</td>\n",
       "    </tr>\n",
       "    <tr>\n",
       "      <th>4</th>\n",
       "      <td>351</td>\n",
       "      <td>0.431818</td>\n",
       "      <td>0.011364</td>\n",
       "      <td>0.005682</td>\n",
       "      <td>0.528409</td>\n",
       "      <td>0.022727</td>\n",
       "      <td>0.988636</td>\n",
       "      <td>0.005682</td>\n",
       "      <td>0.005682</td>\n",
       "      <td>0.0</td>\n",
       "      <td>0.0</td>\n",
       "      <td>0.0</td>\n",
       "    </tr>\n",
       "  </tbody>\n",
       "</table>\n",
       "</div>"
      ],
      "text/plain": [
       "   user_id  activity_page_0  activity_page_1  activity_page_2  \\\n",
       "0        8         0.770833         0.041667         0.000000   \n",
       "1       73         0.617647         0.000000         0.000000   \n",
       "2      129         1.000000         0.000000         0.000000   \n",
       "3      228         0.000000         0.000000         0.000000   \n",
       "4      351         0.431818         0.011364         0.005682   \n",
       "\n",
       "   activity_page_3  activity_page_4  action_type_0  action_type_1  \\\n",
       "0         0.187500         0.000000       0.979167       0.020833   \n",
       "1         0.382353         0.000000       0.941176       0.058824   \n",
       "2         0.000000         0.000000       1.000000       0.000000   \n",
       "3         1.000000         0.000000       1.000000       0.000000   \n",
       "4         0.528409         0.022727       0.988636       0.005682   \n",
       "\n",
       "   action_type_2  action_type_3  action_type_4  action_type_5  \n",
       "0       0.000000            0.0            0.0            0.0  \n",
       "1       0.000000            0.0            0.0            0.0  \n",
       "2       0.000000            0.0            0.0            0.0  \n",
       "3       0.000000            0.0            0.0            0.0  \n",
       "4       0.005682            0.0            0.0            0.0  "
      ]
     },
     "execution_count": 59,
     "metadata": {},
     "output_type": "execute_result"
    }
   ],
   "source": [
    "act_page_and_type.head()"
   ]
  },
  {
   "cell_type": "code",
   "execution_count": 60,
   "metadata": {
    "ExecuteTime": {
     "end_time": "2018-06-27T02:35:14.946070Z",
     "start_time": "2018-06-27T02:35:14.942060Z"
    }
   },
   "outputs": [
    {
     "data": {
      "text/plain": [
       "(20535, 12)"
      ]
     },
     "execution_count": 60,
     "metadata": {},
     "output_type": "execute_result"
    }
   ],
   "source": [
    "act_page_and_type.shape"
   ]
  },
  {
   "cell_type": "markdown",
   "metadata": {},
   "source": [
    "##### video和author"
   ]
  },
  {
   "cell_type": "code",
   "execution_count": null,
   "metadata": {
    "collapsed": true
   },
   "outputs": [],
   "source": [
    "4 video和author\n",
    "用户偏好：author数量少，video数量又大的。video / count的值\n",
    "list：将每个author的对应的video观看量作为list，\n",
    "统计：mean，std，max，min，最大值max对应的author是否是热度author（video创建量极高的，比如top1000）\n",
    "对于这个list，先排序，排完序后统计峰度（观察峰值变化）\n",
    "\n",
    "关于原有的热度特征的处理：\n",
    "count值不要了。\n",
    "是否是heat_author：变成自己create的video，被互动量的占比（占全部的，可以是author的名次，也可以是视频量的占比）"
   ]
  },
  {
   "cell_type": "code",
   "execution_count": 61,
   "metadata": {
    "ExecuteTime": {
     "end_time": "2018-06-27T02:35:19.661340Z",
     "start_time": "2018-06-27T02:35:19.648297Z"
    },
    "collapsed": true
   },
   "outputs": [],
   "source": [
    "def author_id_count_feature_act(act):\n",
    "    \n",
    "    # 获取每个author对应的video sum\n",
    "    temp = act.groupby(['user_id','author_id'])['activity_count'].sum()\n",
    "    temp = temp.reset_index()\n",
    "    \n",
    "    # 将结果转换成list：一个是author名单，一个是对应的video sum值\n",
    "    author_list = temp.groupby('user_id')['author_id'].agg(lambda x: list(x)).reset_index()\n",
    "    author_list.columns = ['user_id','author_list']\n",
    "    author_video_count_list = temp.groupby('user_id')['activity_count'].agg(lambda x: list(x)).reset_index()\n",
    "    author_video_count_list.columns = ['user_id','author_video_count_list']\n",
    "    \n",
    "    # 合并结果\n",
    "    author_count = pd.merge(author_list,author_video_count_list,how = 'outer')\n",
    "    \n",
    "    return author_count"
   ]
  },
  {
   "cell_type": "code",
   "execution_count": null,
   "metadata": {
    "collapsed": true
   },
   "outputs": [],
   "source": [
    "step1 给出聚集的list"
   ]
  },
  {
   "cell_type": "code",
   "execution_count": 62,
   "metadata": {
    "ExecuteTime": {
     "end_time": "2018-06-27T02:35:27.125793Z",
     "start_time": "2018-06-27T02:35:22.587572Z"
    },
    "collapsed": true
   },
   "outputs": [],
   "source": [
    "act_author_count = author_id_count_feature_act(act)"
   ]
  },
  {
   "cell_type": "code",
   "execution_count": 63,
   "metadata": {
    "ExecuteTime": {
     "end_time": "2018-06-27T02:36:34.580647Z",
     "start_time": "2018-06-27T02:36:34.567110Z"
    }
   },
   "outputs": [
    {
     "data": {
      "text/html": [
       "<div>\n",
       "<style>\n",
       "    .dataframe thead tr:only-child th {\n",
       "        text-align: right;\n",
       "    }\n",
       "\n",
       "    .dataframe thead th {\n",
       "        text-align: left;\n",
       "    }\n",
       "\n",
       "    .dataframe tbody tr th {\n",
       "        vertical-align: top;\n",
       "    }\n",
       "</style>\n",
       "<table border=\"1\" class=\"dataframe\">\n",
       "  <thead>\n",
       "    <tr style=\"text-align: right;\">\n",
       "      <th></th>\n",
       "      <th>user_id</th>\n",
       "      <th>author_list</th>\n",
       "      <th>author_video_count_list</th>\n",
       "    </tr>\n",
       "  </thead>\n",
       "  <tbody>\n",
       "    <tr>\n",
       "      <th>0</th>\n",
       "      <td>8</td>\n",
       "      <td>[12378, 37639, 57988, 91494, 93934, 101802, 10...</td>\n",
       "      <td>[1, 2, 1, 1, 1, 1, 1, 1, 1, 1, 1, 1, 1, 1, 1, ...</td>\n",
       "    </tr>\n",
       "    <tr>\n",
       "      <th>1</th>\n",
       "      <td>73</td>\n",
       "      <td>[287045, 299465, 356372, 400197, 422123, 45799...</td>\n",
       "      <td>[10, 1, 1, 1, 2, 1, 1, 1, 7, 1, 1, 1, 1, 1, 4]</td>\n",
       "    </tr>\n",
       "    <tr>\n",
       "      <th>2</th>\n",
       "      <td>129</td>\n",
       "      <td>[918207]</td>\n",
       "      <td>[1]</td>\n",
       "    </tr>\n",
       "    <tr>\n",
       "      <th>3</th>\n",
       "      <td>228</td>\n",
       "      <td>[529655]</td>\n",
       "      <td>[22]</td>\n",
       "    </tr>\n",
       "    <tr>\n",
       "      <th>4</th>\n",
       "      <td>351</td>\n",
       "      <td>[34289, 40579, 71808, 74555, 88680, 105164, 14...</td>\n",
       "      <td>[1, 1, 1, 1, 4, 1, 1, 4, 1, 3, 1, 9, 5, 3, 6, ...</td>\n",
       "    </tr>\n",
       "  </tbody>\n",
       "</table>\n",
       "</div>"
      ],
      "text/plain": [
       "   user_id                                        author_list  \\\n",
       "0        8  [12378, 37639, 57988, 91494, 93934, 101802, 10...   \n",
       "1       73  [287045, 299465, 356372, 400197, 422123, 45799...   \n",
       "2      129                                           [918207]   \n",
       "3      228                                           [529655]   \n",
       "4      351  [34289, 40579, 71808, 74555, 88680, 105164, 14...   \n",
       "\n",
       "                             author_video_count_list  \n",
       "0  [1, 2, 1, 1, 1, 1, 1, 1, 1, 1, 1, 1, 1, 1, 1, ...  \n",
       "1     [10, 1, 1, 1, 2, 1, 1, 1, 7, 1, 1, 1, 1, 1, 4]  \n",
       "2                                                [1]  \n",
       "3                                               [22]  \n",
       "4  [1, 1, 1, 1, 4, 1, 1, 4, 1, 3, 1, 9, 5, 3, 6, ...  "
      ]
     },
     "execution_count": 63,
     "metadata": {},
     "output_type": "execute_result"
    }
   ],
   "source": [
    "act_author_count.head()"
   ]
  },
  {
   "cell_type": "code",
   "execution_count": null,
   "metadata": {
    "collapsed": true
   },
   "outputs": [],
   "source": [
    "step2 统计用户的行为热度\n",
    "list：将每个author的对应的video观看量作为list，\n",
    "统计：\n",
    "author的数量，video的总量 / author的数量：\n",
    "这两个实际可以看做author_video_count_list的len，average，sum（前边count统计过了）\n",
    "average的意义——用户偏好：author数量少，video数量又大的。video / count的值\n",
    "\n",
    "其余的统计量：\n",
    "max，max占sum的比例值\n",
    "std：衡量波动情况，看的作者是否杂，杂的user没有关注的用户，容易弃坑\n",
    "峰度和偏度：刻画list的变化趋势（需要先给list排序）"
   ]
  },
  {
   "cell_type": "code",
   "execution_count": 64,
   "metadata": {
    "ExecuteTime": {
     "end_time": "2018-06-27T02:36:44.541342Z",
     "start_time": "2018-06-27T02:36:44.508700Z"
    },
    "collapsed": true
   },
   "outputs": [],
   "source": [
    "def author_count_feature_act(act_author_count,time_gap_right):\n",
    "    \n",
    "    author_len = [] # author的数量\n",
    "    author_average = [] # 用户偏好均值\n",
    "    author_max = [] # 最偏好的max\n",
    "    author_max_ratio = [] # 占sum的比例\n",
    "    author_std = [] # mean附近的稳定性，如果count悬殊非常大则会波动厉害，说明有区分度\n",
    "    # 需要先排序，统一变化趋势\n",
    "    author_skew = [] # 偏度\n",
    "    author_kurtosis = [] # 峰度\n",
    "    for i in range(act_author_count.shape[0]):\n",
    "    # for i in range(10):\n",
    "        item = act_author_count.iloc[i,2] \n",
    "        \n",
    "        author_len.append(len(item))\n",
    "        author_average.append(np.mean(item))\n",
    "        author_max.append(np.max(item))\n",
    "        author_max_ratio.append(np.max(item) / np.sum(item))\n",
    "        author_std.append(np.std(item))\n",
    "        temp = sorted(item,reverse = True)\n",
    "        author_skew.append(stats.skew(temp))\n",
    "        author_kurtosis.append(stats.kurtosis(temp))\n",
    "    \n",
    "    act_author_count['act_author_count_len'] = author_len\n",
    "    act_author_count['act_author_count_average'] = author_average\n",
    "    act_author_count['act_author_count_max'] = author_max\n",
    "    act_author_count['act_author_count_max_ratio'] = author_max_ratio\n",
    "    act_author_count['act_author_count_std'] = author_std\n",
    "    act_author_count['act_author_count_skew'] = author_skew\n",
    "    act_author_count['act_author_count_kurtosis'] = author_kurtosis\n",
    "      \n",
    "    return act_author_count"
   ]
  },
  {
   "cell_type": "code",
   "execution_count": 65,
   "metadata": {
    "ExecuteTime": {
     "end_time": "2018-06-27T02:36:56.360507Z",
     "start_time": "2018-06-27T02:36:46.493753Z"
    },
    "collapsed": true
   },
   "outputs": [],
   "source": [
    "time_gap_right = 16 # 区间的最右端\n",
    "act_author_count = author_count_feature_act(act_author_count,time_gap_right)"
   ]
  },
  {
   "cell_type": "code",
   "execution_count": 66,
   "metadata": {
    "ExecuteTime": {
     "end_time": "2018-06-27T02:37:27.198729Z",
     "start_time": "2018-06-27T02:37:27.179677Z"
    }
   },
   "outputs": [
    {
     "data": {
      "text/html": [
       "<div>\n",
       "<style>\n",
       "    .dataframe thead tr:only-child th {\n",
       "        text-align: right;\n",
       "    }\n",
       "\n",
       "    .dataframe thead th {\n",
       "        text-align: left;\n",
       "    }\n",
       "\n",
       "    .dataframe tbody tr th {\n",
       "        vertical-align: top;\n",
       "    }\n",
       "</style>\n",
       "<table border=\"1\" class=\"dataframe\">\n",
       "  <thead>\n",
       "    <tr style=\"text-align: right;\">\n",
       "      <th></th>\n",
       "      <th>user_id</th>\n",
       "      <th>author_list</th>\n",
       "      <th>author_video_count_list</th>\n",
       "      <th>act_author_count_len</th>\n",
       "      <th>act_author_count_average</th>\n",
       "      <th>act_author_count_max</th>\n",
       "      <th>act_author_count_max_ratio</th>\n",
       "      <th>act_author_count_std</th>\n",
       "      <th>act_author_count_skew</th>\n",
       "      <th>act_author_count_kurtosis</th>\n",
       "    </tr>\n",
       "  </thead>\n",
       "  <tbody>\n",
       "    <tr>\n",
       "      <th>0</th>\n",
       "      <td>8</td>\n",
       "      <td>[12378, 37639, 57988, 91494, 93934, 101802, 10...</td>\n",
       "      <td>[1, 2, 1, 1, 1, 1, 1, 1, 1, 1, 1, 1, 1, 1, 1, ...</td>\n",
       "      <td>60</td>\n",
       "      <td>1.600000</td>\n",
       "      <td>7</td>\n",
       "      <td>0.072917</td>\n",
       "      <td>1.280625</td>\n",
       "      <td>2.586390</td>\n",
       "      <td>6.403331</td>\n",
       "    </tr>\n",
       "    <tr>\n",
       "      <th>1</th>\n",
       "      <td>73</td>\n",
       "      <td>[287045, 299465, 356372, 400197, 422123, 45799...</td>\n",
       "      <td>[10, 1, 1, 1, 2, 1, 1, 1, 7, 1, 1, 1, 1, 1, 4]</td>\n",
       "      <td>15</td>\n",
       "      <td>2.266667</td>\n",
       "      <td>10</td>\n",
       "      <td>0.294118</td>\n",
       "      <td>2.619584</td>\n",
       "      <td>2.044814</td>\n",
       "      <td>2.826957</td>\n",
       "    </tr>\n",
       "    <tr>\n",
       "      <th>2</th>\n",
       "      <td>129</td>\n",
       "      <td>[918207]</td>\n",
       "      <td>[1]</td>\n",
       "      <td>1</td>\n",
       "      <td>1.000000</td>\n",
       "      <td>1</td>\n",
       "      <td>1.000000</td>\n",
       "      <td>0.000000</td>\n",
       "      <td>0.000000</td>\n",
       "      <td>-3.000000</td>\n",
       "    </tr>\n",
       "    <tr>\n",
       "      <th>3</th>\n",
       "      <td>228</td>\n",
       "      <td>[529655]</td>\n",
       "      <td>[22]</td>\n",
       "      <td>1</td>\n",
       "      <td>22.000000</td>\n",
       "      <td>22</td>\n",
       "      <td>1.000000</td>\n",
       "      <td>0.000000</td>\n",
       "      <td>0.000000</td>\n",
       "      <td>-3.000000</td>\n",
       "    </tr>\n",
       "    <tr>\n",
       "      <th>4</th>\n",
       "      <td>351</td>\n",
       "      <td>[34289, 40579, 71808, 74555, 88680, 105164, 14...</td>\n",
       "      <td>[1, 1, 1, 1, 4, 1, 1, 4, 1, 3, 1, 9, 5, 3, 6, ...</td>\n",
       "      <td>47</td>\n",
       "      <td>3.744681</td>\n",
       "      <td>31</td>\n",
       "      <td>0.176136</td>\n",
       "      <td>5.777683</td>\n",
       "      <td>3.471943</td>\n",
       "      <td>12.324511</td>\n",
       "    </tr>\n",
       "  </tbody>\n",
       "</table>\n",
       "</div>"
      ],
      "text/plain": [
       "   user_id                                        author_list  \\\n",
       "0        8  [12378, 37639, 57988, 91494, 93934, 101802, 10...   \n",
       "1       73  [287045, 299465, 356372, 400197, 422123, 45799...   \n",
       "2      129                                           [918207]   \n",
       "3      228                                           [529655]   \n",
       "4      351  [34289, 40579, 71808, 74555, 88680, 105164, 14...   \n",
       "\n",
       "                             author_video_count_list  act_author_count_len  \\\n",
       "0  [1, 2, 1, 1, 1, 1, 1, 1, 1, 1, 1, 1, 1, 1, 1, ...                    60   \n",
       "1     [10, 1, 1, 1, 2, 1, 1, 1, 7, 1, 1, 1, 1, 1, 4]                    15   \n",
       "2                                                [1]                     1   \n",
       "3                                               [22]                     1   \n",
       "4  [1, 1, 1, 1, 4, 1, 1, 4, 1, 3, 1, 9, 5, 3, 6, ...                    47   \n",
       "\n",
       "   act_author_count_average  act_author_count_max  act_author_count_max_ratio  \\\n",
       "0                  1.600000                     7                    0.072917   \n",
       "1                  2.266667                    10                    0.294118   \n",
       "2                  1.000000                     1                    1.000000   \n",
       "3                 22.000000                    22                    1.000000   \n",
       "4                  3.744681                    31                    0.176136   \n",
       "\n",
       "   act_author_count_std  act_author_count_skew  act_author_count_kurtosis  \n",
       "0              1.280625               2.586390                   6.403331  \n",
       "1              2.619584               2.044814                   2.826957  \n",
       "2              0.000000               0.000000                  -3.000000  \n",
       "3              0.000000               0.000000                  -3.000000  \n",
       "4              5.777683               3.471943                  12.324511  "
      ]
     },
     "execution_count": 66,
     "metadata": {},
     "output_type": "execute_result"
    }
   ],
   "source": [
    "act_author_count.head()"
   ]
  },
  {
   "cell_type": "code",
   "execution_count": null,
   "metadata": {
    "collapsed": true
   },
   "outputs": [],
   "source": [
    "（3）将行为table的所有特征整合到一起"
   ]
  },
  {
   "cell_type": "code",
   "execution_count": 67,
   "metadata": {
    "ExecuteTime": {
     "end_time": "2018-06-27T02:37:40.488198Z",
     "start_time": "2018-06-27T02:37:40.484187Z"
    }
   },
   "outputs": [
    {
     "data": {
      "text/plain": [
       "((20535, 40), (20535, 12), (20535, 10))"
      ]
     },
     "execution_count": 67,
     "metadata": {},
     "output_type": "execute_result"
    }
   ],
   "source": [
    "act_day_and_count.shape,act_page_and_type.shape,act_author_count.shape"
   ]
  },
  {
   "cell_type": "code",
   "execution_count": 68,
   "metadata": {
    "ExecuteTime": {
     "end_time": "2018-06-27T02:37:44.675087Z",
     "start_time": "2018-06-27T02:37:44.647994Z"
    },
    "collapsed": true
   },
   "outputs": [],
   "source": [
    "temp1 = pd.merge(act_day_and_count,act_page_and_type,how = 'outer')"
   ]
  },
  {
   "cell_type": "code",
   "execution_count": 69,
   "metadata": {
    "ExecuteTime": {
     "end_time": "2018-06-27T02:37:45.272126Z",
     "start_time": "2018-06-27T02:37:45.267650Z"
    }
   },
   "outputs": [
    {
     "data": {
      "text/plain": [
       "(20535, 51)"
      ]
     },
     "execution_count": 69,
     "metadata": {},
     "output_type": "execute_result"
    }
   ],
   "source": [
    "temp1.shape"
   ]
  },
  {
   "cell_type": "code",
   "execution_count": 70,
   "metadata": {
    "ExecuteTime": {
     "end_time": "2018-06-27T02:37:46.279539Z",
     "start_time": "2018-06-27T02:37:46.248905Z"
    },
    "collapsed": true
   },
   "outputs": [],
   "source": [
    "temp2 = pd.merge(temp1,act_author_count,how = 'outer')"
   ]
  },
  {
   "cell_type": "code",
   "execution_count": 71,
   "metadata": {
    "ExecuteTime": {
     "end_time": "2018-06-27T02:37:46.880585Z",
     "start_time": "2018-06-27T02:37:46.875572Z"
    }
   },
   "outputs": [
    {
     "data": {
      "text/plain": [
       "(20535, 60)"
      ]
     },
     "execution_count": 71,
     "metadata": {},
     "output_type": "execute_result"
    }
   ],
   "source": [
    "temp2.shape"
   ]
  },
  {
   "cell_type": "code",
   "execution_count": 72,
   "metadata": {
    "ExecuteTime": {
     "end_time": "2018-06-27T02:37:49.823156Z",
     "start_time": "2018-06-27T02:37:49.791032Z"
    }
   },
   "outputs": [
    {
     "data": {
      "text/html": [
       "<div>\n",
       "<style>\n",
       "    .dataframe thead tr:only-child th {\n",
       "        text-align: right;\n",
       "    }\n",
       "\n",
       "    .dataframe thead th {\n",
       "        text-align: left;\n",
       "    }\n",
       "\n",
       "    .dataframe tbody tr th {\n",
       "        vertical-align: top;\n",
       "    }\n",
       "</style>\n",
       "<table border=\"1\" class=\"dataframe\">\n",
       "  <thead>\n",
       "    <tr style=\"text-align: right;\">\n",
       "      <th></th>\n",
       "      <th>user_id</th>\n",
       "      <th>activity_day</th>\n",
       "      <th>act_day_gap_list</th>\n",
       "      <th>activity_count</th>\n",
       "      <th>act_count_gap_list</th>\n",
       "      <th>act_day_near_pred</th>\n",
       "      <th>act_day_sum</th>\n",
       "      <th>act_day_sum_average</th>\n",
       "      <th>act_day_gap_max</th>\n",
       "      <th>act_day_gap_ain</th>\n",
       "      <th>...</th>\n",
       "      <th>action_type_5</th>\n",
       "      <th>author_list</th>\n",
       "      <th>author_video_count_list</th>\n",
       "      <th>act_author_count_len</th>\n",
       "      <th>act_author_count_average</th>\n",
       "      <th>act_author_count_max</th>\n",
       "      <th>act_author_count_max_ratio</th>\n",
       "      <th>act_author_count_std</th>\n",
       "      <th>act_author_count_skew</th>\n",
       "      <th>act_author_count_kurtosis</th>\n",
       "    </tr>\n",
       "  </thead>\n",
       "  <tbody>\n",
       "    <tr>\n",
       "      <th>0</th>\n",
       "      <td>8</td>\n",
       "      <td>[9, 10, 11, 13]</td>\n",
       "      <td>[1, 1, 2]</td>\n",
       "      <td>[21, 39, 5, 31]</td>\n",
       "      <td>[18, -34, 26]</td>\n",
       "      <td>3</td>\n",
       "      <td>4</td>\n",
       "      <td>0.8</td>\n",
       "      <td>2</td>\n",
       "      <td>1</td>\n",
       "      <td>...</td>\n",
       "      <td>0.0</td>\n",
       "      <td>[12378, 37639, 57988, 91494, 93934, 101802, 10...</td>\n",
       "      <td>[1, 2, 1, 1, 1, 1, 1, 1, 1, 1, 1, 1, 1, 1, 1, ...</td>\n",
       "      <td>60</td>\n",
       "      <td>1.600000</td>\n",
       "      <td>7</td>\n",
       "      <td>0.072917</td>\n",
       "      <td>1.280625</td>\n",
       "      <td>2.586390</td>\n",
       "      <td>6.403331</td>\n",
       "    </tr>\n",
       "    <tr>\n",
       "      <th>1</th>\n",
       "      <td>73</td>\n",
       "      <td>[4, 5]</td>\n",
       "      <td>[1]</td>\n",
       "      <td>[5, 29]</td>\n",
       "      <td>[24]</td>\n",
       "      <td>11</td>\n",
       "      <td>2</td>\n",
       "      <td>1.0</td>\n",
       "      <td>1</td>\n",
       "      <td>1</td>\n",
       "      <td>...</td>\n",
       "      <td>0.0</td>\n",
       "      <td>[287045, 299465, 356372, 400197, 422123, 45799...</td>\n",
       "      <td>[10, 1, 1, 1, 2, 1, 1, 1, 7, 1, 1, 1, 1, 1, 4]</td>\n",
       "      <td>15</td>\n",
       "      <td>2.266667</td>\n",
       "      <td>10</td>\n",
       "      <td>0.294118</td>\n",
       "      <td>2.619584</td>\n",
       "      <td>2.044814</td>\n",
       "      <td>2.826957</td>\n",
       "    </tr>\n",
       "    <tr>\n",
       "      <th>2</th>\n",
       "      <td>129</td>\n",
       "      <td>[12]</td>\n",
       "      <td>[-1]</td>\n",
       "      <td>[1]</td>\n",
       "      <td>NaN</td>\n",
       "      <td>4</td>\n",
       "      <td>1</td>\n",
       "      <td>1.0</td>\n",
       "      <td>-1</td>\n",
       "      <td>-1</td>\n",
       "      <td>...</td>\n",
       "      <td>0.0</td>\n",
       "      <td>[918207]</td>\n",
       "      <td>[1]</td>\n",
       "      <td>1</td>\n",
       "      <td>1.000000</td>\n",
       "      <td>1</td>\n",
       "      <td>1.000000</td>\n",
       "      <td>0.000000</td>\n",
       "      <td>0.000000</td>\n",
       "      <td>-3.000000</td>\n",
       "    </tr>\n",
       "    <tr>\n",
       "      <th>3</th>\n",
       "      <td>228</td>\n",
       "      <td>[13]</td>\n",
       "      <td>[-1]</td>\n",
       "      <td>[22]</td>\n",
       "      <td>NaN</td>\n",
       "      <td>3</td>\n",
       "      <td>1</td>\n",
       "      <td>1.0</td>\n",
       "      <td>-1</td>\n",
       "      <td>-1</td>\n",
       "      <td>...</td>\n",
       "      <td>0.0</td>\n",
       "      <td>[529655]</td>\n",
       "      <td>[22]</td>\n",
       "      <td>1</td>\n",
       "      <td>22.000000</td>\n",
       "      <td>22</td>\n",
       "      <td>1.000000</td>\n",
       "      <td>0.000000</td>\n",
       "      <td>0.000000</td>\n",
       "      <td>-3.000000</td>\n",
       "    </tr>\n",
       "    <tr>\n",
       "      <th>4</th>\n",
       "      <td>351</td>\n",
       "      <td>[3]</td>\n",
       "      <td>[-1]</td>\n",
       "      <td>[176]</td>\n",
       "      <td>NaN</td>\n",
       "      <td>13</td>\n",
       "      <td>1</td>\n",
       "      <td>1.0</td>\n",
       "      <td>-1</td>\n",
       "      <td>-1</td>\n",
       "      <td>...</td>\n",
       "      <td>0.0</td>\n",
       "      <td>[34289, 40579, 71808, 74555, 88680, 105164, 14...</td>\n",
       "      <td>[1, 1, 1, 1, 4, 1, 1, 4, 1, 3, 1, 9, 5, 3, 6, ...</td>\n",
       "      <td>47</td>\n",
       "      <td>3.744681</td>\n",
       "      <td>31</td>\n",
       "      <td>0.176136</td>\n",
       "      <td>5.777683</td>\n",
       "      <td>3.471943</td>\n",
       "      <td>12.324511</td>\n",
       "    </tr>\n",
       "  </tbody>\n",
       "</table>\n",
       "<p>5 rows × 60 columns</p>\n",
       "</div>"
      ],
      "text/plain": [
       "   user_id     activity_day act_day_gap_list   activity_count  \\\n",
       "0        8  [9, 10, 11, 13]        [1, 1, 2]  [21, 39, 5, 31]   \n",
       "1       73           [4, 5]              [1]          [5, 29]   \n",
       "2      129             [12]             [-1]              [1]   \n",
       "3      228             [13]             [-1]             [22]   \n",
       "4      351              [3]             [-1]            [176]   \n",
       "\n",
       "  act_count_gap_list  act_day_near_pred  act_day_sum  act_day_sum_average  \\\n",
       "0      [18, -34, 26]                  3            4                  0.8   \n",
       "1               [24]                 11            2                  1.0   \n",
       "2                NaN                  4            1                  1.0   \n",
       "3                NaN                  3            1                  1.0   \n",
       "4                NaN                 13            1                  1.0   \n",
       "\n",
       "   act_day_gap_max  act_day_gap_ain            ...              action_type_5  \\\n",
       "0                2                1            ...                        0.0   \n",
       "1                1                1            ...                        0.0   \n",
       "2               -1               -1            ...                        0.0   \n",
       "3               -1               -1            ...                        0.0   \n",
       "4               -1               -1            ...                        0.0   \n",
       "\n",
       "                                         author_list  \\\n",
       "0  [12378, 37639, 57988, 91494, 93934, 101802, 10...   \n",
       "1  [287045, 299465, 356372, 400197, 422123, 45799...   \n",
       "2                                           [918207]   \n",
       "3                                           [529655]   \n",
       "4  [34289, 40579, 71808, 74555, 88680, 105164, 14...   \n",
       "\n",
       "                             author_video_count_list  act_author_count_len  \\\n",
       "0  [1, 2, 1, 1, 1, 1, 1, 1, 1, 1, 1, 1, 1, 1, 1, ...                    60   \n",
       "1     [10, 1, 1, 1, 2, 1, 1, 1, 7, 1, 1, 1, 1, 1, 4]                    15   \n",
       "2                                                [1]                     1   \n",
       "3                                               [22]                     1   \n",
       "4  [1, 1, 1, 1, 4, 1, 1, 4, 1, 3, 1, 9, 5, 3, 6, ...                    47   \n",
       "\n",
       "   act_author_count_average  act_author_count_max  act_author_count_max_ratio  \\\n",
       "0                  1.600000                     7                    0.072917   \n",
       "1                  2.266667                    10                    0.294118   \n",
       "2                  1.000000                     1                    1.000000   \n",
       "3                 22.000000                    22                    1.000000   \n",
       "4                  3.744681                    31                    0.176136   \n",
       "\n",
       "   act_author_count_std  act_author_count_skew  act_author_count_kurtosis  \n",
       "0              1.280625               2.586390                   6.403331  \n",
       "1              2.619584               2.044814                   2.826957  \n",
       "2              0.000000               0.000000                  -3.000000  \n",
       "3              0.000000               0.000000                  -3.000000  \n",
       "4              5.777683               3.471943                  12.324511  \n",
       "\n",
       "[5 rows x 60 columns]"
      ]
     },
     "execution_count": 72,
     "metadata": {},
     "output_type": "execute_result"
    }
   ],
   "source": [
    "temp2.head()"
   ]
  },
  {
   "cell_type": "code",
   "execution_count": null,
   "metadata": {
    "collapsed": true
   },
   "outputs": [],
   "source": [
    "存档"
   ]
  },
  {
   "cell_type": "code",
   "execution_count": 73,
   "metadata": {
    "ExecuteTime": {
     "end_time": "2018-06-27T02:38:10.557904Z",
     "start_time": "2018-06-27T02:38:03.720375Z"
    },
    "collapsed": true
   },
   "outputs": [],
   "source": [
    "temp2.to_csv(\n",
    "    'dataset_B_for_model_method/temp_dataset/act_1_16_table_action_feature.csv',index = False)"
   ]
  },
  {
   "cell_type": "markdown",
   "metadata": {},
   "source": [
    "##### 获得最终的特征集"
   ]
  },
  {
   "cell_type": "code",
   "execution_count": null,
   "metadata": {
    "collapsed": true
   },
   "outputs": [],
   "source": [
    "将所有的特征集合并到一起\n",
    "（3个table在这里可能有些不同）"
   ]
  },
  {
   "cell_type": "code",
   "execution_count": 74,
   "metadata": {
    "ExecuteTime": {
     "end_time": "2018-06-27T02:47:10.836684Z",
     "start_time": "2018-06-27T02:47:09.996793Z"
    },
    "collapsed": true
   },
   "outputs": [],
   "source": [
    "table123_feature = pd.read_csv(\n",
    "    'dataset_B_for_model_method/temp_dataset/table123_1_16_first_3_feature.csv')\n",
    "act_feature = pd.read_csv(\n",
    "    'dataset_B_for_model_method/temp_dataset/act_1_16_table_action_feature.csv')"
   ]
  },
  {
   "cell_type": "code",
   "execution_count": 75,
   "metadata": {
    "ExecuteTime": {
     "end_time": "2018-06-27T02:47:13.320902Z",
     "start_time": "2018-06-27T02:47:13.315889Z"
    }
   },
   "outputs": [
    {
     "data": {
      "text/plain": [
       "((23923, 44), (20535, 60))"
      ]
     },
     "execution_count": 75,
     "metadata": {},
     "output_type": "execute_result"
    }
   ],
   "source": [
    "table123_feature.shape,act_feature.shape"
   ]
  },
  {
   "cell_type": "code",
   "execution_count": 76,
   "metadata": {
    "ExecuteTime": {
     "end_time": "2018-06-27T02:47:16.263598Z",
     "start_time": "2018-06-27T02:47:16.232799Z"
    }
   },
   "outputs": [
    {
     "data": {
      "text/plain": [
       "0"
      ]
     },
     "execution_count": 76,
     "metadata": {},
     "output_type": "execute_result"
    }
   ],
   "source": [
    "table123_feature.isnull().sum().sum()"
   ]
  },
  {
   "cell_type": "code",
   "execution_count": 77,
   "metadata": {
    "ExecuteTime": {
     "end_time": "2018-06-27T02:47:18.071913Z",
     "start_time": "2018-06-27T02:47:17.927774Z"
    },
    "collapsed": true
   },
   "outputs": [],
   "source": [
    "table_all = pd.merge(table123_feature,act_feature,how = 'outer')"
   ]
  },
  {
   "cell_type": "code",
   "execution_count": 78,
   "metadata": {
    "ExecuteTime": {
     "end_time": "2018-06-27T02:47:23.608349Z",
     "start_time": "2018-06-27T02:47:23.603836Z"
    }
   },
   "outputs": [
    {
     "data": {
      "text/plain": [
       "(23923, 103)"
      ]
     },
     "execution_count": 78,
     "metadata": {},
     "output_type": "execute_result"
    }
   ],
   "source": [
    "table_all.shape"
   ]
  },
  {
   "cell_type": "code",
   "execution_count": 79,
   "metadata": {
    "ExecuteTime": {
     "end_time": "2018-06-27T02:47:25.901904Z",
     "start_time": "2018-06-27T02:47:25.877838Z"
    }
   },
   "outputs": [
    {
     "data": {
      "text/html": [
       "<div>\n",
       "<style>\n",
       "    .dataframe thead tr:only-child th {\n",
       "        text-align: right;\n",
       "    }\n",
       "\n",
       "    .dataframe thead th {\n",
       "        text-align: left;\n",
       "    }\n",
       "\n",
       "    .dataframe tbody tr th {\n",
       "        vertical-align: top;\n",
       "    }\n",
       "</style>\n",
       "<table border=\"1\" class=\"dataframe\">\n",
       "  <thead>\n",
       "    <tr style=\"text-align: right;\">\n",
       "      <th></th>\n",
       "      <th>user_id</th>\n",
       "      <th>app_launch_day</th>\n",
       "      <th>launch_gap_list</th>\n",
       "      <th>launch_day_near_pred</th>\n",
       "      <th>launch_day_sum</th>\n",
       "      <th>launch_day_sum_average</th>\n",
       "      <th>launch_day_gap_max</th>\n",
       "      <th>launch_day_gap_ain</th>\n",
       "      <th>launch_day_gap_average</th>\n",
       "      <th>launch_day_gap_std</th>\n",
       "      <th>...</th>\n",
       "      <th>action_type_5</th>\n",
       "      <th>author_list</th>\n",
       "      <th>author_video_count_list</th>\n",
       "      <th>act_author_count_len</th>\n",
       "      <th>act_author_count_average</th>\n",
       "      <th>act_author_count_max</th>\n",
       "      <th>act_author_count_max_ratio</th>\n",
       "      <th>act_author_count_std</th>\n",
       "      <th>act_author_count_skew</th>\n",
       "      <th>act_author_count_kurtosis</th>\n",
       "    </tr>\n",
       "  </thead>\n",
       "  <tbody>\n",
       "    <tr>\n",
       "      <th>0</th>\n",
       "      <td>8</td>\n",
       "      <td>[9.0, 10.0, 11.0, 13.0]</td>\n",
       "      <td>[1.0, 1.0, 2.0]</td>\n",
       "      <td>3.0</td>\n",
       "      <td>4</td>\n",
       "      <td>0.80</td>\n",
       "      <td>2.0</td>\n",
       "      <td>1.0</td>\n",
       "      <td>1.333333</td>\n",
       "      <td>0.471405</td>\n",
       "      <td>...</td>\n",
       "      <td>0.0</td>\n",
       "      <td>[12378, 37639, 57988, 91494, 93934, 101802, 10...</td>\n",
       "      <td>[1, 2, 1, 1, 1, 1, 1, 1, 1, 1, 1, 1, 1, 1, 1, ...</td>\n",
       "      <td>60.0</td>\n",
       "      <td>1.600000</td>\n",
       "      <td>7.0</td>\n",
       "      <td>0.072917</td>\n",
       "      <td>1.280625</td>\n",
       "      <td>2.586390</td>\n",
       "      <td>6.403331</td>\n",
       "    </tr>\n",
       "    <tr>\n",
       "      <th>1</th>\n",
       "      <td>73</td>\n",
       "      <td>[2.0, 4.0, 5.0]</td>\n",
       "      <td>[2.0, 1.0]</td>\n",
       "      <td>11.0</td>\n",
       "      <td>3</td>\n",
       "      <td>0.75</td>\n",
       "      <td>2.0</td>\n",
       "      <td>1.0</td>\n",
       "      <td>1.500000</td>\n",
       "      <td>0.500000</td>\n",
       "      <td>...</td>\n",
       "      <td>0.0</td>\n",
       "      <td>[287045, 299465, 356372, 400197, 422123, 45799...</td>\n",
       "      <td>[10, 1, 1, 1, 2, 1, 1, 1, 7, 1, 1, 1, 1, 1, 4]</td>\n",
       "      <td>15.0</td>\n",
       "      <td>2.266667</td>\n",
       "      <td>10.0</td>\n",
       "      <td>0.294118</td>\n",
       "      <td>2.619584</td>\n",
       "      <td>2.044814</td>\n",
       "      <td>2.826957</td>\n",
       "    </tr>\n",
       "    <tr>\n",
       "      <th>2</th>\n",
       "      <td>129</td>\n",
       "      <td>[12.0]</td>\n",
       "      <td>[-1]</td>\n",
       "      <td>4.0</td>\n",
       "      <td>1</td>\n",
       "      <td>1.00</td>\n",
       "      <td>-1.0</td>\n",
       "      <td>-1.0</td>\n",
       "      <td>-1.000000</td>\n",
       "      <td>-1.000000</td>\n",
       "      <td>...</td>\n",
       "      <td>0.0</td>\n",
       "      <td>[918207]</td>\n",
       "      <td>[1]</td>\n",
       "      <td>1.0</td>\n",
       "      <td>1.000000</td>\n",
       "      <td>1.0</td>\n",
       "      <td>1.000000</td>\n",
       "      <td>0.000000</td>\n",
       "      <td>0.000000</td>\n",
       "      <td>-3.000000</td>\n",
       "    </tr>\n",
       "    <tr>\n",
       "      <th>3</th>\n",
       "      <td>228</td>\n",
       "      <td>[13.0]</td>\n",
       "      <td>[-1]</td>\n",
       "      <td>3.0</td>\n",
       "      <td>1</td>\n",
       "      <td>1.00</td>\n",
       "      <td>-1.0</td>\n",
       "      <td>-1.0</td>\n",
       "      <td>-1.000000</td>\n",
       "      <td>-1.000000</td>\n",
       "      <td>...</td>\n",
       "      <td>0.0</td>\n",
       "      <td>[529655]</td>\n",
       "      <td>[22]</td>\n",
       "      <td>1.0</td>\n",
       "      <td>22.000000</td>\n",
       "      <td>22.0</td>\n",
       "      <td>1.000000</td>\n",
       "      <td>0.000000</td>\n",
       "      <td>0.000000</td>\n",
       "      <td>-3.000000</td>\n",
       "    </tr>\n",
       "    <tr>\n",
       "      <th>4</th>\n",
       "      <td>351</td>\n",
       "      <td>[3.0]</td>\n",
       "      <td>[-1]</td>\n",
       "      <td>13.0</td>\n",
       "      <td>1</td>\n",
       "      <td>1.00</td>\n",
       "      <td>-1.0</td>\n",
       "      <td>-1.0</td>\n",
       "      <td>-1.000000</td>\n",
       "      <td>-1.000000</td>\n",
       "      <td>...</td>\n",
       "      <td>0.0</td>\n",
       "      <td>[34289, 40579, 71808, 74555, 88680, 105164, 14...</td>\n",
       "      <td>[1, 1, 1, 1, 4, 1, 1, 4, 1, 3, 1, 9, 5, 3, 6, ...</td>\n",
       "      <td>47.0</td>\n",
       "      <td>3.744681</td>\n",
       "      <td>31.0</td>\n",
       "      <td>0.176136</td>\n",
       "      <td>5.777683</td>\n",
       "      <td>3.471943</td>\n",
       "      <td>12.324511</td>\n",
       "    </tr>\n",
       "  </tbody>\n",
       "</table>\n",
       "<p>5 rows × 103 columns</p>\n",
       "</div>"
      ],
      "text/plain": [
       "   user_id           app_launch_day  launch_gap_list  launch_day_near_pred  \\\n",
       "0        8  [9.0, 10.0, 11.0, 13.0]  [1.0, 1.0, 2.0]                   3.0   \n",
       "1       73          [2.0, 4.0, 5.0]       [2.0, 1.0]                  11.0   \n",
       "2      129                   [12.0]             [-1]                   4.0   \n",
       "3      228                   [13.0]             [-1]                   3.0   \n",
       "4      351                    [3.0]             [-1]                  13.0   \n",
       "\n",
       "   launch_day_sum  launch_day_sum_average  launch_day_gap_max  \\\n",
       "0               4                    0.80                 2.0   \n",
       "1               3                    0.75                 2.0   \n",
       "2               1                    1.00                -1.0   \n",
       "3               1                    1.00                -1.0   \n",
       "4               1                    1.00                -1.0   \n",
       "\n",
       "   launch_day_gap_ain  launch_day_gap_average  launch_day_gap_std  \\\n",
       "0                 1.0                1.333333            0.471405   \n",
       "1                 1.0                1.500000            0.500000   \n",
       "2                -1.0               -1.000000           -1.000000   \n",
       "3                -1.0               -1.000000           -1.000000   \n",
       "4                -1.0               -1.000000           -1.000000   \n",
       "\n",
       "             ...              action_type_5  \\\n",
       "0            ...                        0.0   \n",
       "1            ...                        0.0   \n",
       "2            ...                        0.0   \n",
       "3            ...                        0.0   \n",
       "4            ...                        0.0   \n",
       "\n",
       "                                         author_list  \\\n",
       "0  [12378, 37639, 57988, 91494, 93934, 101802, 10...   \n",
       "1  [287045, 299465, 356372, 400197, 422123, 45799...   \n",
       "2                                           [918207]   \n",
       "3                                           [529655]   \n",
       "4  [34289, 40579, 71808, 74555, 88680, 105164, 14...   \n",
       "\n",
       "                             author_video_count_list  act_author_count_len  \\\n",
       "0  [1, 2, 1, 1, 1, 1, 1, 1, 1, 1, 1, 1, 1, 1, 1, ...                  60.0   \n",
       "1     [10, 1, 1, 1, 2, 1, 1, 1, 7, 1, 1, 1, 1, 1, 4]                  15.0   \n",
       "2                                                [1]                   1.0   \n",
       "3                                               [22]                   1.0   \n",
       "4  [1, 1, 1, 1, 4, 1, 1, 4, 1, 3, 1, 9, 5, 3, 6, ...                  47.0   \n",
       "\n",
       "   act_author_count_average  act_author_count_max act_author_count_max_ratio  \\\n",
       "0                  1.600000                   7.0                   0.072917   \n",
       "1                  2.266667                  10.0                   0.294118   \n",
       "2                  1.000000                   1.0                   1.000000   \n",
       "3                 22.000000                  22.0                   1.000000   \n",
       "4                  3.744681                  31.0                   0.176136   \n",
       "\n",
       "  act_author_count_std act_author_count_skew  act_author_count_kurtosis  \n",
       "0             1.280625              2.586390                   6.403331  \n",
       "1             2.619584              2.044814                   2.826957  \n",
       "2             0.000000              0.000000                  -3.000000  \n",
       "3             0.000000              0.000000                  -3.000000  \n",
       "4             5.777683              3.471943                  12.324511  \n",
       "\n",
       "[5 rows x 103 columns]"
      ]
     },
     "execution_count": 79,
     "metadata": {},
     "output_type": "execute_result"
    }
   ],
   "source": [
    "table_all.head()"
   ]
  },
  {
   "cell_type": "code",
   "execution_count": null,
   "metadata": {
    "collapsed": true
   },
   "outputs": [],
   "source": [
    "对待null的态度\n",
    "——比较方便的态度是，将缺少act的user和有act但是某些特征没法取值的情况，看成两类。前者是nan，后者是缺省值-1或者nan"
   ]
  },
  {
   "cell_type": "code",
   "execution_count": null,
   "metadata": {
    "collapsed": true
   },
   "outputs": [],
   "source": [
    "添加y"
   ]
  },
  {
   "cell_type": "code",
   "execution_count": 80,
   "metadata": {
    "ExecuteTime": {
     "end_time": "2018-06-27T02:47:33.941509Z",
     "start_time": "2018-06-27T02:47:33.937500Z"
    },
    "collapsed": true
   },
   "outputs": [],
   "source": [
    "y['y'] = 1"
   ]
  },
  {
   "cell_type": "code",
   "execution_count": 81,
   "metadata": {
    "ExecuteTime": {
     "end_time": "2018-06-27T02:47:35.309875Z",
     "start_time": "2018-06-27T02:47:35.276788Z"
    }
   },
   "outputs": [
    {
     "data": {
      "text/plain": [
       "1.0    12430\n",
       "0.0    11493\n",
       "Name: y, dtype: int64"
      ]
     },
     "execution_count": 81,
     "metadata": {},
     "output_type": "execute_result"
    }
   ],
   "source": [
    "table_all = pd.merge(table_all,y,how = 'outer')\n",
    "table_all['y'] = table_all['y'].fillna(0)\n",
    "table_all['y'].value_counts()"
   ]
  },
  {
   "cell_type": "code",
   "execution_count": 82,
   "metadata": {
    "ExecuteTime": {
     "end_time": "2018-06-27T02:47:37.892201Z",
     "start_time": "2018-06-27T02:47:37.866453Z"
    }
   },
   "outputs": [
    {
     "data": {
      "text/html": [
       "<div>\n",
       "<style>\n",
       "    .dataframe thead tr:only-child th {\n",
       "        text-align: right;\n",
       "    }\n",
       "\n",
       "    .dataframe thead th {\n",
       "        text-align: left;\n",
       "    }\n",
       "\n",
       "    .dataframe tbody tr th {\n",
       "        vertical-align: top;\n",
       "    }\n",
       "</style>\n",
       "<table border=\"1\" class=\"dataframe\">\n",
       "  <thead>\n",
       "    <tr style=\"text-align: right;\">\n",
       "      <th></th>\n",
       "      <th>user_id</th>\n",
       "      <th>app_launch_day</th>\n",
       "      <th>launch_gap_list</th>\n",
       "      <th>launch_day_near_pred</th>\n",
       "      <th>launch_day_sum</th>\n",
       "      <th>launch_day_sum_average</th>\n",
       "      <th>launch_day_gap_max</th>\n",
       "      <th>launch_day_gap_ain</th>\n",
       "      <th>launch_day_gap_average</th>\n",
       "      <th>launch_day_gap_std</th>\n",
       "      <th>...</th>\n",
       "      <th>author_list</th>\n",
       "      <th>author_video_count_list</th>\n",
       "      <th>act_author_count_len</th>\n",
       "      <th>act_author_count_average</th>\n",
       "      <th>act_author_count_max</th>\n",
       "      <th>act_author_count_max_ratio</th>\n",
       "      <th>act_author_count_std</th>\n",
       "      <th>act_author_count_skew</th>\n",
       "      <th>act_author_count_kurtosis</th>\n",
       "      <th>y</th>\n",
       "    </tr>\n",
       "  </thead>\n",
       "  <tbody>\n",
       "    <tr>\n",
       "      <th>0</th>\n",
       "      <td>8</td>\n",
       "      <td>[9.0, 10.0, 11.0, 13.0]</td>\n",
       "      <td>[1.0, 1.0, 2.0]</td>\n",
       "      <td>3.0</td>\n",
       "      <td>4</td>\n",
       "      <td>0.80</td>\n",
       "      <td>2.0</td>\n",
       "      <td>1.0</td>\n",
       "      <td>1.333333</td>\n",
       "      <td>0.471405</td>\n",
       "      <td>...</td>\n",
       "      <td>[12378, 37639, 57988, 91494, 93934, 101802, 10...</td>\n",
       "      <td>[1, 2, 1, 1, 1, 1, 1, 1, 1, 1, 1, 1, 1, 1, 1, ...</td>\n",
       "      <td>60.0</td>\n",
       "      <td>1.600000</td>\n",
       "      <td>7.0</td>\n",
       "      <td>0.072917</td>\n",
       "      <td>1.280625</td>\n",
       "      <td>2.586390</td>\n",
       "      <td>6.403331</td>\n",
       "      <td>1.0</td>\n",
       "    </tr>\n",
       "    <tr>\n",
       "      <th>1</th>\n",
       "      <td>73</td>\n",
       "      <td>[2.0, 4.0, 5.0]</td>\n",
       "      <td>[2.0, 1.0]</td>\n",
       "      <td>11.0</td>\n",
       "      <td>3</td>\n",
       "      <td>0.75</td>\n",
       "      <td>2.0</td>\n",
       "      <td>1.0</td>\n",
       "      <td>1.500000</td>\n",
       "      <td>0.500000</td>\n",
       "      <td>...</td>\n",
       "      <td>[287045, 299465, 356372, 400197, 422123, 45799...</td>\n",
       "      <td>[10, 1, 1, 1, 2, 1, 1, 1, 7, 1, 1, 1, 1, 1, 4]</td>\n",
       "      <td>15.0</td>\n",
       "      <td>2.266667</td>\n",
       "      <td>10.0</td>\n",
       "      <td>0.294118</td>\n",
       "      <td>2.619584</td>\n",
       "      <td>2.044814</td>\n",
       "      <td>2.826957</td>\n",
       "      <td>0.0</td>\n",
       "    </tr>\n",
       "    <tr>\n",
       "      <th>2</th>\n",
       "      <td>129</td>\n",
       "      <td>[12.0]</td>\n",
       "      <td>[-1]</td>\n",
       "      <td>4.0</td>\n",
       "      <td>1</td>\n",
       "      <td>1.00</td>\n",
       "      <td>-1.0</td>\n",
       "      <td>-1.0</td>\n",
       "      <td>-1.000000</td>\n",
       "      <td>-1.000000</td>\n",
       "      <td>...</td>\n",
       "      <td>[918207]</td>\n",
       "      <td>[1]</td>\n",
       "      <td>1.0</td>\n",
       "      <td>1.000000</td>\n",
       "      <td>1.0</td>\n",
       "      <td>1.000000</td>\n",
       "      <td>0.000000</td>\n",
       "      <td>0.000000</td>\n",
       "      <td>-3.000000</td>\n",
       "      <td>1.0</td>\n",
       "    </tr>\n",
       "    <tr>\n",
       "      <th>3</th>\n",
       "      <td>228</td>\n",
       "      <td>[13.0]</td>\n",
       "      <td>[-1]</td>\n",
       "      <td>3.0</td>\n",
       "      <td>1</td>\n",
       "      <td>1.00</td>\n",
       "      <td>-1.0</td>\n",
       "      <td>-1.0</td>\n",
       "      <td>-1.000000</td>\n",
       "      <td>-1.000000</td>\n",
       "      <td>...</td>\n",
       "      <td>[529655]</td>\n",
       "      <td>[22]</td>\n",
       "      <td>1.0</td>\n",
       "      <td>22.000000</td>\n",
       "      <td>22.0</td>\n",
       "      <td>1.000000</td>\n",
       "      <td>0.000000</td>\n",
       "      <td>0.000000</td>\n",
       "      <td>-3.000000</td>\n",
       "      <td>1.0</td>\n",
       "    </tr>\n",
       "    <tr>\n",
       "      <th>4</th>\n",
       "      <td>351</td>\n",
       "      <td>[3.0]</td>\n",
       "      <td>[-1]</td>\n",
       "      <td>13.0</td>\n",
       "      <td>1</td>\n",
       "      <td>1.00</td>\n",
       "      <td>-1.0</td>\n",
       "      <td>-1.0</td>\n",
       "      <td>-1.000000</td>\n",
       "      <td>-1.000000</td>\n",
       "      <td>...</td>\n",
       "      <td>[34289, 40579, 71808, 74555, 88680, 105164, 14...</td>\n",
       "      <td>[1, 1, 1, 1, 4, 1, 1, 4, 1, 3, 1, 9, 5, 3, 6, ...</td>\n",
       "      <td>47.0</td>\n",
       "      <td>3.744681</td>\n",
       "      <td>31.0</td>\n",
       "      <td>0.176136</td>\n",
       "      <td>5.777683</td>\n",
       "      <td>3.471943</td>\n",
       "      <td>12.324511</td>\n",
       "      <td>0.0</td>\n",
       "    </tr>\n",
       "  </tbody>\n",
       "</table>\n",
       "<p>5 rows × 104 columns</p>\n",
       "</div>"
      ],
      "text/plain": [
       "   user_id           app_launch_day  launch_gap_list  launch_day_near_pred  \\\n",
       "0        8  [9.0, 10.0, 11.0, 13.0]  [1.0, 1.0, 2.0]                   3.0   \n",
       "1       73          [2.0, 4.0, 5.0]       [2.0, 1.0]                  11.0   \n",
       "2      129                   [12.0]             [-1]                   4.0   \n",
       "3      228                   [13.0]             [-1]                   3.0   \n",
       "4      351                    [3.0]             [-1]                  13.0   \n",
       "\n",
       "   launch_day_sum  launch_day_sum_average  launch_day_gap_max  \\\n",
       "0               4                    0.80                 2.0   \n",
       "1               3                    0.75                 2.0   \n",
       "2               1                    1.00                -1.0   \n",
       "3               1                    1.00                -1.0   \n",
       "4               1                    1.00                -1.0   \n",
       "\n",
       "   launch_day_gap_ain  launch_day_gap_average  launch_day_gap_std ...   \\\n",
       "0                 1.0                1.333333            0.471405 ...    \n",
       "1                 1.0                1.500000            0.500000 ...    \n",
       "2                -1.0               -1.000000           -1.000000 ...    \n",
       "3                -1.0               -1.000000           -1.000000 ...    \n",
       "4                -1.0               -1.000000           -1.000000 ...    \n",
       "\n",
       "                                         author_list  \\\n",
       "0  [12378, 37639, 57988, 91494, 93934, 101802, 10...   \n",
       "1  [287045, 299465, 356372, 400197, 422123, 45799...   \n",
       "2                                           [918207]   \n",
       "3                                           [529655]   \n",
       "4  [34289, 40579, 71808, 74555, 88680, 105164, 14...   \n",
       "\n",
       "                             author_video_count_list  act_author_count_len  \\\n",
       "0  [1, 2, 1, 1, 1, 1, 1, 1, 1, 1, 1, 1, 1, 1, 1, ...                  60.0   \n",
       "1     [10, 1, 1, 1, 2, 1, 1, 1, 7, 1, 1, 1, 1, 1, 4]                  15.0   \n",
       "2                                                [1]                   1.0   \n",
       "3                                               [22]                   1.0   \n",
       "4  [1, 1, 1, 1, 4, 1, 1, 4, 1, 3, 1, 9, 5, 3, 6, ...                  47.0   \n",
       "\n",
       "   act_author_count_average  act_author_count_max  act_author_count_max_ratio  \\\n",
       "0                  1.600000                   7.0                    0.072917   \n",
       "1                  2.266667                  10.0                    0.294118   \n",
       "2                  1.000000                   1.0                    1.000000   \n",
       "3                 22.000000                  22.0                    1.000000   \n",
       "4                  3.744681                  31.0                    0.176136   \n",
       "\n",
       "  act_author_count_std act_author_count_skew act_author_count_kurtosis    y  \n",
       "0             1.280625              2.586390                  6.403331  1.0  \n",
       "1             2.619584              2.044814                  2.826957  0.0  \n",
       "2             0.000000              0.000000                 -3.000000  1.0  \n",
       "3             0.000000              0.000000                 -3.000000  1.0  \n",
       "4             5.777683              3.471943                 12.324511  0.0  \n",
       "\n",
       "[5 rows x 104 columns]"
      ]
     },
     "execution_count": 82,
     "metadata": {},
     "output_type": "execute_result"
    }
   ],
   "source": [
    "table_all.head()"
   ]
  },
  {
   "cell_type": "code",
   "execution_count": null,
   "metadata": {
    "collapsed": true
   },
   "outputs": [],
   "source": [
    "观察table是否包含了登录时间在1-16号的全部用户"
   ]
  },
  {
   "cell_type": "code",
   "execution_count": 83,
   "metadata": {
    "ExecuteTime": {
     "end_time": "2018-06-27T02:48:00.272361Z",
     "start_time": "2018-06-27T02:48:00.107074Z"
    },
    "collapsed": true
   },
   "outputs": [],
   "source": [
    "user_register_log = pd.read_csv('dataset_B/user_register_log.csv')\n",
    "user_register_log = user_register_log[user_register_log['register_day'] < 17]\n",
    "register_user = user_register_log['user_id']\n",
    "table_all_user = table_all['user_id']\n",
    "other_user = list(set(register_user) - set(table_all_user))"
   ]
  },
  {
   "cell_type": "code",
   "execution_count": 84,
   "metadata": {
    "ExecuteTime": {
     "end_time": "2018-06-27T02:48:01.391251Z",
     "start_time": "2018-06-27T02:48:01.386199Z"
    }
   },
   "outputs": [
    {
     "data": {
      "text/plain": [
       "(0, 23923, 23923)"
      ]
     },
     "execution_count": 84,
     "metadata": {},
     "output_type": "execute_result"
    }
   ],
   "source": [
    "len(other_user),len(register_user),len(table_all_user)"
   ]
  },
  {
   "cell_type": "code",
   "execution_count": null,
   "metadata": {
    "collapsed": true
   },
   "outputs": [],
   "source": [
    "如果不是空集，需要把这部分数据并入最终的数据集中\n",
    "（注意y的填补用0，其余用-1）"
   ]
  },
  {
   "cell_type": "code",
   "execution_count": null,
   "metadata": {
    "collapsed": true
   },
   "outputs": [],
   "source": [
    "other_user = pd.DataFrame(other_user)\n",
    "other_user.columns = ['user_id']"
   ]
  },
  {
   "cell_type": "code",
   "execution_count": null,
   "metadata": {
    "collapsed": true
   },
   "outputs": [],
   "source": [
    "存档最终数据集"
   ]
  },
  {
   "cell_type": "code",
   "execution_count": 85,
   "metadata": {
    "ExecuteTime": {
     "end_time": "2018-06-27T02:48:21.235221Z",
     "start_time": "2018-06-27T02:48:18.690112Z"
    },
    "collapsed": true
   },
   "outputs": [],
   "source": [
    "table_all.to_csv(\n",
    "    'dataset_B_for_model_method/final_dataset/complete_dataset_1_16.csv',index = False)"
   ]
  },
  {
   "cell_type": "code",
   "execution_count": null,
   "metadata": {
    "collapsed": true
   },
   "outputs": [],
   "source": []
  }
 ],
 "metadata": {
  "kernelspec": {
   "display_name": "Python 3",
   "language": "python",
   "name": "python3"
  },
  "language_info": {
   "codemirror_mode": {
    "name": "ipython",
    "version": 3
   },
   "file_extension": ".py",
   "mimetype": "text/x-python",
   "name": "python",
   "nbconvert_exporter": "python",
   "pygments_lexer": "ipython3",
   "version": "3.6.2"
  },
  "varInspector": {
   "cols": {
    "lenName": 16,
    "lenType": 16,
    "lenVar": 40
   },
   "kernels_config": {
    "python": {
     "delete_cmd_postfix": "",
     "delete_cmd_prefix": "del ",
     "library": "var_list.py",
     "varRefreshCmd": "print(var_dic_list())"
    },
    "r": {
     "delete_cmd_postfix": ") ",
     "delete_cmd_prefix": "rm(",
     "library": "var_list.r",
     "varRefreshCmd": "cat(var_dic_list()) "
    }
   },
   "position": {
    "height": "531px",
    "left": "1166px",
    "right": "20px",
    "top": "120px",
    "width": "350px"
   },
   "types_to_exclude": [
    "module",
    "function",
    "builtin_function_or_method",
    "instance",
    "_Feature"
   ],
   "window_display": false
  }
 },
 "nbformat": 4,
 "nbformat_minor": 2
}
